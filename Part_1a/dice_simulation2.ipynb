{
 "cells": [
  {
   "cell_type": "markdown",
   "metadata": {},
   "source": [
    "# Dice Simulation"
   ]
  },
  {
   "cell_type": "code",
   "execution_count": null,
   "metadata": {},
   "outputs": [
    {
     "ename": "",
     "evalue": "",
     "output_type": "error",
     "traceback": [
      "\u001b[1;31mFailed to start the Kernel. \n",
      "\u001b[1;31mJupyter Server crashed. Unable to connect. \n",
      "\u001b[1;31mError code from Jupyter: 1\n",
      "\u001b[1;31mTraceback (most recent call last):\n",
      "\u001b[1;31m  File \"/Library/Frameworks/Python.framework/Versions/3.10/lib/python3.10/site-packages/notebook/traittypes.py\", line 232, in _resolve_classes\n",
      "\u001b[1;31m    klass = self._resolve_string(klass)\n",
      "\u001b[1;31m  File \"/Library/Frameworks/Python.framework/Versions/3.10/lib/python3.10/site-packages/traitlets/traitlets.py\", line 2015, in _resolve_string\n",
      "\u001b[1;31m    return import_item(string)\n",
      "\u001b[1;31m  File \"/Library/Frameworks/Python.framework/Versions/3.10/lib/python3.10/site-packages/traitlets/utils/importstring.py\", line 33, in import_item\n",
      "\u001b[1;31m    module = __import__(package, fromlist=[obj])\n",
      "\u001b[1;31mModuleNotFoundError: No module named 'jupyter_server'\n",
      "\u001b[1;31m\n",
      "\u001b[1;31mDuring handling of the above exception, another exception occurred:\n",
      "\u001b[1;31m\n",
      "\u001b[1;31mTraceback (most recent call last):\n",
      "\u001b[1;31m  File \"/Library/Frameworks/Python.framework/Versions/3.10/bin/jupyter-notebook\", line 8, in <module>\n",
      "\u001b[1;31m    sys.exit(main())\n",
      "\u001b[1;31m  File \"/Library/Frameworks/Python.framework/Versions/3.10/lib/python3.10/site-packages/jupyter_core/application.py\", line 283, in launch_instance\n",
      "\u001b[1;31m    super().launch_instance(argv=argv, **kwargs)\n",
      "\u001b[1;31m  File \"/Library/Frameworks/Python.framework/Versions/3.10/lib/python3.10/site-packages/traitlets/config/application.py\", line 1073, in launch_instance\n",
      "\u001b[1;31m    app = cls.instance(**kwargs)\n",
      "\u001b[1;31m  File \"/Library/Frameworks/Python.framework/Versions/3.10/lib/python3.10/site-packages/traitlets/config/configurable.py\", line 583, in instance\n",
      "\u001b[1;31m    inst = cls(*args, **kwargs)\n",
      "\u001b[1;31m  File \"/Library/Frameworks/Python.framework/Versions/3.10/lib/python3.10/site-packages/traitlets/traitlets.py\", line 1292, in __new__\n",
      "\u001b[1;31m    inst.setup_instance(*args, **kwargs)\n",
      "\u001b[1;31m  File \"/Library/Frameworks/Python.framework/Versions/3.10/lib/python3.10/site-packages/traitlets/traitlets.py\", line 1335, in setup_instance\n",
      "\u001b[1;31m    super(HasTraits, self).setup_instance(*args, **kwargs)\n",
      "\u001b[1;31m  File \"/Library/Frameworks/Python.framework/Versions/3.10/lib/python3.10/site-packages/traitlets/traitlets.py\", line 1311, in setup_instance\n",
      "\u001b[1;31m    init(self)\n",
      "\u001b[1;31m  File \"/Library/Frameworks/Python.framework/Versions/3.10/lib/python3.10/site-packages/notebook/traittypes.py\", line 223, in instance_init\n",
      "\u001b[1;31m    self._resolve_classes()\n",
      "\u001b[1;31m  File \"/Library/Frameworks/Python.framework/Versions/3.10/lib/python3.10/site-packages/notebook/traittypes.py\", line 235, in _resolve_classes\n",
      "\u001b[1;31m    warn(f\"{klass} is not importable. Is it installed?\", ImportWarning)\n",
      "\u001b[1;31mTypeError: warn() missing 1 required keyword-only argument: 'stacklevel'. \n",
      "\u001b[1;31mView Jupyter <a href='command:jupyter.viewOutput'>log</a> for further details."
     ]
    }
   ],
   "source": [
    "import numpy as np\n",
    "import pandas as pd\n",
    "\n",
    "\n",
    "def run_simulation(f=0.1, w=4, n=10):\n",
    "    \"\"\" \n",
    "    f: fraction of wealth wagered in each game. \n",
    "    w: winning threshold. Rolls at or below this number win.\n",
    "    n: number of games\n",
    "    returns: a list showing the wealth at each iteration, starting with 1.0.\n",
    "    \"\"\"\n",
    "    DICE = list(range(1, 7))\n",
    "    outcomes = [ 1 if x <= w else -1 for x in np.random.choice(DICE, size=n, replace=True) ]\n",
    "\n",
    "    wealth = [1.0]  # Start with one unit of wealth. The results are a list showing the whole history.\n",
    "    for result in outcomes:\n",
    "        wealth.append(wealth[-1] * (1 + f * result))\n",
    "    return wealth\n",
    "\n",
    "\n",
    "run_simulation(f=0.9, w=4, n=10)\n",
    "# use `run_simulation()[-1]`` to get just the final result"
   ]
  },
  {
   "cell_type": "code",
   "execution_count": 2,
   "metadata": {},
   "outputs": [],
   "source": [
    "num_iterations = 10000                          # It takes a lot of runs to overcome noise.\n",
    "wager_fractions = [f/100 for f in range(100+1)] # Plot a lot of points to help visualize variability.\n",
    "results_list = []\n",
    "n_values = [2**p for p in range(1, 11)]\n",
    "for w in [4]:\n",
    "    for f in wager_fractions:\n",
    "        for n in n_values:\n",
    "            sim_results = [run_simulation(f, w=w, n=n)[-1] for i in range(num_iterations)]\n",
    "            results_list.append({'f': f, 'n': n, 'w' :w, \n",
    "                                 'min': np.min(sim_results), \n",
    "                                 'mean': np.mean(sim_results), \n",
    "                                 'median':np.median(sim_results),\n",
    "                                 'max': np.max(sim_results), \n",
    "                                 'std': np.std(sim_results)\n",
    "            })\n",
    "\n",
    "results = pd.DataFrame(results_list)"
   ]
  },
  {
   "cell_type": "code",
   "execution_count": null,
   "metadata": {},
   "outputs": [],
   "source": [
    "def plot_results(results, y_column):\n",
    "    import seaborn as sns\n",
    "    sns.set_theme(style=\"ticks\")\n",
    "\n",
    "    sns.relplot(\n",
    "        data=results,\n",
    "        x=\"f\", y=y_column,\n",
    "        row=\"n\", kind=\"line\", markers=True,\n",
    "        height=0.8, aspect=8, facet_kws=dict(sharey=False),\n",
    "    )\n",
    "\n",
    "\n",
    "for my_stat in ['mean', 'median', 'std']:\n",
    "    plot_results(results, my_stat)"
   ]
  }
 ],
 "metadata": {
  "kernelspec": {
   "display_name": "nlp",
   "language": "python",
   "name": "python3"
  },
  "language_info": {
   "codemirror_mode": {
    "name": "ipython",
    "version": 3
   },
   "file_extension": ".py",
   "mimetype": "text/x-python",
   "name": "python",
   "nbconvert_exporter": "python",
   "pygments_lexer": "ipython3",
   "version": "3.10.1"
  }
 },
 "nbformat": 4,
 "nbformat_minor": 2
}
