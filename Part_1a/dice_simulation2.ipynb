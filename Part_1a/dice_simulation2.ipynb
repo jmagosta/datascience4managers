{
 "cells": [
  {
   "cell_type": "markdown",
   "metadata": {},
   "source": [
    "# Dice Simulation"
   ]
  },
  {
   "cell_type": "code",
   "execution_count": 2,
   "metadata": {},
   "outputs": [
    {
     "data": {
      "text/plain": [
       "[1.0,\n",
       " 1.9,\n",
       " 3.61,\n",
       " 6.858999999999999,\n",
       " 13.032099999999998,\n",
       " 24.760989999999996,\n",
       " 47.04588099999999,\n",
       " 89.38717389999996,\n",
       " 8.938717389999994,\n",
       " 16.983563040999986,\n",
       " 32.26876977789997]"
      ]
     },
     "execution_count": 2,
     "metadata": {},
     "output_type": "execute_result"
    }
   ],
   "source": [
    "import numpy as np\n",
    "import pandas as pd\n",
    "\n",
    "\n",
    "def run_simulation(f=0.1, w=4, n=10):\n",
    "    \"\"\" \n",
    "    f: fraction of wealth wagered in each game. \n",
    "    w: winning threshold. Rolls at or below this number win.\n",
    "    n: number of games\n",
    "    returns: a list showing the wealth at each iteration, starting with 1.0.\n",
    "    \"\"\"\n",
    "    DICE = list(range(1, 7))\n",
    "    outcomes = [ 1 if x <= w else -1 for x in np.random.choice(DICE, size=n, replace=True) ]\n",
    "\n",
    "    wealth = [1.0]  # Start with one unit of wealth. The results are a list showing the whole history.\n",
    "    for result in outcomes:\n",
    "        wealth.append(wealth[-1] * (1 + f * result))\n",
    "    return wealth\n",
    "\n",
    "\n",
    "run_simulation(f=0.9, w=4, n=10)\n",
    "# use `run_simulation()[-1]`` to get just the final result"
   ]
  },
  {
   "cell_type": "code",
   "execution_count": 2,
   "metadata": {},
   "outputs": [],
   "source": [
    "num_iterations = 10000                          # It takes a lot of runs to overcome noise.\n",
    "wager_fractions = [f/100 for f in range(100+1)] # Plot a lot of points to help visualize variability.\n",
    "results_list = []\n",
    "n_values = [2**p for p in range(1, 11)]\n",
    "for w in [4]:\n",
    "    for f in wager_fractions:\n",
    "        for n in n_values:\n",
    "            sim_results = [run_simulation(f, w=w, n=n)[-1] for i in range(num_iterations)]\n",
    "            results_list.append({'f': f, 'n': n, 'w' :w, \n",
    "                                 'min': np.min(sim_results), \n",
    "                                 'mean': np.mean(sim_results), \n",
    "                                 'median':np.median(sim_results),\n",
    "                                 'max': np.max(sim_results), \n",
    "                                 'std': np.std(sim_results)\n",
    "            })\n",
    "\n",
    "results = pd.DataFrame(results_list)"
   ]
  },
  {
   "cell_type": "code",
   "execution_count": null,
   "metadata": {},
   "outputs": [],
   "source": [
    "def plot_results(results, y_column):\n",
    "    import seaborn as sns\n",
    "    sns.set_theme(style=\"ticks\")\n",
    "\n",
    "    sns.relplot(\n",
    "        data=results,\n",
    "        x=\"f\", y=y_column,\n",
    "        row=\"n\", kind=\"line\", markers=True,\n",
    "        height=0.8, aspect=8, facet_kws=dict(sharey=False),\n",
    "    )\n",
    "\n",
    "\n",
    "for my_stat in ['mean', 'median', 'std']:\n",
    "    plot_results(results, my_stat)"
   ]
  }
 ],
 "metadata": {
  "kernelspec": {
   "display_name": "nlp",
   "language": "python",
   "name": "python3"
  },
  "language_info": {
   "codemirror_mode": {
    "name": "ipython",
    "version": 3
   },
   "file_extension": ".py",
   "mimetype": "text/x-python",
   "name": "python",
   "nbconvert_exporter": "python",
   "pygments_lexer": "ipython3",
   "version": "3.12.3"
  }
 },
 "nbformat": 4,
 "nbformat_minor": 2
}
