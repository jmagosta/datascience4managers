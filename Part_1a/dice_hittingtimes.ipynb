{
 "cells": [
  {
   "cell_type": "markdown",
   "metadata": {},
   "source": [
    "# Dice Simulation\n",
    "\n",
    "JMA July 2024\n",
    "\n",
    "A simulation based on Kelly-investment strategy to demonstrate sequential hedging and risk taking"
   ]
  },
  {
   "cell_type": "code",
   "execution_count": 36,
   "metadata": {},
   "outputs": [
    {
     "data": {
      "text/html": [
       "    <style>\n",
       "        .bk-notebook-logo {\n",
       "            display: block;\n",
       "            width: 20px;\n",
       "            height: 20px;\n",
       "            background-image: url(data:image/png;base64,iVBORw0KGgoAAAANSUhEUgAAABQAAAAUCAYAAACNiR0NAAAABHNCSVQICAgIfAhkiAAAAAlwSFlzAAALEgAACxIB0t1+/AAAABx0RVh0U29mdHdhcmUAQWRvYmUgRmlyZXdvcmtzIENTNui8sowAAAOkSURBVDiNjZRtaJVlGMd/1/08zzln5zjP1LWcU9N0NkN8m2CYjpgQYQXqSs0I84OLIC0hkEKoPtiH3gmKoiJDU7QpLgoLjLIQCpEsNJ1vqUOdO7ppbuec5+V+rj4ctwzd8IIbbi6u+8f1539dt3A78eXC7QizUF7gyV1fD1Yqg4JWz84yffhm0qkFqBogB9rM8tZdtwVsPUhWhGcFJngGeWrPzHm5oaMmkfEg1usvLFyc8jLRqDOMru7AyC8saQr7GG7f5fvDeH7Ej8CM66nIF+8yngt6HWaKh7k49Soy9nXurCi1o3qUbS3zWfrYeQDTB/Qj6kX6Ybhw4B+bOYoLKCC9H3Nu/leUTZ1JdRWkkn2ldcCamzrcf47KKXdAJllSlxAOkRgyHsGC/zRday5Qld9DyoM4/q/rUoy/CXh3jzOu3bHUVZeU+DEn8FInkPBFlu3+nW3Nw0mk6vCDiWg8CeJaxEwuHS3+z5RgY+YBR6V1Z1nxSOfoaPa4LASWxxdNp+VWTk7+4vzaou8v8PN+xo+KY2xsw6une2frhw05CTYOmQvsEhjhWjn0bmXPjpE1+kplmmkP3suftwTubK9Vq22qKmrBhpY4jvd5afdRA3wGjFAgcnTK2s4hY0/GPNIb0nErGMCRxWOOX64Z8RAC4oCXdklmEvcL8o0BfkNK4lUg9HTl+oPlQxdNo3Mg4Nv175e/1LDGzZen30MEjRUtmXSfiTVu1kK8W4txyV6BMKlbgk3lMwYCiusNy9fVfvvwMxv8Ynl6vxoByANLTWplvuj/nF9m2+PDtt1eiHPBr1oIfhCChQMBw6Aw0UulqTKZdfVvfG7VcfIqLG9bcldL/+pdWTLxLUy8Qq38heUIjh4XlzZxzQm19lLFlr8vdQ97rjZVOLf8nclzckbcD4wxXMidpX30sFd37Fv/GtwwhzhxGVAprjbg0gCAEeIgwCZyTV2Z1REEW8O4py0wsjeloKoMr6iCY6dP92H6Vw/oTyICIthibxjm/DfN9lVz8IqtqKYLUXfoKVMVQVVJOElGjrnnUt9T9wbgp8AyYKaGlqingHZU/uG2NTZSVqwHQTWkx9hxjkpWDaCg6Ckj5qebgBVbT3V3NNXMSiWSDdGV3hrtzla7J+duwPOToIg42ChPQOQjspnSlp1V+Gjdged7+8UN5CRAV7a5EdFNwCjEaBR27b3W890TE7g24NAP/mMDXRWrGoFPQI9ls/MWO2dWFAar/xcOIImbbpA3zgAAAABJRU5ErkJggg==);\n",
       "        }\n",
       "    </style>\n",
       "    <div>\n",
       "        <a href=\"https://bokeh.org\" target=\"_blank\" class=\"bk-notebook-logo\"></a>\n",
       "        <span id=\"d618d6cf-dc38-4891-96bc-0802d030cfc3\">Loading BokehJS ...</span>\n",
       "    </div>\n"
      ]
     },
     "metadata": {},
     "output_type": "display_data"
    },
    {
     "data": {
      "application/javascript": "'use strict';\n(function(root) {\n  function now() {\n    return new Date();\n  }\n\n  const force = true;\n\n  if (typeof root._bokeh_onload_callbacks === \"undefined\" || force === true) {\n    root._bokeh_onload_callbacks = [];\n    root._bokeh_is_loading = undefined;\n  }\n\nconst JS_MIME_TYPE = 'application/javascript';\n  const HTML_MIME_TYPE = 'text/html';\n  const EXEC_MIME_TYPE = 'application/vnd.bokehjs_exec.v0+json';\n  const CLASS_NAME = 'output_bokeh rendered_html';\n\n  /**\n   * Render data to the DOM node\n   */\n  function render(props, node) {\n    const script = document.createElement(\"script\");\n    node.appendChild(script);\n  }\n\n  /**\n   * Handle when an output is cleared or removed\n   */\n  function handleClearOutput(event, handle) {\n    function drop(id) {\n      const view = Bokeh.index.get_by_id(id)\n      if (view != null) {\n        view.model.document.clear()\n        Bokeh.index.delete(view)\n      }\n    }\n\n    const cell = handle.cell;\n\n    const id = cell.output_area._bokeh_element_id;\n    const server_id = cell.output_area._bokeh_server_id;\n\n    // Clean up Bokeh references\n    if (id != null) {\n      drop(id)\n    }\n\n    if (server_id !== undefined) {\n      // Clean up Bokeh references\n      const cmd_clean = \"from bokeh.io.state import curstate; print(curstate().uuid_to_server['\" + server_id + \"'].get_sessions()[0].document.roots[0]._id)\";\n      cell.notebook.kernel.execute(cmd_clean, {\n        iopub: {\n          output: function(msg) {\n            const id = msg.content.text.trim()\n            drop(id)\n          }\n        }\n      });\n      // Destroy server and session\n      const cmd_destroy = \"import bokeh.io.notebook as ion; ion.destroy_server('\" + server_id + \"')\";\n      cell.notebook.kernel.execute(cmd_destroy);\n    }\n  }\n\n  /**\n   * Handle when a new output is added\n   */\n  function handleAddOutput(event, handle) {\n    const output_area = handle.output_area;\n    const output = handle.output;\n\n    // limit handleAddOutput to display_data with EXEC_MIME_TYPE content only\n    if ((output.output_type != \"display_data\") || (!Object.prototype.hasOwnProperty.call(output.data, EXEC_MIME_TYPE))) {\n      return\n    }\n\n    const toinsert = output_area.element.find(\".\" + CLASS_NAME.split(' ')[0]);\n\n    if (output.metadata[EXEC_MIME_TYPE][\"id\"] !== undefined) {\n      toinsert[toinsert.length - 1].firstChild.textContent = output.data[JS_MIME_TYPE];\n      // store reference to embed id on output_area\n      output_area._bokeh_element_id = output.metadata[EXEC_MIME_TYPE][\"id\"];\n    }\n    if (output.metadata[EXEC_MIME_TYPE][\"server_id\"] !== undefined) {\n      const bk_div = document.createElement(\"div\");\n      bk_div.innerHTML = output.data[HTML_MIME_TYPE];\n      const script_attrs = bk_div.children[0].attributes;\n      for (let i = 0; i < script_attrs.length; i++) {\n        toinsert[toinsert.length - 1].firstChild.setAttribute(script_attrs[i].name, script_attrs[i].value);\n        toinsert[toinsert.length - 1].firstChild.textContent = bk_div.children[0].textContent\n      }\n      // store reference to server id on output_area\n      output_area._bokeh_server_id = output.metadata[EXEC_MIME_TYPE][\"server_id\"];\n    }\n  }\n\n  function register_renderer(events, OutputArea) {\n\n    function append_mime(data, metadata, element) {\n      // create a DOM node to render to\n      const toinsert = this.create_output_subarea(\n        metadata,\n        CLASS_NAME,\n        EXEC_MIME_TYPE\n      );\n      this.keyboard_manager.register_events(toinsert);\n      // Render to node\n      const props = {data: data, metadata: metadata[EXEC_MIME_TYPE]};\n      render(props, toinsert[toinsert.length - 1]);\n      element.append(toinsert);\n      return toinsert\n    }\n\n    /* Handle when an output is cleared or removed */\n    events.on('clear_output.CodeCell', handleClearOutput);\n    events.on('delete.Cell', handleClearOutput);\n\n    /* Handle when a new output is added */\n    events.on('output_added.OutputArea', handleAddOutput);\n\n    /**\n     * Register the mime type and append_mime function with output_area\n     */\n    OutputArea.prototype.register_mime_type(EXEC_MIME_TYPE, append_mime, {\n      /* Is output safe? */\n      safe: true,\n      /* Index of renderer in `output_area.display_order` */\n      index: 0\n    });\n  }\n\n  // register the mime type if in Jupyter Notebook environment and previously unregistered\n  if (root.Jupyter !== undefined) {\n    const events = require('base/js/events');\n    const OutputArea = require('notebook/js/outputarea').OutputArea;\n\n    if (OutputArea.prototype.mime_types().indexOf(EXEC_MIME_TYPE) == -1) {\n      register_renderer(events, OutputArea);\n    }\n  }\n  if (typeof (root._bokeh_timeout) === \"undefined\" || force === true) {\n    root._bokeh_timeout = Date.now() + 5000;\n    root._bokeh_failed_load = false;\n  }\n\n  const NB_LOAD_WARNING = {'data': {'text/html':\n     \"<div style='background-color: #fdd'>\\n\"+\n     \"<p>\\n\"+\n     \"BokehJS does not appear to have successfully loaded. If loading BokehJS from CDN, this \\n\"+\n     \"may be due to a slow or bad network connection. Possible fixes:\\n\"+\n     \"</p>\\n\"+\n     \"<ul>\\n\"+\n     \"<li>re-rerun `output_notebook()` to attempt to load from CDN again, or</li>\\n\"+\n     \"<li>use INLINE resources instead, as so:</li>\\n\"+\n     \"</ul>\\n\"+\n     \"<code>\\n\"+\n     \"from bokeh.resources import INLINE\\n\"+\n     \"output_notebook(resources=INLINE)\\n\"+\n     \"</code>\\n\"+\n     \"</div>\"}};\n\n  function display_loaded(error = null) {\n    const el = document.getElementById(\"d618d6cf-dc38-4891-96bc-0802d030cfc3\");\n    if (el != null) {\n      const html = (() => {\n        if (typeof root.Bokeh === \"undefined\") {\n          if (error == null) {\n            return \"BokehJS is loading ...\";\n          } else {\n            return \"BokehJS failed to load.\";\n          }\n        } else {\n          const prefix = `BokehJS ${root.Bokeh.version}`;\n          if (error == null) {\n            return `${prefix} successfully loaded.`;\n          } else {\n            return `${prefix} <b>encountered errors</b> while loading and may not function as expected.`;\n          }\n        }\n      })();\n      el.innerHTML = html;\n\n      if (error != null) {\n        const wrapper = document.createElement(\"div\");\n        wrapper.style.overflow = \"auto\";\n        wrapper.style.height = \"5em\";\n        wrapper.style.resize = \"vertical\";\n        const content = document.createElement(\"div\");\n        content.style.fontFamily = \"monospace\";\n        content.style.whiteSpace = \"pre-wrap\";\n        content.style.backgroundColor = \"rgb(255, 221, 221)\";\n        content.textContent = error.stack ?? error.toString();\n        wrapper.append(content);\n        el.append(wrapper);\n      }\n    } else if (Date.now() < root._bokeh_timeout) {\n      setTimeout(() => display_loaded(error), 100);\n    }\n  }\n\n  function run_callbacks() {\n    try {\n      root._bokeh_onload_callbacks.forEach(function(callback) {\n        if (callback != null)\n          callback();\n      });\n    } finally {\n      delete root._bokeh_onload_callbacks\n    }\n    console.debug(\"Bokeh: all callbacks have finished\");\n  }\n\n  function load_libs(css_urls, js_urls, callback) {\n    if (css_urls == null) css_urls = [];\n    if (js_urls == null) js_urls = [];\n\n    root._bokeh_onload_callbacks.push(callback);\n    if (root._bokeh_is_loading > 0) {\n      console.debug(\"Bokeh: BokehJS is being loaded, scheduling callback at\", now());\n      return null;\n    }\n    if (js_urls == null || js_urls.length === 0) {\n      run_callbacks();\n      return null;\n    }\n    console.debug(\"Bokeh: BokehJS not loaded, scheduling load and callback at\", now());\n    root._bokeh_is_loading = css_urls.length + js_urls.length;\n\n    function on_load() {\n      root._bokeh_is_loading--;\n      if (root._bokeh_is_loading === 0) {\n        console.debug(\"Bokeh: all BokehJS libraries/stylesheets loaded\");\n        run_callbacks()\n      }\n    }\n\n    function on_error(url) {\n      console.error(\"failed to load \" + url);\n    }\n\n    for (let i = 0; i < css_urls.length; i++) {\n      const url = css_urls[i];\n      const element = document.createElement(\"link\");\n      element.onload = on_load;\n      element.onerror = on_error.bind(null, url);\n      element.rel = \"stylesheet\";\n      element.type = \"text/css\";\n      element.href = url;\n      console.debug(\"Bokeh: injecting link tag for BokehJS stylesheet: \", url);\n      document.body.appendChild(element);\n    }\n\n    for (let i = 0; i < js_urls.length; i++) {\n      const url = js_urls[i];\n      const element = document.createElement('script');\n      element.onload = on_load;\n      element.onerror = on_error.bind(null, url);\n      element.async = false;\n      element.src = url;\n      console.debug(\"Bokeh: injecting script tag for BokehJS library: \", url);\n      document.head.appendChild(element);\n    }\n  };\n\n  function inject_raw_css(css) {\n    const element = document.createElement(\"style\");\n    element.appendChild(document.createTextNode(css));\n    document.body.appendChild(element);\n  }\n\n  const js_urls = [\"https://cdn.bokeh.org/bokeh/release/bokeh-3.5.0.min.js\", \"https://cdn.bokeh.org/bokeh/release/bokeh-gl-3.5.0.min.js\", \"https://cdn.bokeh.org/bokeh/release/bokeh-widgets-3.5.0.min.js\", \"https://cdn.bokeh.org/bokeh/release/bokeh-tables-3.5.0.min.js\", \"https://cdn.bokeh.org/bokeh/release/bokeh-mathjax-3.5.0.min.js\"];\n  const css_urls = [];\n\n  const inline_js = [    function(Bokeh) {\n      Bokeh.set_log_level(\"info\");\n    },\nfunction(Bokeh) {\n    }\n  ];\n\n  function run_inline_js() {\n    if (root.Bokeh !== undefined || force === true) {\n      try {\n            for (let i = 0; i < inline_js.length; i++) {\n      inline_js[i].call(root, root.Bokeh);\n    }\n\n      } catch (error) {display_loaded(error);throw error;\n      }if (force === true) {\n        display_loaded();\n      }} else if (Date.now() < root._bokeh_timeout) {\n      setTimeout(run_inline_js, 100);\n    } else if (!root._bokeh_failed_load) {\n      console.log(\"Bokeh: BokehJS failed to load within specified timeout.\");\n      root._bokeh_failed_load = true;\n    } else if (force !== true) {\n      const cell = $(document.getElementById(\"d618d6cf-dc38-4891-96bc-0802d030cfc3\")).parents('.cell').data().cell;\n      cell.output_area.append_execute_result(NB_LOAD_WARNING)\n    }\n  }\n\n  if (root._bokeh_is_loading === 0) {\n    console.debug(\"Bokeh: BokehJS loaded, going straight to plotting\");\n    run_inline_js();\n  } else {\n    load_libs(css_urls, js_urls, function() {\n      console.debug(\"Bokeh: BokehJS plotting callback run at\", now());\n      run_inline_js();\n    });\n  }\n}(window));",
      "application/vnd.bokehjs_load.v0+json": ""
     },
     "metadata": {},
     "output_type": "display_data"
    }
   ],
   "source": [
    "import pickle\n",
    "from pathlib import Path\n",
    "import numpy as np\n",
    "from numpy.random import default_rng\n",
    "import pandas as pd\n",
    "import seaborn as sns\n",
    "\n",
    "from bokeh.plotting import figure, show\n",
    "from bokeh.layouts import column, row\n",
    "from bokeh.models import ColumnDataSource, VBar, Span\n",
    "from bokeh.io import output_notebook\n",
    "output_notebook()\n",
    "\n",
    "rng = default_rng(seed=101)\n",
    "\n",
    "DICE_SIDES = 60\n",
    "DICE_THRESHOLD = 45 \n",
    "OCTAVES = [pow(2, k) for k in range(1,8)]\n",
    "NUM_PERIODS = OCTAVES[-1]\n",
    "WIN_BETA_PRIORS = {\"a\": 45, \"b\":(60-45)}\n",
    "SIMULATION_COUNT = 1000\n",
    "PKL_FILENAME = f'trajectories_{NUM_PERIODS}_by_{SIMULATION_COUNT}.pkl'\n"
   ]
  },
  {
   "cell_type": "code",
   "execution_count": 37,
   "metadata": {},
   "outputs": [
    {
     "data": {
      "text/plain": [
       "[8, 16, 32, 64, 128]"
      ]
     },
     "execution_count": 37,
     "metadata": {},
     "output_type": "execute_result"
    }
   ],
   "source": [
    "OCTAVES"
   ]
  },
  {
   "cell_type": "code",
   "execution_count": 38,
   "metadata": {},
   "outputs": [
    {
     "data": {
      "text/plain": [
       "'True probability of an investment win: 0.75,  Prior 0.75'"
      ]
     },
     "execution_count": 38,
     "metadata": {},
     "output_type": "execute_result"
    }
   ],
   "source": [
    "def beta_mean(beta):\n",
    "    return beta['a']/(beta['a'] + beta['b'])\n",
    "\n",
    "def fair_win_probability(sides=DICE_SIDES, win_thresh= DICE_THRESHOLD):\n",
    "    \"Probability of a winning investment\"\n",
    "    fair_win = win_thresh / sides\n",
    "    return fair_win\n",
    "\n",
    "fair_win_p = fair_win_probability()\n",
    "f'True probability of an investment win: {fair_win_p:.3},  Prior {beta_mean(WIN_BETA_PRIORS):.3}'"
   ]
  },
  {
   "cell_type": "code",
   "execution_count": 39,
   "metadata": {},
   "outputs": [
    {
     "data": {
      "text/plain": [
       "\"Beta parameters: {'a': 143, 'b': 45}, mean: 0.7606\""
      ]
     },
     "execution_count": 39,
     "metadata": {},
     "output_type": "execute_result"
    }
   ],
   "source": [
    "def win_prob_estimate(win_or_loss, priors):\n",
    "    'Assume a beta distribution. Do an update assuming a binomial process'\n",
    "    if win_or_loss == 1:\n",
    "        priors['a'] +=1\n",
    "    else:\n",
    "        priors['b'] +=1\n",
    "    beta_mean = priors['a'] /(priors['a']+ priors['b'])\n",
    "    return beta_mean, priors\n",
    "\n",
    "def investment_process(true_win_p, rounds=NUM_PERIODS):\n",
    "    'A sequence of 1s and 0s, with win == 1, loss = 0. For the true win stochastic process.'\n",
    "    return rng.binomial(1, true_win_p, rounds)\n",
    "\n",
    "def beta_update(wins, prior=WIN_BETA_PRIORS, rounds=NUM_PERIODS):\n",
    "    'For the unobserved actual win sequence  compute the observed, estimated win prob update.'\n",
    "    win_estimates = np.zeros(rounds)\n",
    "    for k, a_win in enumerate(wins):\n",
    "        win_estimates[k], prior = win_prob_estimate(a_win, prior)\n",
    "    return win_estimates, prior\n",
    "    \n",
    "wins = investment_process(fair_win_p)\n",
    "win_p_estimates, prior = beta_update(wins)\n",
    "f'Beta parameters: {prior}, mean: {beta_mean(prior):.4}'"
   ]
  },
  {
   "cell_type": "code",
   "execution_count": 40,
   "metadata": {},
   "outputs": [],
   "source": [
    "def kelly_rule(p):\n",
    "    'The fraction to bet for an assumed win probability'\n",
    "    # This works as a vectorized function \n",
    "    return ((2*p - 1) * (p > 0.5))\n",
    "\n",
    "\n",
    "def log_wealth_trajectory(wins, win_p_estimate):\n",
    "    \"\"\"\n",
    "    Use the estimated win probability update as the bet fraction, using the Kelly rule\n",
    "    \"\"\"\n",
    "    # The log increment for a win is different than for a loss -- is that a problem? \n",
    "    log_inc = np.log(1+ (2*wins-1) * kelly_rule(win_p_estimate))\n",
    "    trajectory = np.cumsum(log_inc)\n",
    "    return trajectory"
   ]
  },
  {
   "cell_type": "code",
   "execution_count": 41,
   "metadata": {},
   "outputs": [],
   "source": [
    "estimate_cds = ColumnDataSource(pd.DataFrame({'estimate': win_p_estimates}).reset_index())\n",
    "pb= figure(\n",
    "        title=\"Running Bayes estimate of win probability. \",\n",
    "        y_range=(min(0.98 *fair_win_p, np.min(win_p_estimates)), max(1.02 *fair_win_p, np.max(win_p_estimates))),\n",
    "        width = 900, height = 480)\n",
    "pb.line(x='index', y='estimate', source=estimate_cds)\n",
    "actual_p = Span(location=fair_win_p, dimension='width', line_dash='dotdash')\n",
    "pb.renderers.extend([actual_p])\n"
   ]
  },
  {
   "cell_type": "code",
   "execution_count": 42,
   "metadata": {},
   "outputs": [
    {
     "data": {
      "text/html": [
       "\n",
       "  <div id=\"c9d39fbd-f536-49d5-8b53-74dead9dd2de\" data-root-id=\"p2347\" style=\"display: contents;\"></div>\n"
      ]
     },
     "metadata": {},
     "output_type": "display_data"
    },
    {
     "data": {
      "application/javascript": "(function(root) {\n  function embed_document(root) {\n  const docs_json = {\"cec38cff-1148-4cc9-979c-8b8c53cfbd29\":{\"version\":\"3.5.0\",\"title\":\"Bokeh Application\",\"roots\":[{\"type\":\"object\",\"name\":\"Column\",\"id\":\"p2347\",\"attributes\":{\"children\":[{\"type\":\"object\",\"name\":\"Figure\",\"id\":\"p2254\",\"attributes\":{\"width\":900,\"height\":480,\"x_range\":{\"type\":\"object\",\"name\":\"DataRange1d\",\"id\":\"p2256\"},\"y_range\":{\"type\":\"object\",\"name\":\"Range1d\",\"id\":\"p2264\",\"attributes\":{\"start\":0.7021276595744681,\"end\":0.765}},\"x_scale\":{\"type\":\"object\",\"name\":\"LinearScale\",\"id\":\"p2265\"},\"y_scale\":{\"type\":\"object\",\"name\":\"LinearScale\",\"id\":\"p2266\"},\"title\":{\"type\":\"object\",\"name\":\"Title\",\"id\":\"p2257\",\"attributes\":{\"text\":\"Running Bayes estimate of win probability. \"}},\"renderers\":[{\"type\":\"object\",\"name\":\"GlyphRenderer\",\"id\":\"p2296\",\"attributes\":{\"data_source\":{\"type\":\"object\",\"name\":\"ColumnDataSource\",\"id\":\"p2251\",\"attributes\":{\"selected\":{\"type\":\"object\",\"name\":\"Selection\",\"id\":\"p2252\",\"attributes\":{\"indices\":[],\"line_indices\":[]}},\"selection_policy\":{\"type\":\"object\",\"name\":\"UnionRenderers\",\"id\":\"p2253\"},\"data\":{\"type\":\"map\",\"entries\":[[\"level_0\",{\"type\":\"ndarray\",\"array\":{\"type\":\"bytes\",\"data\":\"AAAAAAEAAAACAAAAAwAAAAQAAAAFAAAABgAAAAcAAAAIAAAACQAAAAoAAAALAAAADAAAAA0AAAAOAAAADwAAABAAAAARAAAAEgAAABMAAAAUAAAAFQAAABYAAAAXAAAAGAAAABkAAAAaAAAAGwAAABwAAAAdAAAAHgAAAB8AAAAgAAAAIQAAACIAAAAjAAAAJAAAACUAAAAmAAAAJwAAACgAAAApAAAAKgAAACsAAAAsAAAALQAAAC4AAAAvAAAAMAAAADEAAAAyAAAAMwAAADQAAAA1AAAANgAAADcAAAA4AAAAOQAAADoAAAA7AAAAPAAAAD0AAAA+AAAAPwAAAEAAAABBAAAAQgAAAEMAAABEAAAARQAAAEYAAABHAAAASAAAAEkAAABKAAAASwAAAEwAAABNAAAATgAAAE8AAABQAAAAUQAAAFIAAABTAAAAVAAAAFUAAABWAAAAVwAAAFgAAABZAAAAWgAAAFsAAABcAAAAXQAAAF4AAABfAAAAYAAAAGEAAABiAAAAYwAAAGQAAABlAAAAZgAAAGcAAABoAAAAaQAAAGoAAABrAAAAbAAAAG0AAABuAAAAbwAAAHAAAABxAAAAcgAAAHMAAAB0AAAAdQAAAHYAAAB3AAAAeAAAAHkAAAB6AAAAewAAAHwAAAB9AAAAfgAAAH8AAAA=\"},\"shape\":[128],\"dtype\":\"int32\",\"order\":\"little\"}],[\"index\",{\"type\":\"ndarray\",\"array\":{\"type\":\"bytes\",\"data\":\"AAAAAAEAAAACAAAAAwAAAAQAAAAFAAAABgAAAAcAAAAIAAAACQAAAAoAAAALAAAADAAAAA0AAAAOAAAADwAAABAAAAARAAAAEgAAABMAAAAUAAAAFQAAABYAAAAXAAAAGAAAABkAAAAaAAAAGwAAABwAAAAdAAAAHgAAAB8AAAAgAAAAIQAAACIAAAAjAAAAJAAAACUAAAAmAAAAJwAAACgAAAApAAAAKgAAACsAAAAsAAAALQAAAC4AAAAvAAAAMAAAADEAAAAyAAAAMwAAADQAAAA1AAAANgAAADcAAAA4AAAAOQAAADoAAAA7AAAAPAAAAD0AAAA+AAAAPwAAAEAAAABBAAAAQgAAAEMAAABEAAAARQAAAEYAAABHAAAASAAAAEkAAABKAAAASwAAAEwAAABNAAAATgAAAE8AAABQAAAAUQAAAFIAAABTAAAAVAAAAFUAAABWAAAAVwAAAFgAAABZAAAAWgAAAFsAAABcAAAAXQAAAF4AAABfAAAAYAAAAGEAAABiAAAAYwAAAGQAAABlAAAAZgAAAGcAAABoAAAAaQAAAGoAAABrAAAAbAAAAG0AAABuAAAAbwAAAHAAAABxAAAAcgAAAHMAAAB0AAAAdQAAAHYAAAB3AAAAeAAAAHkAAAB6AAAAewAAAHwAAAB9AAAAfgAAAH8AAAA=\"},\"shape\":[128],\"dtype\":\"int32\",\"order\":\"little\"}],[\"estimate\",{\"type\":\"ndarray\",\"array\":{\"type\":\"bytes\",\"data\":\"45IhWEeb5z++9957773nP9d1Xdd1Xec/AAAAAACA5z8YeqEXeqHnP0YXXXTRRec/jYn0QOXs5j8PDw8PDw/nP2wH5tqBueY/t23btm3b5j8g0QqbA4nmP6uqqqqqquY/tmzZsmXL5j+0bjBFPuvmP5020GkDneY/ymsor6G85j+3bdu2bdvmP5dv+ZZv+eY/LW7C/K4W5z8zMzMzMzPnP5sfFikDT+c/aleidiVq5z8+5LJioITnP+h5nud5nuc/V1dXV1dX5z/EHXFH3BHnPzXCck8jLOc/RhdddNFF5z9wgQtc4ALnPxdswRZsweY/t23btm3b5j9vetOb3vTmP7bWWmutteY/2qjvbNR35j8YaccKhJHmP6uqqqqqquY/d7M8iUzD5j+isT401ofmP0uBWr9SoOY/uB6F61G45j86NQ9y18/mP+fm5ubm5uY/a2NouoP95j87sRM7sRPnP5dyKZdyKec/SE0w3so+5z9pfGQCvVPnP4X2EtpLaOc/yHfhIHp85z+QpwR5SpDnPzx6ZWy/o+c/27Zt27Zt5z8gEnj7IYHnP8Z0FtNZTOc/dknlw7hf5z8jLPc0wnLnP/dzP/dzP+c/eWxF0HBS5z/XRCDXRCDnPzMzMzMzM+c/RhdddNFF5z96n+KSIVjnP2pXonYlauc/fO+999575z+yne+nxkvnP8dxHMdxHOc/zOVyuVwu5z8AAAAAAEDnP9QVdUVdUec/J3ZiJ3Zi5z/Vsbc2THPnP0YXXXTRRec/anWn1Z1W5z9rTKQHKmfnP3d3d3d3d+c/S0tLS0tL5z8POFI0xB/nP29605ve9OY/iOIvcoYF5z+3bdu2bdvmP9xjLUMH7OY/jd8u9WT85j+DWVIOiAznP8dxHMdxHOc/QzpvMaTz5j84cODAgQPnP8WV7g0oE+c/KvJZN5gi5z99GzBU0zHnP0GnDXTaQOc/uj5dn65P5z/lNZTXUF7nPxfCbBfCbOc/DewdUwN75z+JV5F4FYnnP3D5lm/5luc/+dMWGrCk5z9kz0BUOrLnPyv7HFITjOc/mpmZmZmZ5z9605ve9KbnP2/ND4uUgec/BtQzleuO5z+cj8H5GJznP6nXkXodqec/JbzR1Pm15z/HUibBrsLnP/Q8z/M8z+c/4vPHHKXb5z/o5+fn5+fnP0J8B/EdxOc/9AV9QV/Q5z+drvJMfNznP1uHfrN16Oc/q+WNEUz05z8AAAAAAADoP2+jPxSSC+g/gQtc4AIX6D/U5CDzUiLoP9iCLdiCLeg/ualonlAL6D9ogRZogRboP7R5n+KSIeg/QxaykIUs6D92gynyWTfoP0IIIYQQQug/TdgGwalM6D9BTK4gJlfoPw==\"},\"shape\":[128],\"dtype\":\"float64\",\"order\":\"little\"}]]}}},\"view\":{\"type\":\"object\",\"name\":\"CDSView\",\"id\":\"p2297\",\"attributes\":{\"filter\":{\"type\":\"object\",\"name\":\"AllIndices\",\"id\":\"p2298\"}}},\"glyph\":{\"type\":\"object\",\"name\":\"Line\",\"id\":\"p2293\",\"attributes\":{\"x\":{\"type\":\"field\",\"field\":\"index\"},\"y\":{\"type\":\"field\",\"field\":\"estimate\"},\"line_color\":\"#1f77b4\"}},\"nonselection_glyph\":{\"type\":\"object\",\"name\":\"Line\",\"id\":\"p2294\",\"attributes\":{\"x\":{\"type\":\"field\",\"field\":\"index\"},\"y\":{\"type\":\"field\",\"field\":\"estimate\"},\"line_color\":\"#1f77b4\",\"line_alpha\":0.1}},\"muted_glyph\":{\"type\":\"object\",\"name\":\"Line\",\"id\":\"p2295\",\"attributes\":{\"x\":{\"type\":\"field\",\"field\":\"index\"},\"y\":{\"type\":\"field\",\"field\":\"estimate\"},\"line_color\":\"#1f77b4\",\"line_alpha\":0.2}}}},{\"type\":\"object\",\"name\":\"Span\",\"id\":\"p2299\",\"attributes\":{\"location\":0.75,\"line_dash\":[2,4,6,4]}}],\"toolbar\":{\"type\":\"object\",\"name\":\"Toolbar\",\"id\":\"p2263\",\"attributes\":{\"tools\":[{\"type\":\"object\",\"name\":\"PanTool\",\"id\":\"p2277\"},{\"type\":\"object\",\"name\":\"WheelZoomTool\",\"id\":\"p2278\",\"attributes\":{\"renderers\":\"auto\"}},{\"type\":\"object\",\"name\":\"BoxZoomTool\",\"id\":\"p2279\",\"attributes\":{\"overlay\":{\"type\":\"object\",\"name\":\"BoxAnnotation\",\"id\":\"p2280\",\"attributes\":{\"syncable\":false,\"line_color\":\"black\",\"line_alpha\":1.0,\"line_width\":2,\"line_dash\":[4,4],\"fill_color\":\"lightgrey\",\"fill_alpha\":0.5,\"level\":\"overlay\",\"visible\":false,\"left\":{\"type\":\"number\",\"value\":\"nan\"},\"right\":{\"type\":\"number\",\"value\":\"nan\"},\"top\":{\"type\":\"number\",\"value\":\"nan\"},\"bottom\":{\"type\":\"number\",\"value\":\"nan\"},\"left_units\":\"canvas\",\"right_units\":\"canvas\",\"top_units\":\"canvas\",\"bottom_units\":\"canvas\",\"handles\":{\"type\":\"object\",\"name\":\"BoxInteractionHandles\",\"id\":\"p2286\",\"attributes\":{\"all\":{\"type\":\"object\",\"name\":\"AreaVisuals\",\"id\":\"p2285\",\"attributes\":{\"fill_color\":\"white\",\"hover_fill_color\":\"lightgray\"}}}}}}}},{\"type\":\"object\",\"name\":\"SaveTool\",\"id\":\"p2287\"},{\"type\":\"object\",\"name\":\"ResetTool\",\"id\":\"p2288\"},{\"type\":\"object\",\"name\":\"HelpTool\",\"id\":\"p2289\"}]}},\"left\":[{\"type\":\"object\",\"name\":\"LinearAxis\",\"id\":\"p2272\",\"attributes\":{\"ticker\":{\"type\":\"object\",\"name\":\"BasicTicker\",\"id\":\"p2273\",\"attributes\":{\"mantissas\":[1,2,5]}},\"formatter\":{\"type\":\"object\",\"name\":\"BasicTickFormatter\",\"id\":\"p2274\"},\"major_label_policy\":{\"type\":\"object\",\"name\":\"AllLabels\",\"id\":\"p2275\"}}}],\"below\":[{\"type\":\"object\",\"name\":\"LinearAxis\",\"id\":\"p2267\",\"attributes\":{\"ticker\":{\"type\":\"object\",\"name\":\"BasicTicker\",\"id\":\"p2268\",\"attributes\":{\"mantissas\":[1,2,5]}},\"formatter\":{\"type\":\"object\",\"name\":\"BasicTickFormatter\",\"id\":\"p2269\"},\"major_label_policy\":{\"type\":\"object\",\"name\":\"AllLabels\",\"id\":\"p2270\"}}}],\"center\":[{\"type\":\"object\",\"name\":\"Grid\",\"id\":\"p2271\",\"attributes\":{\"axis\":{\"id\":\"p2267\"}}},{\"type\":\"object\",\"name\":\"Grid\",\"id\":\"p2276\",\"attributes\":{\"dimension\":1,\"axis\":{\"id\":\"p2272\"}}}]}},{\"type\":\"object\",\"name\":\"Figure\",\"id\":\"p2303\",\"attributes\":{\"width\":900,\"height\":480,\"x_range\":{\"type\":\"object\",\"name\":\"DataRange1d\",\"id\":\"p2304\"},\"y_range\":{\"type\":\"object\",\"name\":\"DataRange1d\",\"id\":\"p2305\"},\"x_scale\":{\"type\":\"object\",\"name\":\"LinearScale\",\"id\":\"p2313\"},\"y_scale\":{\"type\":\"object\",\"name\":\"LinearScale\",\"id\":\"p2314\"},\"title\":{\"type\":\"object\",\"name\":\"Title\",\"id\":\"p2306\",\"attributes\":{\"text\":\"Log value over multiple rounds. \"}},\"renderers\":[{\"type\":\"object\",\"name\":\"GlyphRenderer\",\"id\":\"p2344\",\"attributes\":{\"data_source\":{\"type\":\"object\",\"name\":\"ColumnDataSource\",\"id\":\"p2300\",\"attributes\":{\"selected\":{\"type\":\"object\",\"name\":\"Selection\",\"id\":\"p2301\",\"attributes\":{\"indices\":[],\"line_indices\":[]}},\"selection_policy\":{\"type\":\"object\",\"name\":\"UnionRenderers\",\"id\":\"p2302\"},\"data\":{\"type\":\"map\",\"entries\":[[\"level_0\",{\"type\":\"ndarray\",\"array\":{\"type\":\"bytes\",\"data\":\"AAAAAAEAAAACAAAAAwAAAAQAAAAFAAAABgAAAAcAAAAIAAAACQAAAAoAAAALAAAADAAAAA0AAAAOAAAADwAAABAAAAARAAAAEgAAABMAAAAUAAAAFQAAABYAAAAXAAAAGAAAABkAAAAaAAAAGwAAABwAAAAdAAAAHgAAAB8AAAAgAAAAIQAAACIAAAAjAAAAJAAAACUAAAAmAAAAJwAAACgAAAApAAAAKgAAACsAAAAsAAAALQAAAC4AAAAvAAAAMAAAADEAAAAyAAAAMwAAADQAAAA1AAAANgAAADcAAAA4AAAAOQAAADoAAAA7AAAAPAAAAD0AAAA+AAAAPwAAAEAAAABBAAAAQgAAAEMAAABEAAAARQAAAEYAAABHAAAASAAAAEkAAABKAAAASwAAAEwAAABNAAAATgAAAE8AAABQAAAAUQAAAFIAAABTAAAAVAAAAFUAAABWAAAAVwAAAFgAAABZAAAAWgAAAFsAAABcAAAAXQAAAF4AAABfAAAAYAAAAGEAAABiAAAAYwAAAGQAAABlAAAAZgAAAGcAAABoAAAAaQAAAGoAAABrAAAAbAAAAG0AAABuAAAAbwAAAHAAAABxAAAAcgAAAHMAAAB0AAAAdQAAAHYAAAB3AAAAeAAAAHkAAAB6AAAAewAAAHwAAAB9AAAAfgAAAH8AAAA=\"},\"shape\":[128],\"dtype\":\"int32\",\"order\":\"little\"}],[\"index\",{\"type\":\"ndarray\",\"array\":{\"type\":\"bytes\",\"data\":\"AAAAAAEAAAACAAAAAwAAAAQAAAAFAAAABgAAAAcAAAAIAAAACQAAAAoAAAALAAAADAAAAA0AAAAOAAAADwAAABAAAAARAAAAEgAAABMAAAAUAAAAFQAAABYAAAAXAAAAGAAAABkAAAAaAAAAGwAAABwAAAAdAAAAHgAAAB8AAAAgAAAAIQAAACIAAAAjAAAAJAAAACUAAAAmAAAAJwAAACgAAAApAAAAKgAAACsAAAAsAAAALQAAAC4AAAAvAAAAMAAAADEAAAAyAAAAMwAAADQAAAA1AAAANgAAADcAAAA4AAAAOQAAADoAAAA7AAAAPAAAAD0AAAA+AAAAPwAAAEAAAABBAAAAQgAAAEMAAABEAAAARQAAAEYAAABHAAAASAAAAEkAAABKAAAASwAAAEwAAABNAAAATgAAAE8AAABQAAAAUQAAAFIAAABTAAAAVAAAAFUAAABWAAAAVwAAAFgAAABZAAAAWgAAAFsAAABcAAAAXQAAAF4AAABfAAAAYAAAAGEAAABiAAAAYwAAAGQAAABlAAAAZgAAAGcAAABoAAAAaQAAAGoAAABrAAAAbAAAAG0AAABuAAAAbwAAAHAAAABxAAAAcgAAAHMAAAB0AAAAdQAAAHYAAAB3AAAAeAAAAHkAAAB6AAAAewAAAHwAAAB9AAAAfgAAAH8AAAA=\"},\"shape\":[128],\"dtype\":\"int32\",\"order\":\"little\"}],[\"trajectory\",{\"type\":\"ndarray\",\"array\":{\"type\":\"bytes\",\"data\":\"vD6wXfik5L/pxGcT7QfQv3Zr6MmTwOu/kZQPDfTm3r+McV+XVce3v1yLlJxhXua/EgdkBw9C9L+d3OJcRdLsvyD1XK5iIve/TKUk5XFt8b8WhlsN49P5vxzEDQM5QfS/WCh49Qkv7b+iVNoNDK/hvzyffAPqX/G/6vj9Pi2B57+FshpZly7Yv/DDRatecJC//KUek9Fx1j80vfcKwhznP0qVYYFwk/E/3AbZZxWr9z8BQhReyNT9P6qdK+MDCAJABjSVxQs9+j/WtY+SeujwP/IzUKOH1fY/OTlGMkbU/D+/RORCd5rzPx/O+VYUp+U/4za19HqI8D+lQL3iME/2P/sZ5IwVOes/XP/yUTBM1T/wW0ap1qflP/Lv8F6VZvA/9EcpMZkK9j8GH8HYSkzrP1A8Iq2AMfM/FWBdDsvN+D9G8TxlnXr+P3DXkRnKGwJATZSXvCcCBUC9+SxHOfAHQBLjBvzR5QpA3gp9osbiDUB604G6dnMQQGd7UAgP+RFA4+2mshiCE0D78ZjTgA4VQPwxViA1nhZA+rCx0RIfFEBeWcBk56gVQLJUW+c4ORNAf8RM1Fm9FEA7IX9tu0QWQAGFy1n22hNAzxjuytBcFUAjZq4YMwETQGpz20CufRRAvPSY5F39FUClEzURMoAXQAnw0kobBhlA3G/QhwqPGkAuFJqunx8YQPb1Pu+6xRVAZndleWBBF0Bioh39D8AYQG7y7iq7QRpA3IVYGFTGG0CwqRw8zU0dQAuW514e4RpAFTkdGbBjHEBRnO3eFukdQCXb5f1FcR9Ay3BH1BMCHUBA2DIcsKYaQHHE4jJzXhhAslVgkgbTGUCYTZKm+pUXQOmVGXcdBhlA3oZ8Yhp5GkA6gFw25e4bQN3Eng5yZx1A5v9iLcAfG0ClCnTC+ZMcQIhJf8DqCh5Ax+VB9IeEH0BOy+I3Y4AgQCNyEsTNPyFAsTizaX4AIkD5FjcTcMIiQL6zgcmdhSNATlz1sgJKJEA7dIkSmg8lQMnr6UZf1iVA/1GfyU2eJkAcHT8uYWcnQHog3MmtICZAsxjz96vnJkA07+yYy68nQLOoG2GSayZAeZ5wqKgxJ0Bs69wC3fgnQNZIElwrwShACiIato+KKUAObLIoBlUqQBdOsOCKICtAOltoHxrtK0DWIBw6sLosQPhrnpeNZitArQa3sSoyLEBuSB/6y/4sQN/gj/FtzC1AFzrPKg2bLkDZNjVKpmovQLiOmQKbHTBAFcLvkFyGMEA0C0M7lu8wQI6FnXRGWTFAxyzYR2mmMEC/NUR2JQ8xQNl0KStXeDFAgV2F6vzhMUCdn4g/FUwyQEmYaLyetjJAwjoy+pchM0BPY56Y/4wzQA==\"},\"shape\":[128],\"dtype\":\"float64\",\"order\":\"little\"}]]}}},\"view\":{\"type\":\"object\",\"name\":\"CDSView\",\"id\":\"p2345\",\"attributes\":{\"filter\":{\"type\":\"object\",\"name\":\"AllIndices\",\"id\":\"p2346\"}}},\"glyph\":{\"type\":\"object\",\"name\":\"Line\",\"id\":\"p2341\",\"attributes\":{\"x\":{\"type\":\"field\",\"field\":\"index\"},\"y\":{\"type\":\"field\",\"field\":\"trajectory\"},\"line_color\":\"darkred\"}},\"nonselection_glyph\":{\"type\":\"object\",\"name\":\"Line\",\"id\":\"p2342\",\"attributes\":{\"x\":{\"type\":\"field\",\"field\":\"index\"},\"y\":{\"type\":\"field\",\"field\":\"trajectory\"},\"line_color\":\"darkred\",\"line_alpha\":0.1}},\"muted_glyph\":{\"type\":\"object\",\"name\":\"Line\",\"id\":\"p2343\",\"attributes\":{\"x\":{\"type\":\"field\",\"field\":\"index\"},\"y\":{\"type\":\"field\",\"field\":\"trajectory\"},\"line_color\":\"darkred\",\"line_alpha\":0.2}}}}],\"toolbar\":{\"type\":\"object\",\"name\":\"Toolbar\",\"id\":\"p2312\",\"attributes\":{\"tools\":[{\"type\":\"object\",\"name\":\"PanTool\",\"id\":\"p2325\"},{\"type\":\"object\",\"name\":\"WheelZoomTool\",\"id\":\"p2326\",\"attributes\":{\"renderers\":\"auto\"}},{\"type\":\"object\",\"name\":\"BoxZoomTool\",\"id\":\"p2327\",\"attributes\":{\"overlay\":{\"type\":\"object\",\"name\":\"BoxAnnotation\",\"id\":\"p2328\",\"attributes\":{\"syncable\":false,\"line_color\":\"black\",\"line_alpha\":1.0,\"line_width\":2,\"line_dash\":[4,4],\"fill_color\":\"lightgrey\",\"fill_alpha\":0.5,\"level\":\"overlay\",\"visible\":false,\"left\":{\"type\":\"number\",\"value\":\"nan\"},\"right\":{\"type\":\"number\",\"value\":\"nan\"},\"top\":{\"type\":\"number\",\"value\":\"nan\"},\"bottom\":{\"type\":\"number\",\"value\":\"nan\"},\"left_units\":\"canvas\",\"right_units\":\"canvas\",\"top_units\":\"canvas\",\"bottom_units\":\"canvas\",\"handles\":{\"type\":\"object\",\"name\":\"BoxInteractionHandles\",\"id\":\"p2334\",\"attributes\":{\"all\":{\"type\":\"object\",\"name\":\"AreaVisuals\",\"id\":\"p2333\",\"attributes\":{\"fill_color\":\"white\",\"hover_fill_color\":\"lightgray\"}}}}}}}},{\"type\":\"object\",\"name\":\"SaveTool\",\"id\":\"p2335\"},{\"type\":\"object\",\"name\":\"ResetTool\",\"id\":\"p2336\"},{\"type\":\"object\",\"name\":\"HelpTool\",\"id\":\"p2337\"}]}},\"left\":[{\"type\":\"object\",\"name\":\"LinearAxis\",\"id\":\"p2320\",\"attributes\":{\"ticker\":{\"type\":\"object\",\"name\":\"BasicTicker\",\"id\":\"p2321\",\"attributes\":{\"mantissas\":[1,2,5]}},\"formatter\":{\"type\":\"object\",\"name\":\"BasicTickFormatter\",\"id\":\"p2322\"},\"major_label_policy\":{\"type\":\"object\",\"name\":\"AllLabels\",\"id\":\"p2323\"}}}],\"below\":[{\"type\":\"object\",\"name\":\"LinearAxis\",\"id\":\"p2315\",\"attributes\":{\"ticker\":{\"type\":\"object\",\"name\":\"BasicTicker\",\"id\":\"p2316\",\"attributes\":{\"mantissas\":[1,2,5]}},\"formatter\":{\"type\":\"object\",\"name\":\"BasicTickFormatter\",\"id\":\"p2317\"},\"major_label_policy\":{\"type\":\"object\",\"name\":\"AllLabels\",\"id\":\"p2318\"}}}],\"center\":[{\"type\":\"object\",\"name\":\"Grid\",\"id\":\"p2319\",\"attributes\":{\"axis\":{\"id\":\"p2315\"}}},{\"type\":\"object\",\"name\":\"Grid\",\"id\":\"p2324\",\"attributes\":{\"dimension\":1,\"axis\":{\"id\":\"p2320\"}}}]}}]}}]}};\n  const render_items = [{\"docid\":\"cec38cff-1148-4cc9-979c-8b8c53cfbd29\",\"roots\":{\"p2347\":\"c9d39fbd-f536-49d5-8b53-74dead9dd2de\"},\"root_ids\":[\"p2347\"]}];\n  void root.Bokeh.embed.embed_items_notebook(docs_json, render_items);\n  }\n  if (root.Bokeh !== undefined) {\n    embed_document(root);\n  } else {\n    let attempts = 0;\n    const timer = setInterval(function(root) {\n      if (root.Bokeh !== undefined) {\n        clearInterval(timer);\n        embed_document(root);\n      } else {\n        attempts++;\n        if (attempts > 100) {\n          clearInterval(timer);\n          console.log(\"Bokeh: ERROR: Unable to run BokehJS code because BokehJS library is missing\");\n        }\n      }\n    }, 10, root)\n  }\n})(window);",
      "application/vnd.bokehjs_exec.v0+json": ""
     },
     "metadata": {
      "application/vnd.bokehjs_exec.v0+json": {
       "id": "p2347"
      }
     },
     "output_type": "display_data"
    }
   ],
   "source": [
    "a_trajectory = log_wealth_trajectory(wins, win_p_estimates)\n",
    "trajectory_cds = ColumnDataSource(pd.DataFrame({'trajectory': a_trajectory}).reset_index())\n",
    "pt= figure(\n",
    "        title=\"Log value over multiple rounds. \",\n",
    "        #y_range=(min(0.98 *fair_win_p, np.min(win_p_estimate[0])), max(1.02 *fair_win_p, np.max(win_p_estimate[0]))),\n",
    "        width = 900, height = 480)\n",
    "pt.line(x='index', y='trajectory', source=trajectory_cds, line_color='darkred')\n",
    "# actual_p = Span(location=fair_win_p, dimension='width', line_dash='dotdash')\n",
    "# p.renderers.extend([actual_p])\n",
    "show(column(pb,pt))"
   ]
  },
  {
   "cell_type": "code",
   "execution_count": 43,
   "metadata": {},
   "outputs": [],
   "source": [
    "\n",
    "\n",
    "\n",
    "# Careful to reset the prior for each simulation\n",
    "def run_simulations(fair_win_p, prior=WIN_BETA_PRIORS, simulations=SIMULATION_COUNT):\n",
    "    \"\"\" \n",
    "\"\"\"\n",
    "    trajectories = np.zeros((NUM_PERIODS, simulations ))\n",
    "    for a_sim in range(simulations):\n",
    "        wins = investment_process(fair_win_p)\n",
    "        win_p_estimates, prior =beta_update(wins, prior)\n",
    "        a_trajectory = log_wealth_trajectory(wins, win_p_estimates)\n",
    "        print('.', end='')\n",
    "        trajectories[:,a_sim] = a_trajectory\n",
    "\n",
    "    return trajectories\n",
    "\n"
   ]
  },
  {
   "cell_type": "code",
   "execution_count": 44,
   "metadata": {},
   "outputs": [
    {
     "name": "stdout",
     "output_type": "stream",
     "text": [
      "........................................................................................................................................................................................................................................................................................................................................................................................................................................................................................................................................................................................................................................................................................................................................................................................................................................................................................................................................................................................................................................"
     ]
    },
    {
     "data": {
      "text/html": [
       "<div>\n",
       "<style scoped>\n",
       "    .dataframe tbody tr th:only-of-type {\n",
       "        vertical-align: middle;\n",
       "    }\n",
       "\n",
       "    .dataframe tbody tr th {\n",
       "        vertical-align: top;\n",
       "    }\n",
       "\n",
       "    .dataframe thead th {\n",
       "        text-align: right;\n",
       "    }\n",
       "</style>\n",
       "<table border=\"1\" class=\"dataframe\">\n",
       "  <thead>\n",
       "    <tr style=\"text-align: right;\">\n",
       "      <th></th>\n",
       "      <th>0</th>\n",
       "      <th>1</th>\n",
       "      <th>2</th>\n",
       "      <th>3</th>\n",
       "      <th>4</th>\n",
       "      <th>5</th>\n",
       "      <th>6</th>\n",
       "      <th>7</th>\n",
       "      <th>8</th>\n",
       "      <th>9</th>\n",
       "      <th>...</th>\n",
       "      <th>990</th>\n",
       "      <th>991</th>\n",
       "      <th>992</th>\n",
       "      <th>993</th>\n",
       "      <th>994</th>\n",
       "      <th>995</th>\n",
       "      <th>996</th>\n",
       "      <th>997</th>\n",
       "      <th>998</th>\n",
       "      <th>999</th>\n",
       "    </tr>\n",
       "  </thead>\n",
       "  <tbody>\n",
       "    <tr>\n",
       "      <th>count</th>\n",
       "      <td>128.000000</td>\n",
       "      <td>128.000000</td>\n",
       "      <td>128.000000</td>\n",
       "      <td>128.000000</td>\n",
       "      <td>128.000000</td>\n",
       "      <td>128.000000</td>\n",
       "      <td>128.000000</td>\n",
       "      <td>128.000000</td>\n",
       "      <td>128.000000</td>\n",
       "      <td>128.000000</td>\n",
       "      <td>...</td>\n",
       "      <td>128.000000</td>\n",
       "      <td>128.000000</td>\n",
       "      <td>128.000000</td>\n",
       "      <td>128.000000</td>\n",
       "      <td>128.000000</td>\n",
       "      <td>128.000000</td>\n",
       "      <td>128.000000</td>\n",
       "      <td>128.000000</td>\n",
       "      <td>128.000000</td>\n",
       "      <td>128.000000</td>\n",
       "    </tr>\n",
       "    <tr>\n",
       "      <th>mean</th>\n",
       "      <td>5.539820</td>\n",
       "      <td>12.016061</td>\n",
       "      <td>8.983074</td>\n",
       "      <td>7.513646</td>\n",
       "      <td>12.093705</td>\n",
       "      <td>8.632131</td>\n",
       "      <td>6.133123</td>\n",
       "      <td>9.980404</td>\n",
       "      <td>9.717155</td>\n",
       "      <td>14.198879</td>\n",
       "      <td>...</td>\n",
       "      <td>5.031379</td>\n",
       "      <td>4.039497</td>\n",
       "      <td>7.257004</td>\n",
       "      <td>4.887019</td>\n",
       "      <td>6.718190</td>\n",
       "      <td>11.722328</td>\n",
       "      <td>9.780944</td>\n",
       "      <td>7.753022</td>\n",
       "      <td>12.887978</td>\n",
       "      <td>7.615973</td>\n",
       "    </tr>\n",
       "    <tr>\n",
       "      <th>std</th>\n",
       "      <td>3.968196</td>\n",
       "      <td>6.585134</td>\n",
       "      <td>3.839862</td>\n",
       "      <td>4.303829</td>\n",
       "      <td>6.437788</td>\n",
       "      <td>5.271312</td>\n",
       "      <td>5.927455</td>\n",
       "      <td>5.173152</td>\n",
       "      <td>6.184307</td>\n",
       "      <td>6.683346</td>\n",
       "      <td>...</td>\n",
       "      <td>4.392141</td>\n",
       "      <td>4.063499</td>\n",
       "      <td>5.713666</td>\n",
       "      <td>2.971094</td>\n",
       "      <td>4.508836</td>\n",
       "      <td>6.621690</td>\n",
       "      <td>7.058855</td>\n",
       "      <td>5.183103</td>\n",
       "      <td>8.103585</td>\n",
       "      <td>3.707003</td>\n",
       "    </tr>\n",
       "    <tr>\n",
       "      <th>min</th>\n",
       "      <td>-0.356646</td>\n",
       "      <td>0.402306</td>\n",
       "      <td>0.418119</td>\n",
       "      <td>0.412999</td>\n",
       "      <td>0.114800</td>\n",
       "      <td>-0.884215</td>\n",
       "      <td>-2.577334</td>\n",
       "      <td>0.413116</td>\n",
       "      <td>-0.076980</td>\n",
       "      <td>-0.718064</td>\n",
       "      <td>...</td>\n",
       "      <td>-0.976942</td>\n",
       "      <td>-2.120637</td>\n",
       "      <td>-0.954607</td>\n",
       "      <td>-0.285971</td>\n",
       "      <td>-1.547860</td>\n",
       "      <td>0.118735</td>\n",
       "      <td>-1.381030</td>\n",
       "      <td>-0.572027</td>\n",
       "      <td>-0.334833</td>\n",
       "      <td>0.404718</td>\n",
       "    </tr>\n",
       "    <tr>\n",
       "      <th>25%</th>\n",
       "      <td>1.588851</td>\n",
       "      <td>5.624959</td>\n",
       "      <td>6.917183</td>\n",
       "      <td>2.928421</td>\n",
       "      <td>5.819692</td>\n",
       "      <td>3.373022</td>\n",
       "      <td>0.523768</td>\n",
       "      <td>5.251208</td>\n",
       "      <td>3.024473</td>\n",
       "      <td>9.071167</td>\n",
       "      <td>...</td>\n",
       "      <td>0.871914</td>\n",
       "      <td>0.310856</td>\n",
       "      <td>1.254202</td>\n",
       "      <td>2.220924</td>\n",
       "      <td>4.117892</td>\n",
       "      <td>6.464873</td>\n",
       "      <td>2.942621</td>\n",
       "      <td>2.353039</td>\n",
       "      <td>6.150082</td>\n",
       "      <td>4.924093</td>\n",
       "    </tr>\n",
       "    <tr>\n",
       "      <th>50%</th>\n",
       "      <td>5.936100</td>\n",
       "      <td>13.107076</td>\n",
       "      <td>9.510032</td>\n",
       "      <td>7.747671</td>\n",
       "      <td>13.049101</td>\n",
       "      <td>9.976696</td>\n",
       "      <td>5.074804</td>\n",
       "      <td>10.863961</td>\n",
       "      <td>12.374107</td>\n",
       "      <td>16.773871</td>\n",
       "      <td>...</td>\n",
       "      <td>3.728725</td>\n",
       "      <td>2.634399</td>\n",
       "      <td>8.097100</td>\n",
       "      <td>5.594090</td>\n",
       "      <td>6.004238</td>\n",
       "      <td>11.883394</td>\n",
       "      <td>10.182249</td>\n",
       "      <td>8.061761</td>\n",
       "      <td>12.956256</td>\n",
       "      <td>6.502002</td>\n",
       "    </tr>\n",
       "    <tr>\n",
       "      <th>75%</th>\n",
       "      <td>8.671605</td>\n",
       "      <td>17.224885</td>\n",
       "      <td>11.192828</td>\n",
       "      <td>10.815993</td>\n",
       "      <td>17.896985</td>\n",
       "      <td>12.119217</td>\n",
       "      <td>12.747593</td>\n",
       "      <td>14.556231</td>\n",
       "      <td>14.194066</td>\n",
       "      <td>19.045404</td>\n",
       "      <td>...</td>\n",
       "      <td>9.617275</td>\n",
       "      <td>8.243406</td>\n",
       "      <td>10.424774</td>\n",
       "      <td>7.229887</td>\n",
       "      <td>10.732265</td>\n",
       "      <td>16.782865</td>\n",
       "      <td>15.468859</td>\n",
       "      <td>11.522258</td>\n",
       "      <td>20.976936</td>\n",
       "      <td>10.527575</td>\n",
       "    </tr>\n",
       "    <tr>\n",
       "      <th>max</th>\n",
       "      <td>13.676897</td>\n",
       "      <td>22.788850</td>\n",
       "      <td>15.722327</td>\n",
       "      <td>16.838374</td>\n",
       "      <td>22.068633</td>\n",
       "      <td>16.795908</td>\n",
       "      <td>15.662012</td>\n",
       "      <td>17.917361</td>\n",
       "      <td>19.349081</td>\n",
       "      <td>23.108243</td>\n",
       "      <td>...</td>\n",
       "      <td>11.888121</td>\n",
       "      <td>11.602757</td>\n",
       "      <td>20.029739</td>\n",
       "      <td>10.864190</td>\n",
       "      <td>13.626639</td>\n",
       "      <td>24.409214</td>\n",
       "      <td>21.864713</td>\n",
       "      <td>18.530354</td>\n",
       "      <td>25.676195</td>\n",
       "      <td>15.530192</td>\n",
       "    </tr>\n",
       "  </tbody>\n",
       "</table>\n",
       "<p>8 rows × 1000 columns</p>\n",
       "</div>"
      ],
      "text/plain": [
       "              0           1           2           3           4           5    \\\n",
       "count  128.000000  128.000000  128.000000  128.000000  128.000000  128.000000   \n",
       "mean     5.539820   12.016061    8.983074    7.513646   12.093705    8.632131   \n",
       "std      3.968196    6.585134    3.839862    4.303829    6.437788    5.271312   \n",
       "min     -0.356646    0.402306    0.418119    0.412999    0.114800   -0.884215   \n",
       "25%      1.588851    5.624959    6.917183    2.928421    5.819692    3.373022   \n",
       "50%      5.936100   13.107076    9.510032    7.747671   13.049101    9.976696   \n",
       "75%      8.671605   17.224885   11.192828   10.815993   17.896985   12.119217   \n",
       "max     13.676897   22.788850   15.722327   16.838374   22.068633   16.795908   \n",
       "\n",
       "              6           7           8           9    ...         990  \\\n",
       "count  128.000000  128.000000  128.000000  128.000000  ...  128.000000   \n",
       "mean     6.133123    9.980404    9.717155   14.198879  ...    5.031379   \n",
       "std      5.927455    5.173152    6.184307    6.683346  ...    4.392141   \n",
       "min     -2.577334    0.413116   -0.076980   -0.718064  ...   -0.976942   \n",
       "25%      0.523768    5.251208    3.024473    9.071167  ...    0.871914   \n",
       "50%      5.074804   10.863961   12.374107   16.773871  ...    3.728725   \n",
       "75%     12.747593   14.556231   14.194066   19.045404  ...    9.617275   \n",
       "max     15.662012   17.917361   19.349081   23.108243  ...   11.888121   \n",
       "\n",
       "              991         992         993         994         995         996  \\\n",
       "count  128.000000  128.000000  128.000000  128.000000  128.000000  128.000000   \n",
       "mean     4.039497    7.257004    4.887019    6.718190   11.722328    9.780944   \n",
       "std      4.063499    5.713666    2.971094    4.508836    6.621690    7.058855   \n",
       "min     -2.120637   -0.954607   -0.285971   -1.547860    0.118735   -1.381030   \n",
       "25%      0.310856    1.254202    2.220924    4.117892    6.464873    2.942621   \n",
       "50%      2.634399    8.097100    5.594090    6.004238   11.883394   10.182249   \n",
       "75%      8.243406   10.424774    7.229887   10.732265   16.782865   15.468859   \n",
       "max     11.602757   20.029739   10.864190   13.626639   24.409214   21.864713   \n",
       "\n",
       "              997         998         999  \n",
       "count  128.000000  128.000000  128.000000  \n",
       "mean     7.753022   12.887978    7.615973  \n",
       "std      5.183103    8.103585    3.707003  \n",
       "min     -0.572027   -0.334833    0.404718  \n",
       "25%      2.353039    6.150082    4.924093  \n",
       "50%      8.061761   12.956256    6.502002  \n",
       "75%     11.522258   20.976936   10.527575  \n",
       "max     18.530354   25.676195   15.530192  \n",
       "\n",
       "[8 rows x 1000 columns]"
      ]
     },
     "execution_count": 44,
     "metadata": {},
     "output_type": "execute_result"
    }
   ],
   "source": [
    "#SIMULATION_COUNT = 10\n",
    "simulated_trajectories = run_simulations(fair_win_p, simulations=SIMULATION_COUNT)\n",
    "pd.DataFrame(simulated_trajectories).describe()"
   ]
  },
  {
   "cell_type": "code",
   "execution_count": 45,
   "metadata": {},
   "outputs": [
    {
     "name": "stdout",
     "output_type": "stream",
     "text": [
      "8\t16\t32\t64\t128\t"
     ]
    }
   ],
   "source": [
    "# Define 2 std limits for trajectories.\n",
    "def std_dev_limits(slice, limit_fraction = 0.05):\n",
    "    h_bar, h_edges = np.histogram(slice, bins = 100, density=True)\n",
    "    h_cum_bar = np.cumsum(h_bar *(h_edges[1] - h_edges[0]))\n",
    "    edges = h_edges[:-1]   # better to use the midpoints\n",
    "    lower = edges[h_cum_bar < limit_fraction ][-1]\n",
    "    upper = edges[h_cum_bar > 1-limit_fraction ][0]\n",
    "    mid = edges[h_cum_bar <=0.5][-1]\n",
    "    return lower, mid, upper\n",
    "\n",
    "trajectory_extremes = pd.DataFrame(None, columns=['lower', 'mid', 'upper'])\n",
    "trajectory_extremes.loc[1] = (0,0,0)\n",
    "for octave in OCTAVES:\n",
    "    print(octave, end='\\t')\n",
    "    trajectory_extremes.loc[octave] = std_dev_limits(simulated_trajectories[octave-1,:])\n",
    "\n"
   ]
  },
  {
   "cell_type": "code",
   "execution_count": null,
   "metadata": {},
   "outputs": [],
   "source": [
    "\n",
    "\n"
   ]
  },
  {
   "cell_type": "code",
   "execution_count": 50,
   "metadata": {},
   "outputs": [
    {
     "data": {
      "text/html": [
       "\n",
       "  <div id=\"b8a1553c-4191-429f-a241-55a21268d81c\" data-root-id=\"p2938\" style=\"display: contents;\"></div>\n"
      ]
     },
     "metadata": {},
     "output_type": "display_data"
    },
    {
     "data": {
      "application/javascript": "(function(root) {\n  function embed_document(root) {\n  const docs_json = {\"949003f9-255c-4483-9cbd-184459dd22ff\":{\"version\":\"3.5.0\",\"title\":\"Bokeh Application\",\"roots\":[{\"type\":\"object\",\"name\":\"Figure\",\"id\":\"p2938\",\"attributes\":{\"width\":1000,\"x_range\":{\"type\":\"object\",\"name\":\"DataRange1d\",\"id\":\"p2939\"},\"y_range\":{\"type\":\"object\",\"name\":\"DataRange1d\",\"id\":\"p2940\"},\"x_scale\":{\"type\":\"object\",\"name\":\"LogScale\",\"id\":\"p2948\"},\"y_scale\":{\"type\":\"object\",\"name\":\"LinearScale\",\"id\":\"p2949\"},\"title\":{\"type\":\"object\",\"name\":\"Title\",\"id\":\"p2941\",\"attributes\":{\"text\":\"Selected Trajectories \"}},\"renderers\":[{\"type\":\"object\",\"name\":\"GlyphRenderer\",\"id\":\"p2982\",\"attributes\":{\"data_source\":{\"type\":\"object\",\"name\":\"ColumnDataSource\",\"id\":\"p2973\",\"attributes\":{\"selected\":{\"type\":\"object\",\"name\":\"Selection\",\"id\":\"p2974\",\"attributes\":{\"indices\":[],\"line_indices\":[]}},\"selection_policy\":{\"type\":\"object\",\"name\":\"UnionRenderers\",\"id\":\"p2975\"},\"data\":{\"type\":\"map\",\"entries\":[[\"index\",{\"type\":\"ndarray\",\"array\":{\"type\":\"bytes\",\"data\":\"AAAAAAgAAAAQAAAAGAAAACAAAAAoAAAAMAAAADgAAABAAAAASAAAAFAAAABYAAAAYAAAAGgAAABwAAAAeAAAAA==\"},\"shape\":[16],\"dtype\":\"int32\",\"order\":\"little\"}],[\"0\",{\"type\":\"ndarray\",\"array\":{\"type\":\"bytes\",\"data\":\"bodRvgf32T9cJZefgeXnvzydPkxhL9M/BBk0dXGK9T8Y6S2JyrH0P8Inp3lX2fM/KUDWNY/xEUCgw2uGZbsRQAJhTcXbUBpA1UsfdS9zIUA98QYqFFghQOm2Clr/PCFAsK2Gf9JUI0DWK2yUjZ8nQOmetbdgtylA7jxx70ucKUA=\"},\"shape\":[16],\"dtype\":\"float64\",\"order\":\"little\"}],[\"1\",{\"type\":\"ndarray\",\"array\":{\"type\":\"bytes\",\"data\":\"Q28y0fvk2T/cRbH6l8nWP2zxcqBqHf6/ov5xruPi/r9yzQQXBaj/v6cD1XFnNgDAf3jvjqCYAMCNYWcjmXLwvzoSn2S0NvG/TTWrzbYK8T9uD6FsmkbwP7uwkA3JAhFACw59LXMyFUC96XsW+8IdQKZ0daT/MBlAsVyjxbjgIEA=\"},\"shape\":[16],\"dtype\":\"float64\",\"order\":\"little\"}],[\"2\",{\"type\":\"ndarray\",\"array\":{\"type\":\"bytes\",\"data\":\"Yyx0r/2/2T8cKtygezbXP0KJP+Hqi/Y/fNKDMfXp9T+W0llhbEj1P5DpJX1EswtAr5xHujQJEkBg0ZfK7RELQMEXtOBiEBZApywg3lqQEUDbaOJggyEKQIQCYOvYlxVA+oj6POFvFUB+Bb5rATMJQKz0uj5DIBVAUAe2JyOnHUA=\"},\"shape\":[16],\"dtype\":\"float64\",\"order\":\"little\"}],[\"3\",{\"type\":\"ndarray\",\"array\":{\"type\":\"bytes\",\"data\":\"yYNVTaDp2T+HC6z/wWEEQIhgkfMSwQxANcx28zGQEkCuXOBs2r8WQOQU+L552iFAQ0vH9rYjJkCEpYZUIgomQCN6GZ/2IShAGqsm6zNrLEAM6/bhPFowQJU2sEZuTTBA/aED5KNAMEDUCVNl+30zQAfO+JDliTRAqksW6BZ9NEA=\"},\"shape\":[16],\"dtype\":\"float64\",\"order\":\"little\"}],[\"4\",{\"type\":\"ndarray\",\"array\":{\"type\":\"bytes\",\"data\":\"EnEQGqDr2T+Zkpz0QmMEQBD4KTjFwgxAaktI4gRYG0BGlERfwPUhQDqmORShDSRAgRGErN/BIUBj3wNGwNkjQCpsHedgjiFAz6hFCjMkGkCWEWZdXS0RQID8fCRN+xBAcYvMvAwrFUAy3tUzTw8hQDMsjFEu9iBAHTQrNw8/JUA=\"},\"shape\":[16],\"dtype\":\"float64\",\"order\":\"little\"}],[\"5\",{\"type\":\"ndarray\",\"array\":{\"type\":\"bytes\",\"data\":\"fl5sfNHF2T/UGsZwWksEQC87JDiKqgxANBdgW6/eFkAMS3hMM2gfQGZFggHmyyFAm4hFXbLjI0BZguiUgSgoQFo1QxZLEyhA2xB0OTbRJUD0WKzJ7BUqQLb0QPS4LSxACBNWH4VFLkBQ0XWlqC4wQB/JgLuOOjFAqmSRAv8vMUA=\"},\"shape\":[16],\"dtype\":\"float64\",\"order\":\"little\"}],[\"6\",{\"type\":\"ndarray\",\"array\":{\"type\":\"bytes\",\"data\":\"le2BoWbw2T/pkwAewjr3P1FvsPdyaPY/2zNMh2uW9T817YvniSoDQIHRn/lYjRZAQmf6dtrCIUAB3uKIr9ojQKHSaI2+JChAbM4srFkKKEAsna/B/e8nQNoJKM2q1SdAxWvv2X/tKUCasMDufDcuQEJTqYDBQDFA2+71hZMzMUA=\"},\"shape\":[16],\"dtype\":\"float64\",\"order\":\"little\"}],[\"7\",{\"type\":\"ndarray\",\"array\":{\"type\":\"bytes\",\"data\":\"Ux/LvwgT5r/wCb3FA9TWP84EncmZx9M/EPT5yQWZA0DTadY8eDcDQNFym/kA1gJA09EyoP76EUDMQRo2CIsaQN3ztgTk+RVA6BYBMoUpGkCnEMO2jZgVQEsZNX91KB5A1Yvxwc/3HUCbuR/Z20MjQGIEj+aIKyNAOcNZaVlDJUA=\"},\"shape\":[16],\"dtype\":\"float64\",\"order\":\"little\"}],[\"8\",{\"type\":\"ndarray\",\"array\":{\"type\":\"bytes\",\"data\":\"4adCX0zu2T/sLBRYPDr3P3Bi7Z/bbdM/kCx0MVmUA0BYSIUPgMr0P7ofr9gp+/M/5OTSPOlcAkCLOQrpMCUWQD5plCTbVBpAuNlZHBV0IUAPn0vNF1ohQHT2h+rscSNAbbl7N3DtKUCZ9Xckl6EnQCaiK0FsuSlA+rPhD3ifKUA=\"},\"shape\":[16],\"dtype\":\"float64\",\"order\":\"little\"}],[\"9\",{\"type\":\"ndarray\",\"array\":{\"type\":\"bytes\",\"data\":\"b4NXQGzH2T+epxn99UwEQLt/B23msBJAhQNGErvgFkDKbMXF81ADQNGJX1a5MRJAEB9M8V+7GkAu9DppMeseQBps74CyZxpAchyPVrvlFUBqiIjohRUaQO7uoOURlRVA6rmBsdjEGUAGdPplEZ0ZQInCliIzEiFAl2DKTj2CJ0A=\"},\"shape\":[16],\"dtype\":\"float64\",\"order\":\"little\"}],[\"10\",{\"type\":\"ndarray\",\"array\":{\"type\":\"bytes\",\"data\":\"OphOgfvs2T/SRq3L6zn3P6A5sVpM/ANAvCVeDdH0FkAIqWAfGogfQFOkaKwnVB9APB3zEtO8GkDQok4tHIkaQHnDCxp5VRpAnjdsXeqlI0C90/74v70lQNixyL8VOSxAyeP8ZetQLkB1Af6FYDQwQBF5z8hoJzBADmnqmFMzMUA=\"},\"shape\":[16],\"dtype\":\"float64\",\"order\":\"little\"}],[\"11\",{\"type\":\"ndarray\",\"array\":{\"type\":\"bytes\",\"data\":\"J94stzsf5r8tV1Sa9zj3P3rBH8ChbfY/G2PU1xtbDEA3Nr0PxL8WQNfS0yBs7xpAikjzfNnAIUCVDAswZTsoQAjdxlLZIShAr8E/aa05KkC9Fph/gVEsQOWLsvtm1SdAZTwxK8WKJUDTdGY/Jg8hQFLCyHc+iSdAh57dXxKhKUA=\"},\"shape\":[16],\"dtype\":\"float64\",\"order\":\"little\"}],[\"12\",{\"type\":\"ndarray\",\"array\":{\"type\":\"bytes\",\"data\":\"whX8ALU45r9lQ3JTKT33P3t657tvywxAAznOFStdDEAuerElO14SQDiUVMDgjRZArRferhzwEUDxCyOBILkRQKjfgjPG6BVA44+65WsYGkAIHsqXEUgeQJauZoEsbyNABd4wgFa6J0CZDQtRKdIpQCh60SH86StAXSSE8s4BLkA=\"},\"shape\":[16],\"dtype\":\"float64\",\"order\":\"little\"}],[\"13\",{\"type\":\"ndarray\",\"array\":{\"type\":\"bytes\",\"data\":\"0dRF2UfS2T+JRwvtIQ4NQDmKlAZWswxAhHczCTZZDECCXhYnbVwSQNpiVtyxLxJAFEI53oJfFkDebmJmZaQhQLfEZAfv6iVAkW9kwsOlI0CFlr4BIuwnQN4yy8KV1SdAP3cSv37tKUApuVuE3jMuQPex3v/jJTBAok8KiO0GLkA=\"},\"shape\":[16],\"dtype\":\"float64\",\"order\":\"little\"}],[\"14\",{\"type\":\"ndarray\",\"array\":{\"type\":\"bytes\",\"data\":\"vvUAy28e5r+cC87zYL3WP0XKSvM9Lf6/jVJ2k8Jo0D9S33LG5jADQKjJo33AjBZAWofy2p3AIUC4IlhbrgkmQO60XKTEUipANTjnMphmMECMhL/iaIIuQDgV7oAdTTBADFRJVopPLkB7sS2cIzYuQJfjhNX6JjBAg2KfSYBLMkA=\"},\"shape\":[16],\"dtype\":\"float64\",\"order\":\"little\"}],[\"15\",{\"type\":\"ndarray\",\"array\":{\"type\":\"bytes\",\"data\":\"nwGzSzXq2T+cWo/0JGIEQPS8n5qVwxJAzvt5aEDzFkBOav2Q14UfQPJmsDbB2iFAHgPcZyDBIUC0KdZC7DsoQHmDLttLhSxA4Q+F7RY6KkCGSVL/dSAqQLKrxMfBaS5A3q2ESbQeLECfz7VTztMpQC7S35+j6ytAaz2v2GgaMEA=\"},\"shape\":[16],\"dtype\":\"float64\",\"order\":\"little\"}],[\"16\",{\"type\":\"ndarray\",\"array\":{\"type\":\"bytes\",\"data\":\"8zbEQEXp2T9pSmQjk7zWP+tDOJnMbfY/ce1X9BqQEkDggZhsPF0SQCyi1JwdkAtAfDFprrj3EUCGqGF0E8URQNKabkC99BVADgcnDGckGkAJkCfA1PEZQNHcaHd+IR5AzNUyKv/uHUD5DrlJkFoZQABLYME5ih1AVQYvovNXHUA=\"},\"shape\":[16],\"dtype\":\"float64\",\"order\":\"little\"}],[\"17\",{\"type\":\"ndarray\",\"array\":{\"type\":\"bytes\",\"data\":\"OGddcuAj5r/Bbn2To83WP6D10hS8ePY/zSsfH+Tq0D9vtihT4f/0P4x4bBTRUPQ/lrcT6+VBwj+BTbnjOjrvv8TXZ0Hpd/I/iLOiNGPr8T9SslnKuFYRQFtIvDbghxVA8scuaAEOEUDve66+x+wQQMJNgN/CHRVAcCil8HuwEEA=\"},\"shape\":[16],\"dtype\":\"float64\",\"order\":\"little\"}],[\"18\",{\"type\":\"ndarray\",\"array\":{\"type\":\"bytes\",\"data\":\"G6oTpbjw2T89jWUH36XWP5YUJuK0/ANAYGulRd0S0D/cPosCapXJPyv0e+1piQtAbC4YHaNYFkA/7Aiun+weQJTRLfrxtx5Axc7SSPelI0D84I4By70lQL44Lrqe1SdAYnguOd1RLkAoJsdAHGcyQNfrnW/iWTJAU8jcTcxlM0A=\"},\"shape\":[16],\"dtype\":\"float64\",\"order\":\"little\"}],[\"19\",{\"type\":\"ndarray\",\"array\":{\"type\":\"bytes\",\"data\":\"9u72NG4E5r+z42dIF3bnv3T3uvmb5ui/IMdMfvxV6r+rrBpvKAr1P7Y5NtFx5AJAgRKWQZeIAkDA24+Xw+TyPzjp6/3JVKc/0XGtChgxCkCQ/69OF9YJQIa1IVlfewlAB7n+XlztEEDtev4LE3oZQOLXbZDQ7xRAmD78dGJ8HUA=\"},\"shape\":[16],\"dtype\":\"float64\",\"order\":\"little\"}]]}}},\"view\":{\"type\":\"object\",\"name\":\"CDSView\",\"id\":\"p2983\",\"attributes\":{\"filter\":{\"type\":\"object\",\"name\":\"AllIndices\",\"id\":\"p2984\"}}},\"glyph\":{\"type\":\"object\",\"name\":\"Line\",\"id\":\"p2979\",\"attributes\":{\"x\":{\"type\":\"field\",\"field\":\"index\"},\"y\":{\"type\":\"field\",\"field\":\"0\"},\"line_color\":\"grey\",\"line_alpha\":0.4}},\"nonselection_glyph\":{\"type\":\"object\",\"name\":\"Line\",\"id\":\"p2980\",\"attributes\":{\"x\":{\"type\":\"field\",\"field\":\"index\"},\"y\":{\"type\":\"field\",\"field\":\"0\"},\"line_color\":\"grey\",\"line_alpha\":0.1}},\"muted_glyph\":{\"type\":\"object\",\"name\":\"Line\",\"id\":\"p2981\",\"attributes\":{\"x\":{\"type\":\"field\",\"field\":\"index\"},\"y\":{\"type\":\"field\",\"field\":\"0\"},\"line_color\":\"grey\",\"line_alpha\":0.2}}}},{\"type\":\"object\",\"name\":\"GlyphRenderer\",\"id\":\"p2991\",\"attributes\":{\"data_source\":{\"id\":\"p2973\"},\"view\":{\"type\":\"object\",\"name\":\"CDSView\",\"id\":\"p2992\",\"attributes\":{\"filter\":{\"type\":\"object\",\"name\":\"AllIndices\",\"id\":\"p2993\"}}},\"glyph\":{\"type\":\"object\",\"name\":\"Line\",\"id\":\"p2988\",\"attributes\":{\"x\":{\"type\":\"field\",\"field\":\"index\"},\"y\":{\"type\":\"field\",\"field\":\"1\"},\"line_color\":\"grey\",\"line_alpha\":0.4}},\"nonselection_glyph\":{\"type\":\"object\",\"name\":\"Line\",\"id\":\"p2989\",\"attributes\":{\"x\":{\"type\":\"field\",\"field\":\"index\"},\"y\":{\"type\":\"field\",\"field\":\"1\"},\"line_color\":\"grey\",\"line_alpha\":0.1}},\"muted_glyph\":{\"type\":\"object\",\"name\":\"Line\",\"id\":\"p2990\",\"attributes\":{\"x\":{\"type\":\"field\",\"field\":\"index\"},\"y\":{\"type\":\"field\",\"field\":\"1\"},\"line_color\":\"grey\",\"line_alpha\":0.2}}}},{\"type\":\"object\",\"name\":\"GlyphRenderer\",\"id\":\"p3000\",\"attributes\":{\"data_source\":{\"id\":\"p2973\"},\"view\":{\"type\":\"object\",\"name\":\"CDSView\",\"id\":\"p3001\",\"attributes\":{\"filter\":{\"type\":\"object\",\"name\":\"AllIndices\",\"id\":\"p3002\"}}},\"glyph\":{\"type\":\"object\",\"name\":\"Line\",\"id\":\"p2997\",\"attributes\":{\"x\":{\"type\":\"field\",\"field\":\"index\"},\"y\":{\"type\":\"field\",\"field\":\"2\"},\"line_color\":\"grey\",\"line_alpha\":0.4}},\"nonselection_glyph\":{\"type\":\"object\",\"name\":\"Line\",\"id\":\"p2998\",\"attributes\":{\"x\":{\"type\":\"field\",\"field\":\"index\"},\"y\":{\"type\":\"field\",\"field\":\"2\"},\"line_color\":\"grey\",\"line_alpha\":0.1}},\"muted_glyph\":{\"type\":\"object\",\"name\":\"Line\",\"id\":\"p2999\",\"attributes\":{\"x\":{\"type\":\"field\",\"field\":\"index\"},\"y\":{\"type\":\"field\",\"field\":\"2\"},\"line_color\":\"grey\",\"line_alpha\":0.2}}}},{\"type\":\"object\",\"name\":\"GlyphRenderer\",\"id\":\"p3009\",\"attributes\":{\"data_source\":{\"id\":\"p2973\"},\"view\":{\"type\":\"object\",\"name\":\"CDSView\",\"id\":\"p3010\",\"attributes\":{\"filter\":{\"type\":\"object\",\"name\":\"AllIndices\",\"id\":\"p3011\"}}},\"glyph\":{\"type\":\"object\",\"name\":\"Line\",\"id\":\"p3006\",\"attributes\":{\"x\":{\"type\":\"field\",\"field\":\"index\"},\"y\":{\"type\":\"field\",\"field\":\"3\"},\"line_color\":\"grey\",\"line_alpha\":0.4}},\"nonselection_glyph\":{\"type\":\"object\",\"name\":\"Line\",\"id\":\"p3007\",\"attributes\":{\"x\":{\"type\":\"field\",\"field\":\"index\"},\"y\":{\"type\":\"field\",\"field\":\"3\"},\"line_color\":\"grey\",\"line_alpha\":0.1}},\"muted_glyph\":{\"type\":\"object\",\"name\":\"Line\",\"id\":\"p3008\",\"attributes\":{\"x\":{\"type\":\"field\",\"field\":\"index\"},\"y\":{\"type\":\"field\",\"field\":\"3\"},\"line_color\":\"grey\",\"line_alpha\":0.2}}}},{\"type\":\"object\",\"name\":\"GlyphRenderer\",\"id\":\"p3018\",\"attributes\":{\"data_source\":{\"id\":\"p2973\"},\"view\":{\"type\":\"object\",\"name\":\"CDSView\",\"id\":\"p3019\",\"attributes\":{\"filter\":{\"type\":\"object\",\"name\":\"AllIndices\",\"id\":\"p3020\"}}},\"glyph\":{\"type\":\"object\",\"name\":\"Line\",\"id\":\"p3015\",\"attributes\":{\"x\":{\"type\":\"field\",\"field\":\"index\"},\"y\":{\"type\":\"field\",\"field\":\"4\"},\"line_color\":\"grey\",\"line_alpha\":0.4}},\"nonselection_glyph\":{\"type\":\"object\",\"name\":\"Line\",\"id\":\"p3016\",\"attributes\":{\"x\":{\"type\":\"field\",\"field\":\"index\"},\"y\":{\"type\":\"field\",\"field\":\"4\"},\"line_color\":\"grey\",\"line_alpha\":0.1}},\"muted_glyph\":{\"type\":\"object\",\"name\":\"Line\",\"id\":\"p3017\",\"attributes\":{\"x\":{\"type\":\"field\",\"field\":\"index\"},\"y\":{\"type\":\"field\",\"field\":\"4\"},\"line_color\":\"grey\",\"line_alpha\":0.2}}}},{\"type\":\"object\",\"name\":\"GlyphRenderer\",\"id\":\"p3027\",\"attributes\":{\"data_source\":{\"id\":\"p2973\"},\"view\":{\"type\":\"object\",\"name\":\"CDSView\",\"id\":\"p3028\",\"attributes\":{\"filter\":{\"type\":\"object\",\"name\":\"AllIndices\",\"id\":\"p3029\"}}},\"glyph\":{\"type\":\"object\",\"name\":\"Line\",\"id\":\"p3024\",\"attributes\":{\"x\":{\"type\":\"field\",\"field\":\"index\"},\"y\":{\"type\":\"field\",\"field\":\"5\"},\"line_color\":\"grey\",\"line_alpha\":0.4}},\"nonselection_glyph\":{\"type\":\"object\",\"name\":\"Line\",\"id\":\"p3025\",\"attributes\":{\"x\":{\"type\":\"field\",\"field\":\"index\"},\"y\":{\"type\":\"field\",\"field\":\"5\"},\"line_color\":\"grey\",\"line_alpha\":0.1}},\"muted_glyph\":{\"type\":\"object\",\"name\":\"Line\",\"id\":\"p3026\",\"attributes\":{\"x\":{\"type\":\"field\",\"field\":\"index\"},\"y\":{\"type\":\"field\",\"field\":\"5\"},\"line_color\":\"grey\",\"line_alpha\":0.2}}}},{\"type\":\"object\",\"name\":\"GlyphRenderer\",\"id\":\"p3036\",\"attributes\":{\"data_source\":{\"id\":\"p2973\"},\"view\":{\"type\":\"object\",\"name\":\"CDSView\",\"id\":\"p3037\",\"attributes\":{\"filter\":{\"type\":\"object\",\"name\":\"AllIndices\",\"id\":\"p3038\"}}},\"glyph\":{\"type\":\"object\",\"name\":\"Line\",\"id\":\"p3033\",\"attributes\":{\"x\":{\"type\":\"field\",\"field\":\"index\"},\"y\":{\"type\":\"field\",\"field\":\"6\"},\"line_color\":\"grey\",\"line_alpha\":0.4}},\"nonselection_glyph\":{\"type\":\"object\",\"name\":\"Line\",\"id\":\"p3034\",\"attributes\":{\"x\":{\"type\":\"field\",\"field\":\"index\"},\"y\":{\"type\":\"field\",\"field\":\"6\"},\"line_color\":\"grey\",\"line_alpha\":0.1}},\"muted_glyph\":{\"type\":\"object\",\"name\":\"Line\",\"id\":\"p3035\",\"attributes\":{\"x\":{\"type\":\"field\",\"field\":\"index\"},\"y\":{\"type\":\"field\",\"field\":\"6\"},\"line_color\":\"grey\",\"line_alpha\":0.2}}}},{\"type\":\"object\",\"name\":\"GlyphRenderer\",\"id\":\"p3045\",\"attributes\":{\"data_source\":{\"id\":\"p2973\"},\"view\":{\"type\":\"object\",\"name\":\"CDSView\",\"id\":\"p3046\",\"attributes\":{\"filter\":{\"type\":\"object\",\"name\":\"AllIndices\",\"id\":\"p3047\"}}},\"glyph\":{\"type\":\"object\",\"name\":\"Line\",\"id\":\"p3042\",\"attributes\":{\"x\":{\"type\":\"field\",\"field\":\"index\"},\"y\":{\"type\":\"field\",\"field\":\"7\"},\"line_color\":\"grey\",\"line_alpha\":0.4}},\"nonselection_glyph\":{\"type\":\"object\",\"name\":\"Line\",\"id\":\"p3043\",\"attributes\":{\"x\":{\"type\":\"field\",\"field\":\"index\"},\"y\":{\"type\":\"field\",\"field\":\"7\"},\"line_color\":\"grey\",\"line_alpha\":0.1}},\"muted_glyph\":{\"type\":\"object\",\"name\":\"Line\",\"id\":\"p3044\",\"attributes\":{\"x\":{\"type\":\"field\",\"field\":\"index\"},\"y\":{\"type\":\"field\",\"field\":\"7\"},\"line_color\":\"grey\",\"line_alpha\":0.2}}}},{\"type\":\"object\",\"name\":\"GlyphRenderer\",\"id\":\"p3054\",\"attributes\":{\"data_source\":{\"id\":\"p2973\"},\"view\":{\"type\":\"object\",\"name\":\"CDSView\",\"id\":\"p3055\",\"attributes\":{\"filter\":{\"type\":\"object\",\"name\":\"AllIndices\",\"id\":\"p3056\"}}},\"glyph\":{\"type\":\"object\",\"name\":\"Line\",\"id\":\"p3051\",\"attributes\":{\"x\":{\"type\":\"field\",\"field\":\"index\"},\"y\":{\"type\":\"field\",\"field\":\"8\"},\"line_color\":\"grey\",\"line_alpha\":0.4}},\"nonselection_glyph\":{\"type\":\"object\",\"name\":\"Line\",\"id\":\"p3052\",\"attributes\":{\"x\":{\"type\":\"field\",\"field\":\"index\"},\"y\":{\"type\":\"field\",\"field\":\"8\"},\"line_color\":\"grey\",\"line_alpha\":0.1}},\"muted_glyph\":{\"type\":\"object\",\"name\":\"Line\",\"id\":\"p3053\",\"attributes\":{\"x\":{\"type\":\"field\",\"field\":\"index\"},\"y\":{\"type\":\"field\",\"field\":\"8\"},\"line_color\":\"grey\",\"line_alpha\":0.2}}}},{\"type\":\"object\",\"name\":\"GlyphRenderer\",\"id\":\"p3063\",\"attributes\":{\"data_source\":{\"id\":\"p2973\"},\"view\":{\"type\":\"object\",\"name\":\"CDSView\",\"id\":\"p3064\",\"attributes\":{\"filter\":{\"type\":\"object\",\"name\":\"AllIndices\",\"id\":\"p3065\"}}},\"glyph\":{\"type\":\"object\",\"name\":\"Line\",\"id\":\"p3060\",\"attributes\":{\"x\":{\"type\":\"field\",\"field\":\"index\"},\"y\":{\"type\":\"field\",\"field\":\"9\"},\"line_color\":\"grey\",\"line_alpha\":0.4}},\"nonselection_glyph\":{\"type\":\"object\",\"name\":\"Line\",\"id\":\"p3061\",\"attributes\":{\"x\":{\"type\":\"field\",\"field\":\"index\"},\"y\":{\"type\":\"field\",\"field\":\"9\"},\"line_color\":\"grey\",\"line_alpha\":0.1}},\"muted_glyph\":{\"type\":\"object\",\"name\":\"Line\",\"id\":\"p3062\",\"attributes\":{\"x\":{\"type\":\"field\",\"field\":\"index\"},\"y\":{\"type\":\"field\",\"field\":\"9\"},\"line_color\":\"grey\",\"line_alpha\":0.2}}}},{\"type\":\"object\",\"name\":\"GlyphRenderer\",\"id\":\"p3072\",\"attributes\":{\"data_source\":{\"id\":\"p2973\"},\"view\":{\"type\":\"object\",\"name\":\"CDSView\",\"id\":\"p3073\",\"attributes\":{\"filter\":{\"type\":\"object\",\"name\":\"AllIndices\",\"id\":\"p3074\"}}},\"glyph\":{\"type\":\"object\",\"name\":\"Line\",\"id\":\"p3069\",\"attributes\":{\"x\":{\"type\":\"field\",\"field\":\"index\"},\"y\":{\"type\":\"field\",\"field\":\"10\"},\"line_color\":\"grey\",\"line_alpha\":0.4}},\"nonselection_glyph\":{\"type\":\"object\",\"name\":\"Line\",\"id\":\"p3070\",\"attributes\":{\"x\":{\"type\":\"field\",\"field\":\"index\"},\"y\":{\"type\":\"field\",\"field\":\"10\"},\"line_color\":\"grey\",\"line_alpha\":0.1}},\"muted_glyph\":{\"type\":\"object\",\"name\":\"Line\",\"id\":\"p3071\",\"attributes\":{\"x\":{\"type\":\"field\",\"field\":\"index\"},\"y\":{\"type\":\"field\",\"field\":\"10\"},\"line_color\":\"grey\",\"line_alpha\":0.2}}}},{\"type\":\"object\",\"name\":\"GlyphRenderer\",\"id\":\"p3081\",\"attributes\":{\"data_source\":{\"id\":\"p2973\"},\"view\":{\"type\":\"object\",\"name\":\"CDSView\",\"id\":\"p3082\",\"attributes\":{\"filter\":{\"type\":\"object\",\"name\":\"AllIndices\",\"id\":\"p3083\"}}},\"glyph\":{\"type\":\"object\",\"name\":\"Line\",\"id\":\"p3078\",\"attributes\":{\"x\":{\"type\":\"field\",\"field\":\"index\"},\"y\":{\"type\":\"field\",\"field\":\"11\"},\"line_color\":\"grey\",\"line_alpha\":0.4}},\"nonselection_glyph\":{\"type\":\"object\",\"name\":\"Line\",\"id\":\"p3079\",\"attributes\":{\"x\":{\"type\":\"field\",\"field\":\"index\"},\"y\":{\"type\":\"field\",\"field\":\"11\"},\"line_color\":\"grey\",\"line_alpha\":0.1}},\"muted_glyph\":{\"type\":\"object\",\"name\":\"Line\",\"id\":\"p3080\",\"attributes\":{\"x\":{\"type\":\"field\",\"field\":\"index\"},\"y\":{\"type\":\"field\",\"field\":\"11\"},\"line_color\":\"grey\",\"line_alpha\":0.2}}}},{\"type\":\"object\",\"name\":\"GlyphRenderer\",\"id\":\"p3090\",\"attributes\":{\"data_source\":{\"id\":\"p2973\"},\"view\":{\"type\":\"object\",\"name\":\"CDSView\",\"id\":\"p3091\",\"attributes\":{\"filter\":{\"type\":\"object\",\"name\":\"AllIndices\",\"id\":\"p3092\"}}},\"glyph\":{\"type\":\"object\",\"name\":\"Line\",\"id\":\"p3087\",\"attributes\":{\"x\":{\"type\":\"field\",\"field\":\"index\"},\"y\":{\"type\":\"field\",\"field\":\"12\"},\"line_color\":\"grey\",\"line_alpha\":0.4}},\"nonselection_glyph\":{\"type\":\"object\",\"name\":\"Line\",\"id\":\"p3088\",\"attributes\":{\"x\":{\"type\":\"field\",\"field\":\"index\"},\"y\":{\"type\":\"field\",\"field\":\"12\"},\"line_color\":\"grey\",\"line_alpha\":0.1}},\"muted_glyph\":{\"type\":\"object\",\"name\":\"Line\",\"id\":\"p3089\",\"attributes\":{\"x\":{\"type\":\"field\",\"field\":\"index\"},\"y\":{\"type\":\"field\",\"field\":\"12\"},\"line_color\":\"grey\",\"line_alpha\":0.2}}}},{\"type\":\"object\",\"name\":\"GlyphRenderer\",\"id\":\"p3099\",\"attributes\":{\"data_source\":{\"id\":\"p2973\"},\"view\":{\"type\":\"object\",\"name\":\"CDSView\",\"id\":\"p3100\",\"attributes\":{\"filter\":{\"type\":\"object\",\"name\":\"AllIndices\",\"id\":\"p3101\"}}},\"glyph\":{\"type\":\"object\",\"name\":\"Line\",\"id\":\"p3096\",\"attributes\":{\"x\":{\"type\":\"field\",\"field\":\"index\"},\"y\":{\"type\":\"field\",\"field\":\"13\"},\"line_color\":\"grey\",\"line_alpha\":0.4}},\"nonselection_glyph\":{\"type\":\"object\",\"name\":\"Line\",\"id\":\"p3097\",\"attributes\":{\"x\":{\"type\":\"field\",\"field\":\"index\"},\"y\":{\"type\":\"field\",\"field\":\"13\"},\"line_color\":\"grey\",\"line_alpha\":0.1}},\"muted_glyph\":{\"type\":\"object\",\"name\":\"Line\",\"id\":\"p3098\",\"attributes\":{\"x\":{\"type\":\"field\",\"field\":\"index\"},\"y\":{\"type\":\"field\",\"field\":\"13\"},\"line_color\":\"grey\",\"line_alpha\":0.2}}}},{\"type\":\"object\",\"name\":\"GlyphRenderer\",\"id\":\"p3108\",\"attributes\":{\"data_source\":{\"id\":\"p2973\"},\"view\":{\"type\":\"object\",\"name\":\"CDSView\",\"id\":\"p3109\",\"attributes\":{\"filter\":{\"type\":\"object\",\"name\":\"AllIndices\",\"id\":\"p3110\"}}},\"glyph\":{\"type\":\"object\",\"name\":\"Line\",\"id\":\"p3105\",\"attributes\":{\"x\":{\"type\":\"field\",\"field\":\"index\"},\"y\":{\"type\":\"field\",\"field\":\"14\"},\"line_color\":\"grey\",\"line_alpha\":0.4}},\"nonselection_glyph\":{\"type\":\"object\",\"name\":\"Line\",\"id\":\"p3106\",\"attributes\":{\"x\":{\"type\":\"field\",\"field\":\"index\"},\"y\":{\"type\":\"field\",\"field\":\"14\"},\"line_color\":\"grey\",\"line_alpha\":0.1}},\"muted_glyph\":{\"type\":\"object\",\"name\":\"Line\",\"id\":\"p3107\",\"attributes\":{\"x\":{\"type\":\"field\",\"field\":\"index\"},\"y\":{\"type\":\"field\",\"field\":\"14\"},\"line_color\":\"grey\",\"line_alpha\":0.2}}}},{\"type\":\"object\",\"name\":\"GlyphRenderer\",\"id\":\"p3117\",\"attributes\":{\"data_source\":{\"id\":\"p2973\"},\"view\":{\"type\":\"object\",\"name\":\"CDSView\",\"id\":\"p3118\",\"attributes\":{\"filter\":{\"type\":\"object\",\"name\":\"AllIndices\",\"id\":\"p3119\"}}},\"glyph\":{\"type\":\"object\",\"name\":\"Line\",\"id\":\"p3114\",\"attributes\":{\"x\":{\"type\":\"field\",\"field\":\"index\"},\"y\":{\"type\":\"field\",\"field\":\"15\"},\"line_color\":\"grey\",\"line_alpha\":0.4}},\"nonselection_glyph\":{\"type\":\"object\",\"name\":\"Line\",\"id\":\"p3115\",\"attributes\":{\"x\":{\"type\":\"field\",\"field\":\"index\"},\"y\":{\"type\":\"field\",\"field\":\"15\"},\"line_color\":\"grey\",\"line_alpha\":0.1}},\"muted_glyph\":{\"type\":\"object\",\"name\":\"Line\",\"id\":\"p3116\",\"attributes\":{\"x\":{\"type\":\"field\",\"field\":\"index\"},\"y\":{\"type\":\"field\",\"field\":\"15\"},\"line_color\":\"grey\",\"line_alpha\":0.2}}}},{\"type\":\"object\",\"name\":\"GlyphRenderer\",\"id\":\"p3126\",\"attributes\":{\"data_source\":{\"id\":\"p2973\"},\"view\":{\"type\":\"object\",\"name\":\"CDSView\",\"id\":\"p3127\",\"attributes\":{\"filter\":{\"type\":\"object\",\"name\":\"AllIndices\",\"id\":\"p3128\"}}},\"glyph\":{\"type\":\"object\",\"name\":\"Line\",\"id\":\"p3123\",\"attributes\":{\"x\":{\"type\":\"field\",\"field\":\"index\"},\"y\":{\"type\":\"field\",\"field\":\"16\"},\"line_color\":\"grey\",\"line_alpha\":0.4}},\"nonselection_glyph\":{\"type\":\"object\",\"name\":\"Line\",\"id\":\"p3124\",\"attributes\":{\"x\":{\"type\":\"field\",\"field\":\"index\"},\"y\":{\"type\":\"field\",\"field\":\"16\"},\"line_color\":\"grey\",\"line_alpha\":0.1}},\"muted_glyph\":{\"type\":\"object\",\"name\":\"Line\",\"id\":\"p3125\",\"attributes\":{\"x\":{\"type\":\"field\",\"field\":\"index\"},\"y\":{\"type\":\"field\",\"field\":\"16\"},\"line_color\":\"grey\",\"line_alpha\":0.2}}}},{\"type\":\"object\",\"name\":\"GlyphRenderer\",\"id\":\"p3135\",\"attributes\":{\"data_source\":{\"id\":\"p2973\"},\"view\":{\"type\":\"object\",\"name\":\"CDSView\",\"id\":\"p3136\",\"attributes\":{\"filter\":{\"type\":\"object\",\"name\":\"AllIndices\",\"id\":\"p3137\"}}},\"glyph\":{\"type\":\"object\",\"name\":\"Line\",\"id\":\"p3132\",\"attributes\":{\"x\":{\"type\":\"field\",\"field\":\"index\"},\"y\":{\"type\":\"field\",\"field\":\"17\"},\"line_color\":\"grey\",\"line_alpha\":0.4}},\"nonselection_glyph\":{\"type\":\"object\",\"name\":\"Line\",\"id\":\"p3133\",\"attributes\":{\"x\":{\"type\":\"field\",\"field\":\"index\"},\"y\":{\"type\":\"field\",\"field\":\"17\"},\"line_color\":\"grey\",\"line_alpha\":0.1}},\"muted_glyph\":{\"type\":\"object\",\"name\":\"Line\",\"id\":\"p3134\",\"attributes\":{\"x\":{\"type\":\"field\",\"field\":\"index\"},\"y\":{\"type\":\"field\",\"field\":\"17\"},\"line_color\":\"grey\",\"line_alpha\":0.2}}}},{\"type\":\"object\",\"name\":\"GlyphRenderer\",\"id\":\"p3144\",\"attributes\":{\"data_source\":{\"id\":\"p2973\"},\"view\":{\"type\":\"object\",\"name\":\"CDSView\",\"id\":\"p3145\",\"attributes\":{\"filter\":{\"type\":\"object\",\"name\":\"AllIndices\",\"id\":\"p3146\"}}},\"glyph\":{\"type\":\"object\",\"name\":\"Line\",\"id\":\"p3141\",\"attributes\":{\"x\":{\"type\":\"field\",\"field\":\"index\"},\"y\":{\"type\":\"field\",\"field\":\"18\"},\"line_color\":\"grey\",\"line_alpha\":0.4}},\"nonselection_glyph\":{\"type\":\"object\",\"name\":\"Line\",\"id\":\"p3142\",\"attributes\":{\"x\":{\"type\":\"field\",\"field\":\"index\"},\"y\":{\"type\":\"field\",\"field\":\"18\"},\"line_color\":\"grey\",\"line_alpha\":0.1}},\"muted_glyph\":{\"type\":\"object\",\"name\":\"Line\",\"id\":\"p3143\",\"attributes\":{\"x\":{\"type\":\"field\",\"field\":\"index\"},\"y\":{\"type\":\"field\",\"field\":\"18\"},\"line_color\":\"grey\",\"line_alpha\":0.2}}}},{\"type\":\"object\",\"name\":\"GlyphRenderer\",\"id\":\"p3153\",\"attributes\":{\"data_source\":{\"id\":\"p2973\"},\"view\":{\"type\":\"object\",\"name\":\"CDSView\",\"id\":\"p3154\",\"attributes\":{\"filter\":{\"type\":\"object\",\"name\":\"AllIndices\",\"id\":\"p3155\"}}},\"glyph\":{\"type\":\"object\",\"name\":\"Line\",\"id\":\"p3150\",\"attributes\":{\"x\":{\"type\":\"field\",\"field\":\"index\"},\"y\":{\"type\":\"field\",\"field\":\"19\"},\"line_color\":\"grey\",\"line_alpha\":0.4}},\"nonselection_glyph\":{\"type\":\"object\",\"name\":\"Line\",\"id\":\"p3151\",\"attributes\":{\"x\":{\"type\":\"field\",\"field\":\"index\"},\"y\":{\"type\":\"field\",\"field\":\"19\"},\"line_color\":\"grey\",\"line_alpha\":0.1}},\"muted_glyph\":{\"type\":\"object\",\"name\":\"Line\",\"id\":\"p3152\",\"attributes\":{\"x\":{\"type\":\"field\",\"field\":\"index\"},\"y\":{\"type\":\"field\",\"field\":\"19\"},\"line_color\":\"grey\",\"line_alpha\":0.2}}}},{\"type\":\"object\",\"name\":\"GlyphRenderer\",\"id\":\"p3162\",\"attributes\":{\"data_source\":{\"type\":\"object\",\"name\":\"ColumnDataSource\",\"id\":\"p2935\",\"attributes\":{\"selected\":{\"type\":\"object\",\"name\":\"Selection\",\"id\":\"p2936\",\"attributes\":{\"indices\":[],\"line_indices\":[]}},\"selection_policy\":{\"type\":\"object\",\"name\":\"UnionRenderers\",\"id\":\"p2937\"},\"data\":{\"type\":\"map\",\"entries\":[[\"level_0\",{\"type\":\"ndarray\",\"array\":{\"type\":\"bytes\",\"data\":\"AAAAAAEAAAACAAAAAwAAAAQAAAAFAAAA\"},\"shape\":[6],\"dtype\":\"int32\",\"order\":\"little\"}],[\"index\",{\"type\":\"ndarray\",\"array\":{\"type\":\"bytes\",\"data\":\"AQAAAAgAAAAQAAAAIAAAAEAAAACAAAAA\"},\"shape\":[6],\"dtype\":\"int32\",\"order\":\"little\"}],[\"lower\",{\"type\":\"ndarray\",\"array\":{\"type\":\"bytes\",\"data\":\"AAAAAAAAAABgnXkufaHzv/CmqceNy/S/UFbZB3Kp3b8Ib3mKp5/3P/St6/smFh1A\"},\"shape\":[6],\"dtype\":\"float64\",\"order\":\"little\"}],[\"mid\",{\"type\":\"ndarray\",\"array\":{\"type\":\"bytes\",\"data\":\"AAAAAAAAAACw5d60CBfvPzB89X/PJf4/XBca3XqtDkDr16fBzg4gQBeFaNzjOTBA\"},\"shape\":[6],\"dtype\":\"float64\",\"order\":\"little\"}],[\"upper\",{\"type\":\"ndarray\",\"array\":{\"type\":\"bytes\",\"data\":\"AAAAAAAAAABqTb9zs+QJQOrCOxSlJhVAazYat2UDIUALiVmlcbUtQLAe1vk9LjlA\"},\"shape\":[6],\"dtype\":\"float64\",\"order\":\"little\"}]]}}},\"view\":{\"type\":\"object\",\"name\":\"CDSView\",\"id\":\"p3163\",\"attributes\":{\"filter\":{\"type\":\"object\",\"name\":\"AllIndices\",\"id\":\"p3164\"}}},\"glyph\":{\"type\":\"object\",\"name\":\"Line\",\"id\":\"p3159\",\"attributes\":{\"x\":{\"type\":\"field\",\"field\":\"index\"},\"y\":{\"type\":\"field\",\"field\":\"lower\"},\"line_color\":\"red\",\"line_width\":3,\"line_dash\":[6]}},\"nonselection_glyph\":{\"type\":\"object\",\"name\":\"Line\",\"id\":\"p3160\",\"attributes\":{\"x\":{\"type\":\"field\",\"field\":\"index\"},\"y\":{\"type\":\"field\",\"field\":\"lower\"},\"line_color\":\"red\",\"line_alpha\":0.1,\"line_width\":3,\"line_dash\":[6]}},\"muted_glyph\":{\"type\":\"object\",\"name\":\"Line\",\"id\":\"p3161\",\"attributes\":{\"x\":{\"type\":\"field\",\"field\":\"index\"},\"y\":{\"type\":\"field\",\"field\":\"lower\"},\"line_color\":\"red\",\"line_alpha\":0.2,\"line_width\":3,\"line_dash\":[6]}}}},{\"type\":\"object\",\"name\":\"GlyphRenderer\",\"id\":\"p3171\",\"attributes\":{\"data_source\":{\"id\":\"p2935\"},\"view\":{\"type\":\"object\",\"name\":\"CDSView\",\"id\":\"p3172\",\"attributes\":{\"filter\":{\"type\":\"object\",\"name\":\"AllIndices\",\"id\":\"p3173\"}}},\"glyph\":{\"type\":\"object\",\"name\":\"Line\",\"id\":\"p3168\",\"attributes\":{\"x\":{\"type\":\"field\",\"field\":\"index\"},\"y\":{\"type\":\"field\",\"field\":\"mid\"},\"line_color\":\"blue\",\"line_width\":3}},\"nonselection_glyph\":{\"type\":\"object\",\"name\":\"Line\",\"id\":\"p3169\",\"attributes\":{\"x\":{\"type\":\"field\",\"field\":\"index\"},\"y\":{\"type\":\"field\",\"field\":\"mid\"},\"line_color\":\"blue\",\"line_alpha\":0.1,\"line_width\":3}},\"muted_glyph\":{\"type\":\"object\",\"name\":\"Line\",\"id\":\"p3170\",\"attributes\":{\"x\":{\"type\":\"field\",\"field\":\"index\"},\"y\":{\"type\":\"field\",\"field\":\"mid\"},\"line_color\":\"blue\",\"line_alpha\":0.2,\"line_width\":3}}}},{\"type\":\"object\",\"name\":\"GlyphRenderer\",\"id\":\"p3180\",\"attributes\":{\"data_source\":{\"id\":\"p2935\"},\"view\":{\"type\":\"object\",\"name\":\"CDSView\",\"id\":\"p3181\",\"attributes\":{\"filter\":{\"type\":\"object\",\"name\":\"AllIndices\",\"id\":\"p3182\"}}},\"glyph\":{\"type\":\"object\",\"name\":\"Line\",\"id\":\"p3177\",\"attributes\":{\"x\":{\"type\":\"field\",\"field\":\"index\"},\"y\":{\"type\":\"field\",\"field\":\"upper\"},\"line_color\":\"red\",\"line_width\":3,\"line_dash\":[6]}},\"nonselection_glyph\":{\"type\":\"object\",\"name\":\"Line\",\"id\":\"p3178\",\"attributes\":{\"x\":{\"type\":\"field\",\"field\":\"index\"},\"y\":{\"type\":\"field\",\"field\":\"upper\"},\"line_color\":\"red\",\"line_alpha\":0.1,\"line_width\":3,\"line_dash\":[6]}},\"muted_glyph\":{\"type\":\"object\",\"name\":\"Line\",\"id\":\"p3179\",\"attributes\":{\"x\":{\"type\":\"field\",\"field\":\"index\"},\"y\":{\"type\":\"field\",\"field\":\"upper\"},\"line_color\":\"red\",\"line_alpha\":0.2,\"line_width\":3,\"line_dash\":[6]}}}}],\"toolbar\":{\"type\":\"object\",\"name\":\"Toolbar\",\"id\":\"p2947\",\"attributes\":{\"tools\":[{\"type\":\"object\",\"name\":\"PanTool\",\"id\":\"p2960\"},{\"type\":\"object\",\"name\":\"WheelZoomTool\",\"id\":\"p2961\",\"attributes\":{\"renderers\":\"auto\"}},{\"type\":\"object\",\"name\":\"BoxZoomTool\",\"id\":\"p2962\",\"attributes\":{\"overlay\":{\"type\":\"object\",\"name\":\"BoxAnnotation\",\"id\":\"p2963\",\"attributes\":{\"syncable\":false,\"line_color\":\"black\",\"line_alpha\":1.0,\"line_width\":2,\"line_dash\":[4,4],\"fill_color\":\"lightgrey\",\"fill_alpha\":0.5,\"level\":\"overlay\",\"visible\":false,\"left\":{\"type\":\"number\",\"value\":\"nan\"},\"right\":{\"type\":\"number\",\"value\":\"nan\"},\"top\":{\"type\":\"number\",\"value\":\"nan\"},\"bottom\":{\"type\":\"number\",\"value\":\"nan\"},\"left_units\":\"canvas\",\"right_units\":\"canvas\",\"top_units\":\"canvas\",\"bottom_units\":\"canvas\",\"handles\":{\"type\":\"object\",\"name\":\"BoxInteractionHandles\",\"id\":\"p2969\",\"attributes\":{\"all\":{\"type\":\"object\",\"name\":\"AreaVisuals\",\"id\":\"p2968\",\"attributes\":{\"fill_color\":\"white\",\"hover_fill_color\":\"lightgray\"}}}}}}}},{\"type\":\"object\",\"name\":\"SaveTool\",\"id\":\"p2970\"},{\"type\":\"object\",\"name\":\"ResetTool\",\"id\":\"p2971\"},{\"type\":\"object\",\"name\":\"HelpTool\",\"id\":\"p2972\"}]}},\"left\":[{\"type\":\"object\",\"name\":\"LinearAxis\",\"id\":\"p2955\",\"attributes\":{\"ticker\":{\"type\":\"object\",\"name\":\"BasicTicker\",\"id\":\"p2956\",\"attributes\":{\"mantissas\":[1,2,5]}},\"formatter\":{\"type\":\"object\",\"name\":\"BasicTickFormatter\",\"id\":\"p2957\"},\"axis_label\":\"Accumulated wealth proportion\",\"major_label_policy\":{\"type\":\"object\",\"name\":\"AllLabels\",\"id\":\"p2958\"}}}],\"below\":[{\"type\":\"object\",\"name\":\"LogAxis\",\"id\":\"p2950\",\"attributes\":{\"ticker\":{\"type\":\"object\",\"name\":\"LogTicker\",\"id\":\"p2951\",\"attributes\":{\"num_minor_ticks\":10,\"mantissas\":[1,5]}},\"formatter\":{\"type\":\"object\",\"name\":\"LogTickFormatter\",\"id\":\"p2952\"},\"axis_label\":\"Run length\",\"major_label_policy\":{\"type\":\"object\",\"name\":\"AllLabels\",\"id\":\"p2953\"}}}],\"center\":[{\"type\":\"object\",\"name\":\"Grid\",\"id\":\"p2954\",\"attributes\":{\"axis\":{\"id\":\"p2950\"}}},{\"type\":\"object\",\"name\":\"Grid\",\"id\":\"p2959\",\"attributes\":{\"dimension\":1,\"axis\":{\"id\":\"p2955\"}}}],\"background_fill_color\":\"#fafafa\"}}]}};\n  const render_items = [{\"docid\":\"949003f9-255c-4483-9cbd-184459dd22ff\",\"roots\":{\"p2938\":\"b8a1553c-4191-429f-a241-55a21268d81c\"},\"root_ids\":[\"p2938\"]}];\n  void root.Bokeh.embed.embed_items_notebook(docs_json, render_items);\n  }\n  if (root.Bokeh !== undefined) {\n    embed_document(root);\n  } else {\n    let attempts = 0;\n    const timer = setInterval(function(root) {\n      if (root.Bokeh !== undefined) {\n        clearInterval(timer);\n        embed_document(root);\n      } else {\n        attempts++;\n        if (attempts > 100) {\n          clearInterval(timer);\n          console.log(\"Bokeh: ERROR: Unable to run BokehJS code because BokehJS library is missing\");\n        }\n      }\n    }, 10, root)\n  }\n})(window);",
      "application/vnd.bokehjs_exec.v0+json": ""
     },
     "metadata": {
      "application/vnd.bokehjs_exec.v0+json": {
       "id": "p2938"
      }
     },
     "output_type": "display_data"
    }
   ],
   "source": [
    "\n",
    "# The lower, mid and upper quantiles\n",
    "te_src = ColumnDataSource(trajectory_extremes.reset_index())\n",
    "\n",
    "# Plot just some of the trajectories. \n",
    "some_trajectories = np.random.choice(range(SIMULATION_COUNT), 20, replace=False)\n",
    "# Every 16th point leaves 256 points\n",
    "sub_samples = list(range(0,OCTAVES[-1], OCTAVES[0]))\n",
    "\n",
    "p= figure(\n",
    "    title=\"Selected Trajectories \",\n",
    "    width = 1000, height = 600, \n",
    "    background_fill_color=\"#fafafa\",\n",
    "    x_axis_type=\"log\",\n",
    "    x_axis_label = 'Run length',\n",
    "    y_axis_label = 'Accumulated wealth proportion')\n",
    "\n",
    "# Downsample the trajectories for efficiency plotting. \n",
    "short_trajectories = simulated_trajectories[sub_samples, :]\n",
    "sim_df = pd.DataFrame(short_trajectories[:, some_trajectories], index = sub_samples)\n",
    "sim_df.columns = [str(k) for k in sim_df.columns]\n",
    "sim_src = ColumnDataSource(sim_df)\n",
    "for k in sim_df.columns:\n",
    "    p.line(x='index', y=str(k), source=sim_src, line_alpha=0.4, line_color='grey')\n",
    "\n",
    "p.line(x='index', y='lower', color='red', line_dash='dashed', line_width = 3, source=te_src)\n",
    "p.line(x='index', y='mid', color='blue', line_width = 3, source=te_src)\n",
    "p.line(x='index', y='upper', color='red', line_dash='dashed', line_width = 3, source=te_src)\n",
    "\n",
    "\n",
    "    \n",
    "\n",
    "show(p)"
   ]
  },
  {
   "cell_type": "code",
   "execution_count": 47,
   "metadata": {},
   "outputs": [],
   "source": [
    "def bokeh_hist(sample, x_range, title= '', bin_ct=30):\n",
    "    'Return a graphic histogram object'\n",
    "    # Find the range of all samples. \n",
    "    fig = figure(width= 380, height=360,  title=title, x_range=x_range )\n",
    "    bars, bin_edges = np.histogram(sample, bins=bin_ct)\n",
    "    # Split into below and above zero. \n",
    "    neg_bin_edges = bin_edges[bin_edges <= 0]\n",
    "    pos_bin_edges = bin_edges[len(neg_bin_edges):]\n",
    "    neg_bars = bars[:len(neg_bin_edges)]\n",
    "    pos_bars = bars[len(neg_bin_edges):]\n",
    "    neg_bin_edges  = np.append(neg_bin_edges, pos_bin_edges[0])\n",
    "    LINE_ARGS = dict(line_color=None)\n",
    "    # Define the sides of each \"box\" in the histogram plot\n",
    "    fig.quad(bottom=0, left=neg_bin_edges[:-1], right=neg_bin_edges[1:], top=neg_bars, color='purple', **LINE_ARGS)\n",
    "    fig.quad(bottom=0, left=pos_bin_edges[:-1], right=pos_bin_edges[1:], top=pos_bars, color='limegreen', **LINE_ARGS)\n",
    "    return fig"
   ]
  },
  {
   "cell_type": "code",
   "execution_count": 48,
   "metadata": {},
   "outputs": [
    {
     "name": "stderr",
     "output_type": "stream",
     "text": [
      "WARNING:bokeh.core.validation.check:W-1002 (EMPTY_LAYOUT): Layout has no children: Row(id='p2901', ...)\n",
      "WARNING:bokeh.core.validation.check:W-1002 (EMPTY_LAYOUT): Layout has no children: Row(id='p2903', ...)\n",
      "WARNING:bokeh.core.validation.check:W-1002 (EMPTY_LAYOUT): Layout has no children: Row(id='p2902', ...)\n"
     ]
    },
    {
     "data": {
      "text/html": [
       "\n",
       "  <div id=\"b84ffb05-cde5-4184-8d99-9d24c9362114\" data-root-id=\"p2904\" style=\"display: contents;\"></div>\n"
      ]
     },
     "metadata": {},
     "output_type": "display_data"
    },
    {
     "data": {
      "application/javascript": "(function(root) {\n  function embed_document(root) {\n  const docs_json = {\"8859a93a-19ab-4808-b59a-55b31899c1ec\":{\"version\":\"3.5.0\",\"title\":\"Bokeh Application\",\"roots\":[{\"type\":\"object\",\"name\":\"Column\",\"id\":\"p2904\",\"attributes\":{\"children\":[{\"type\":\"object\",\"name\":\"Row\",\"id\":\"p2898\",\"attributes\":{\"children\":[{\"type\":\"object\",\"name\":\"Figure\",\"id\":\"p2628\",\"attributes\":{\"width\":380,\"height\":360,\"x_range\":{\"type\":\"object\",\"name\":\"Range1d\",\"id\":\"p2638\",\"attributes\":{\"start\":-8.347774042961175,\"end\":34.13513322261159}},\"y_range\":{\"type\":\"object\",\"name\":\"DataRange1d\",\"id\":\"p2630\"},\"x_scale\":{\"type\":\"object\",\"name\":\"LinearScale\",\"id\":\"p2639\"},\"y_scale\":{\"type\":\"object\",\"name\":\"LinearScale\",\"id\":\"p2640\"},\"title\":{\"type\":\"object\",\"name\":\"Title\",\"id\":\"p2631\",\"attributes\":{\"text\":\"8 runs\"}},\"renderers\":[{\"type\":\"object\",\"name\":\"GlyphRenderer\",\"id\":\"p2670\",\"attributes\":{\"data_source\":{\"type\":\"object\",\"name\":\"ColumnDataSource\",\"id\":\"p2664\",\"attributes\":{\"selected\":{\"type\":\"object\",\"name\":\"Selection\",\"id\":\"p2665\",\"attributes\":{\"indices\":[],\"line_indices\":[]}},\"selection_policy\":{\"type\":\"object\",\"name\":\"UnionRenderers\",\"id\":\"p2666\"},\"data\":{\"type\":\"map\",\"entries\":[[\"left\",{\"type\":\"ndarray\",\"array\":{\"type\":\"bytes\",\"data\":\"6kqe2c7eCsD5zV59AhgJwAhRHyE2UQfAGNTfxGmKBcAnV6BoncMDwDbaYAzR/AHARl0hsAQ2AMCqwMOncN78v8jGRO/XUPm/5szFNj/D9b8E00Z+pjXyv0iyj4sbUO2/hL6RGuo05r+AlSdTcTPevwBcV+Ic+s+/gGf88rhqnL8=\"},\"shape\":[16],\"dtype\":\"float64\",\"order\":\"little\"}],[\"right\",{\"type\":\"ndarray\",\"array\":{\"type\":\"bytes\",\"data\":\"+c1efQIYCcAIUR8hNlEHwBjU38RpigXAJ1egaJ3DA8A22mAM0fwBwEZdIbAENgDAqsDDp3De/L/IxkTv11D5v+bMxTY/w/W/BNNGfqY18r9Iso+LG1Dtv4S+kRrqNOa/gJUnU3Ez3r8AXFfiHPrPv4Bn/PK4apy/IEKYpW7fyD8=\"},\"shape\":[16],\"dtype\":\"float64\",\"order\":\"little\"}],[\"top\",{\"type\":\"ndarray\",\"array\":{\"type\":\"bytes\",\"data\":\"BgAAAAAAAAAAAAAAAAAAAAMAAAAYAAAAAAAAAAAAAAAAAAAANgAAACQAAAAAAAAAAAAAAAAAAAC6AAAADgAAAA==\"},\"shape\":[16],\"dtype\":\"int32\",\"order\":\"little\"}]]}}},\"view\":{\"type\":\"object\",\"name\":\"CDSView\",\"id\":\"p2671\",\"attributes\":{\"filter\":{\"type\":\"object\",\"name\":\"AllIndices\",\"id\":\"p2672\"}}},\"glyph\":{\"type\":\"object\",\"name\":\"Quad\",\"id\":\"p2667\",\"attributes\":{\"left\":{\"type\":\"field\",\"field\":\"left\"},\"right\":{\"type\":\"field\",\"field\":\"right\"},\"bottom\":{\"type\":\"value\",\"value\":0},\"top\":{\"type\":\"field\",\"field\":\"top\"},\"line_color\":{\"type\":\"value\",\"value\":null},\"fill_color\":{\"type\":\"value\",\"value\":\"purple\"},\"hatch_color\":{\"type\":\"value\",\"value\":\"purple\"}}},\"nonselection_glyph\":{\"type\":\"object\",\"name\":\"Quad\",\"id\":\"p2668\",\"attributes\":{\"left\":{\"type\":\"field\",\"field\":\"left\"},\"right\":{\"type\":\"field\",\"field\":\"right\"},\"bottom\":{\"type\":\"value\",\"value\":0},\"top\":{\"type\":\"field\",\"field\":\"top\"},\"line_color\":{\"type\":\"value\",\"value\":null},\"line_alpha\":{\"type\":\"value\",\"value\":0.1},\"fill_color\":{\"type\":\"value\",\"value\":\"purple\"},\"fill_alpha\":{\"type\":\"value\",\"value\":0.1},\"hatch_color\":{\"type\":\"value\",\"value\":\"purple\"},\"hatch_alpha\":{\"type\":\"value\",\"value\":0.1}}},\"muted_glyph\":{\"type\":\"object\",\"name\":\"Quad\",\"id\":\"p2669\",\"attributes\":{\"left\":{\"type\":\"field\",\"field\":\"left\"},\"right\":{\"type\":\"field\",\"field\":\"right\"},\"bottom\":{\"type\":\"value\",\"value\":0},\"top\":{\"type\":\"field\",\"field\":\"top\"},\"line_color\":{\"type\":\"value\",\"value\":null},\"line_alpha\":{\"type\":\"value\",\"value\":0.2},\"fill_color\":{\"type\":\"value\",\"value\":\"purple\"},\"fill_alpha\":{\"type\":\"value\",\"value\":0.2},\"hatch_color\":{\"type\":\"value\",\"value\":\"purple\"},\"hatch_alpha\":{\"type\":\"value\",\"value\":0.2}}}}},{\"type\":\"object\",\"name\":\"GlyphRenderer\",\"id\":\"p2679\",\"attributes\":{\"data_source\":{\"type\":\"object\",\"name\":\"ColumnDataSource\",\"id\":\"p2673\",\"attributes\":{\"selected\":{\"type\":\"object\",\"name\":\"Selection\",\"id\":\"p2674\",\"attributes\":{\"indices\":[],\"line_indices\":[]}},\"selection_policy\":{\"type\":\"object\",\"name\":\"UnionRenderers\",\"id\":\"p2675\"},\"data\":{\"type\":\"map\",\"entries\":[[\"left\",{\"type\":\"ndarray\",\"array\":{\"type\":\"bytes\",\"data\":\"IEKYpW7fyD+YCMg0GqbaPxD4YYs+buQ/0Otf/G+J6z/M7662UFLxP6zpLW/p3/Q/jOOsJ4Jt+D9w3SvgGvv7P1DXqpiziP8/mOiUKCaLAUCKZdSE8lEDQHriE+G+GAVAal9TPYvfBkBc3JKZV6YIQA==\"},\"shape\":[14],\"dtype\":\"float64\",\"order\":\"little\"}],[\"right\",{\"type\":\"ndarray\",\"array\":{\"type\":\"bytes\",\"data\":\"mAjINBqm2j8Q+GGLPm7kP9DrX/xvies/zO+utlBS8T+s6S1v6d/0P4zjrCeCbfg/cN0r4Br7+z9Q16qYs4j/P5jolCgmiwFAimXUhPJRA0B64hPhvhgFQGpfUz2L3wZAXNySmVemCEBMWdL1I20KQA==\"},\"shape\":[14],\"dtype\":\"float64\",\"order\":\"little\"}],[\"top\",{\"type\":\"ndarray\",\"array\":{\"type\":\"bytes\",\"data\":\"AAAAAAAAAAAAAAAANAEAAAAAAAAAAAAAAAAAAAAAAAD9AAAAAQAAAAAAAAAAAAAAAAAAAHMAAAA=\"},\"shape\":[14],\"dtype\":\"int32\",\"order\":\"little\"}]]}}},\"view\":{\"type\":\"object\",\"name\":\"CDSView\",\"id\":\"p2680\",\"attributes\":{\"filter\":{\"type\":\"object\",\"name\":\"AllIndices\",\"id\":\"p2681\"}}},\"glyph\":{\"type\":\"object\",\"name\":\"Quad\",\"id\":\"p2676\",\"attributes\":{\"left\":{\"type\":\"field\",\"field\":\"left\"},\"right\":{\"type\":\"field\",\"field\":\"right\"},\"bottom\":{\"type\":\"value\",\"value\":0},\"top\":{\"type\":\"field\",\"field\":\"top\"},\"line_color\":{\"type\":\"value\",\"value\":null},\"fill_color\":{\"type\":\"value\",\"value\":\"limegreen\"},\"hatch_color\":{\"type\":\"value\",\"value\":\"limegreen\"}}},\"nonselection_glyph\":{\"type\":\"object\",\"name\":\"Quad\",\"id\":\"p2677\",\"attributes\":{\"left\":{\"type\":\"field\",\"field\":\"left\"},\"right\":{\"type\":\"field\",\"field\":\"right\"},\"bottom\":{\"type\":\"value\",\"value\":0},\"top\":{\"type\":\"field\",\"field\":\"top\"},\"line_color\":{\"type\":\"value\",\"value\":null},\"line_alpha\":{\"type\":\"value\",\"value\":0.1},\"fill_color\":{\"type\":\"value\",\"value\":\"limegreen\"},\"fill_alpha\":{\"type\":\"value\",\"value\":0.1},\"hatch_color\":{\"type\":\"value\",\"value\":\"limegreen\"},\"hatch_alpha\":{\"type\":\"value\",\"value\":0.1}}},\"muted_glyph\":{\"type\":\"object\",\"name\":\"Quad\",\"id\":\"p2678\",\"attributes\":{\"left\":{\"type\":\"field\",\"field\":\"left\"},\"right\":{\"type\":\"field\",\"field\":\"right\"},\"bottom\":{\"type\":\"value\",\"value\":0},\"top\":{\"type\":\"field\",\"field\":\"top\"},\"line_color\":{\"type\":\"value\",\"value\":null},\"line_alpha\":{\"type\":\"value\",\"value\":0.2},\"fill_color\":{\"type\":\"value\",\"value\":\"limegreen\"},\"fill_alpha\":{\"type\":\"value\",\"value\":0.2},\"hatch_color\":{\"type\":\"value\",\"value\":\"limegreen\"},\"hatch_alpha\":{\"type\":\"value\",\"value\":0.2}}}}}],\"toolbar\":{\"type\":\"object\",\"name\":\"Toolbar\",\"id\":\"p2637\",\"attributes\":{\"tools\":[{\"type\":\"object\",\"name\":\"PanTool\",\"id\":\"p2651\"},{\"type\":\"object\",\"name\":\"WheelZoomTool\",\"id\":\"p2652\",\"attributes\":{\"renderers\":\"auto\"}},{\"type\":\"object\",\"name\":\"BoxZoomTool\",\"id\":\"p2653\",\"attributes\":{\"overlay\":{\"type\":\"object\",\"name\":\"BoxAnnotation\",\"id\":\"p2654\",\"attributes\":{\"syncable\":false,\"line_color\":\"black\",\"line_alpha\":1.0,\"line_width\":2,\"line_dash\":[4,4],\"fill_color\":\"lightgrey\",\"fill_alpha\":0.5,\"level\":\"overlay\",\"visible\":false,\"left\":{\"type\":\"number\",\"value\":\"nan\"},\"right\":{\"type\":\"number\",\"value\":\"nan\"},\"top\":{\"type\":\"number\",\"value\":\"nan\"},\"bottom\":{\"type\":\"number\",\"value\":\"nan\"},\"left_units\":\"canvas\",\"right_units\":\"canvas\",\"top_units\":\"canvas\",\"bottom_units\":\"canvas\",\"handles\":{\"type\":\"object\",\"name\":\"BoxInteractionHandles\",\"id\":\"p2660\",\"attributes\":{\"all\":{\"type\":\"object\",\"name\":\"AreaVisuals\",\"id\":\"p2659\",\"attributes\":{\"fill_color\":\"white\",\"hover_fill_color\":\"lightgray\"}}}}}}}},{\"type\":\"object\",\"name\":\"SaveTool\",\"id\":\"p2661\"},{\"type\":\"object\",\"name\":\"ResetTool\",\"id\":\"p2662\"},{\"type\":\"object\",\"name\":\"HelpTool\",\"id\":\"p2663\"}]}},\"left\":[{\"type\":\"object\",\"name\":\"LinearAxis\",\"id\":\"p2646\",\"attributes\":{\"ticker\":{\"type\":\"object\",\"name\":\"BasicTicker\",\"id\":\"p2647\",\"attributes\":{\"mantissas\":[1,2,5]}},\"formatter\":{\"type\":\"object\",\"name\":\"BasicTickFormatter\",\"id\":\"p2648\"},\"major_label_policy\":{\"type\":\"object\",\"name\":\"AllLabels\",\"id\":\"p2649\"}}}],\"below\":[{\"type\":\"object\",\"name\":\"LinearAxis\",\"id\":\"p2641\",\"attributes\":{\"ticker\":{\"type\":\"object\",\"name\":\"BasicTicker\",\"id\":\"p2642\",\"attributes\":{\"mantissas\":[1,2,5]}},\"formatter\":{\"type\":\"object\",\"name\":\"BasicTickFormatter\",\"id\":\"p2643\"},\"major_label_policy\":{\"type\":\"object\",\"name\":\"AllLabels\",\"id\":\"p2644\"}}}],\"center\":[{\"type\":\"object\",\"name\":\"Grid\",\"id\":\"p2645\",\"attributes\":{\"axis\":{\"id\":\"p2641\"}}},{\"type\":\"object\",\"name\":\"Grid\",\"id\":\"p2650\",\"attributes\":{\"dimension\":1,\"axis\":{\"id\":\"p2646\"}}}]}},{\"type\":\"object\",\"name\":\"Figure\",\"id\":\"p2682\",\"attributes\":{\"width\":380,\"height\":360,\"x_range\":{\"type\":\"object\",\"name\":\"Range1d\",\"id\":\"p2692\",\"attributes\":{\"start\":-8.347774042961175,\"end\":34.13513322261159}},\"y_range\":{\"type\":\"object\",\"name\":\"DataRange1d\",\"id\":\"p2684\"},\"x_scale\":{\"type\":\"object\",\"name\":\"LinearScale\",\"id\":\"p2693\"},\"y_scale\":{\"type\":\"object\",\"name\":\"LinearScale\",\"id\":\"p2694\"},\"title\":{\"type\":\"object\",\"name\":\"Title\",\"id\":\"p2685\",\"attributes\":{\"text\":\"16 runs\"}},\"renderers\":[{\"type\":\"object\",\"name\":\"GlyphRenderer\",\"id\":\"p2724\",\"attributes\":{\"data_source\":{\"type\":\"object\",\"name\":\"ColumnDataSource\",\"id\":\"p2718\",\"attributes\":{\"selected\":{\"type\":\"object\",\"name\":\"Selection\",\"id\":\"p2719\",\"attributes\":{\"indices\":[],\"line_indices\":[]}},\"selection_policy\":{\"type\":\"object\",\"name\":\"UnionRenderers\",\"id\":\"p2720\"},\"data\":{\"type\":\"map\",\"entries\":[[\"left\",{\"type\":\"ndarray\",\"array\":{\"type\":\"bytes\",\"data\":\"hDLSwzrvEcAJMJdKengQwBxbuKJzAw7AJlZCsPIVC8AwUcy9cSgIwDpMVsvwOgXAQ0fg2G9NAsCahNTM3b/+v6566Ofb5Pi/wnD8AtoJ87+szSA8sF3qv6BzkeRYT92/wC+FQ0WNt78=\"},\"shape\":[13],\"dtype\":\"float64\",\"order\":\"little\"}],[\"right\",{\"type\":\"ndarray\",\"array\":{\"type\":\"bytes\",\"data\":\"CTCXSnp4EMAcW7iicwMOwCZWQrDyFQvAMFHMvXEoCMA6TFbL8DoFwENH4NhvTQLAmoTUzN2//r+ueujn2+T4v8Jw/ALaCfO/rM0gPLBd6r+gc5HkWE/dv8AvhUNFjbe/wNvOQraI0T8=\"},\"shape\":[13],\"dtype\":\"float64\",\"order\":\"little\"}],[\"top\",{\"type\":\"ndarray\",\"array\":{\"type\":\"bytes\",\"data\":\"AgAAAAAAAAABAAAAAQAAAAAAAAALAAAACAAAAAAAAAAbAAAAHAAAAAAAAABCAAAANgAAAA==\"},\"shape\":[13],\"dtype\":\"int32\",\"order\":\"little\"}]]}}},\"view\":{\"type\":\"object\",\"name\":\"CDSView\",\"id\":\"p2725\",\"attributes\":{\"filter\":{\"type\":\"object\",\"name\":\"AllIndices\",\"id\":\"p2726\"}}},\"glyph\":{\"type\":\"object\",\"name\":\"Quad\",\"id\":\"p2721\",\"attributes\":{\"left\":{\"type\":\"field\",\"field\":\"left\"},\"right\":{\"type\":\"field\",\"field\":\"right\"},\"bottom\":{\"type\":\"value\",\"value\":0},\"top\":{\"type\":\"field\",\"field\":\"top\"},\"line_color\":{\"type\":\"value\",\"value\":null},\"fill_color\":{\"type\":\"value\",\"value\":\"purple\"},\"hatch_color\":{\"type\":\"value\",\"value\":\"purple\"}}},\"nonselection_glyph\":{\"type\":\"object\",\"name\":\"Quad\",\"id\":\"p2722\",\"attributes\":{\"left\":{\"type\":\"field\",\"field\":\"left\"},\"right\":{\"type\":\"field\",\"field\":\"right\"},\"bottom\":{\"type\":\"value\",\"value\":0},\"top\":{\"type\":\"field\",\"field\":\"top\"},\"line_color\":{\"type\":\"value\",\"value\":null},\"line_alpha\":{\"type\":\"value\",\"value\":0.1},\"fill_color\":{\"type\":\"value\",\"value\":\"purple\"},\"fill_alpha\":{\"type\":\"value\",\"value\":0.1},\"hatch_color\":{\"type\":\"value\",\"value\":\"purple\"},\"hatch_alpha\":{\"type\":\"value\",\"value\":0.1}}},\"muted_glyph\":{\"type\":\"object\",\"name\":\"Quad\",\"id\":\"p2723\",\"attributes\":{\"left\":{\"type\":\"field\",\"field\":\"left\"},\"right\":{\"type\":\"field\",\"field\":\"right\"},\"bottom\":{\"type\":\"value\",\"value\":0},\"top\":{\"type\":\"field\",\"field\":\"top\"},\"line_color\":{\"type\":\"value\",\"value\":null},\"line_alpha\":{\"type\":\"value\",\"value\":0.2},\"fill_color\":{\"type\":\"value\",\"value\":\"purple\"},\"fill_alpha\":{\"type\":\"value\",\"value\":0.2},\"hatch_color\":{\"type\":\"value\",\"value\":\"purple\"},\"hatch_alpha\":{\"type\":\"value\",\"value\":0.2}}}}},{\"type\":\"object\",\"name\":\"GlyphRenderer\",\"id\":\"p2733\",\"attributes\":{\"data_source\":{\"type\":\"object\",\"name\":\"ColumnDataSource\",\"id\":\"p2727\",\"attributes\":{\"selected\":{\"type\":\"object\",\"name\":\"Selection\",\"id\":\"p2728\",\"attributes\":{\"indices\":[],\"line_indices\":[]}},\"selection_policy\":{\"type\":\"object\",\"name\":\"UnionRenderers\",\"id\":\"p2729\"},\"data\":{\"type\":\"map\",\"entries\":[[\"left\",{\"type\":\"ndarray\",\"array\":{\"type\":\"bytes\",\"data\":\"wNvOQraI0T+4gT/rXnrkP8jKi1oxGPA/tNR3PzPz9T+g3mMkNc77P0b0p4Sb1ABAPPkddxzCA0Ay/pNpna8GQCgDClwenQlAIAiATp+KDEAUDfZAIHgPQAYJtpnQMhFAgAvxEpGpEkD8DSyMUSAUQHYQZwUSlxVA8hKiftINF0BsFd33koQYQA==\"},\"shape\":[17],\"dtype\":\"float64\",\"order\":\"little\"}],[\"right\",{\"type\":\"ndarray\",\"array\":{\"type\":\"bytes\",\"data\":\"uIE/61565D/IyotaMRjwP7TUdz8z8/U/oN5jJDXO+z9G9KeEm9QAQDz5HXccwgNAMv6TaZ2vBkAoAwpcHp0JQCAIgE6figxAFA32QCB4D0AGCbaZ0DIRQIAL8RKRqRJA/A0sjFEgFEB2EGcFEpcVQPISon7SDRdAbBXd95KEGEDnFxhxU/sZQA==\"},\"shape\":[17],\"dtype\":\"float64\",\"order\":\"little\"}],[\"top\",{\"type\":\"ndarray\",\"array\":{\"type\":\"bytes\",\"data\":\"AAAAAIcAAAAiAAAAAAAAAOQAAAABAAAAAAAAAMAAAAAEAAAAAAAAAIYAAAABAAAAAAAAADsAAAABAAAAAAAAAA0AAAA=\"},\"shape\":[17],\"dtype\":\"int32\",\"order\":\"little\"}]]}}},\"view\":{\"type\":\"object\",\"name\":\"CDSView\",\"id\":\"p2734\",\"attributes\":{\"filter\":{\"type\":\"object\",\"name\":\"AllIndices\",\"id\":\"p2735\"}}},\"glyph\":{\"type\":\"object\",\"name\":\"Quad\",\"id\":\"p2730\",\"attributes\":{\"left\":{\"type\":\"field\",\"field\":\"left\"},\"right\":{\"type\":\"field\",\"field\":\"right\"},\"bottom\":{\"type\":\"value\",\"value\":0},\"top\":{\"type\":\"field\",\"field\":\"top\"},\"line_color\":{\"type\":\"value\",\"value\":null},\"fill_color\":{\"type\":\"value\",\"value\":\"limegreen\"},\"hatch_color\":{\"type\":\"value\",\"value\":\"limegreen\"}}},\"nonselection_glyph\":{\"type\":\"object\",\"name\":\"Quad\",\"id\":\"p2731\",\"attributes\":{\"left\":{\"type\":\"field\",\"field\":\"left\"},\"right\":{\"type\":\"field\",\"field\":\"right\"},\"bottom\":{\"type\":\"value\",\"value\":0},\"top\":{\"type\":\"field\",\"field\":\"top\"},\"line_color\":{\"type\":\"value\",\"value\":null},\"line_alpha\":{\"type\":\"value\",\"value\":0.1},\"fill_color\":{\"type\":\"value\",\"value\":\"limegreen\"},\"fill_alpha\":{\"type\":\"value\",\"value\":0.1},\"hatch_color\":{\"type\":\"value\",\"value\":\"limegreen\"},\"hatch_alpha\":{\"type\":\"value\",\"value\":0.1}}},\"muted_glyph\":{\"type\":\"object\",\"name\":\"Quad\",\"id\":\"p2732\",\"attributes\":{\"left\":{\"type\":\"field\",\"field\":\"left\"},\"right\":{\"type\":\"field\",\"field\":\"right\"},\"bottom\":{\"type\":\"value\",\"value\":0},\"top\":{\"type\":\"field\",\"field\":\"top\"},\"line_color\":{\"type\":\"value\",\"value\":null},\"line_alpha\":{\"type\":\"value\",\"value\":0.2},\"fill_color\":{\"type\":\"value\",\"value\":\"limegreen\"},\"fill_alpha\":{\"type\":\"value\",\"value\":0.2},\"hatch_color\":{\"type\":\"value\",\"value\":\"limegreen\"},\"hatch_alpha\":{\"type\":\"value\",\"value\":0.2}}}}}],\"toolbar\":{\"type\":\"object\",\"name\":\"Toolbar\",\"id\":\"p2691\",\"attributes\":{\"tools\":[{\"type\":\"object\",\"name\":\"PanTool\",\"id\":\"p2705\"},{\"type\":\"object\",\"name\":\"WheelZoomTool\",\"id\":\"p2706\",\"attributes\":{\"renderers\":\"auto\"}},{\"type\":\"object\",\"name\":\"BoxZoomTool\",\"id\":\"p2707\",\"attributes\":{\"overlay\":{\"type\":\"object\",\"name\":\"BoxAnnotation\",\"id\":\"p2708\",\"attributes\":{\"syncable\":false,\"line_color\":\"black\",\"line_alpha\":1.0,\"line_width\":2,\"line_dash\":[4,4],\"fill_color\":\"lightgrey\",\"fill_alpha\":0.5,\"level\":\"overlay\",\"visible\":false,\"left\":{\"type\":\"number\",\"value\":\"nan\"},\"right\":{\"type\":\"number\",\"value\":\"nan\"},\"top\":{\"type\":\"number\",\"value\":\"nan\"},\"bottom\":{\"type\":\"number\",\"value\":\"nan\"},\"left_units\":\"canvas\",\"right_units\":\"canvas\",\"top_units\":\"canvas\",\"bottom_units\":\"canvas\",\"handles\":{\"type\":\"object\",\"name\":\"BoxInteractionHandles\",\"id\":\"p2714\",\"attributes\":{\"all\":{\"type\":\"object\",\"name\":\"AreaVisuals\",\"id\":\"p2713\",\"attributes\":{\"fill_color\":\"white\",\"hover_fill_color\":\"lightgray\"}}}}}}}},{\"type\":\"object\",\"name\":\"SaveTool\",\"id\":\"p2715\"},{\"type\":\"object\",\"name\":\"ResetTool\",\"id\":\"p2716\"},{\"type\":\"object\",\"name\":\"HelpTool\",\"id\":\"p2717\"}]}},\"left\":[{\"type\":\"object\",\"name\":\"LinearAxis\",\"id\":\"p2700\",\"attributes\":{\"ticker\":{\"type\":\"object\",\"name\":\"BasicTicker\",\"id\":\"p2701\",\"attributes\":{\"mantissas\":[1,2,5]}},\"formatter\":{\"type\":\"object\",\"name\":\"BasicTickFormatter\",\"id\":\"p2702\"},\"major_label_policy\":{\"type\":\"object\",\"name\":\"AllLabels\",\"id\":\"p2703\"}}}],\"below\":[{\"type\":\"object\",\"name\":\"LinearAxis\",\"id\":\"p2695\",\"attributes\":{\"ticker\":{\"type\":\"object\",\"name\":\"BasicTicker\",\"id\":\"p2696\",\"attributes\":{\"mantissas\":[1,2,5]}},\"formatter\":{\"type\":\"object\",\"name\":\"BasicTickFormatter\",\"id\":\"p2697\"},\"major_label_policy\":{\"type\":\"object\",\"name\":\"AllLabels\",\"id\":\"p2698\"}}}],\"center\":[{\"type\":\"object\",\"name\":\"Grid\",\"id\":\"p2699\",\"attributes\":{\"axis\":{\"id\":\"p2695\"}}},{\"type\":\"object\",\"name\":\"Grid\",\"id\":\"p2704\",\"attributes\":{\"dimension\":1,\"axis\":{\"id\":\"p2700\"}}}]}}]}},{\"type\":\"object\",\"name\":\"Row\",\"id\":\"p2899\",\"attributes\":{\"children\":[{\"type\":\"object\",\"name\":\"Figure\",\"id\":\"p2736\",\"attributes\":{\"width\":380,\"height\":360,\"x_range\":{\"type\":\"object\",\"name\":\"Range1d\",\"id\":\"p2746\",\"attributes\":{\"start\":-8.347774042961175,\"end\":34.13513322261159}},\"y_range\":{\"type\":\"object\",\"name\":\"DataRange1d\",\"id\":\"p2738\"},\"x_scale\":{\"type\":\"object\",\"name\":\"LinearScale\",\"id\":\"p2747\"},\"y_scale\":{\"type\":\"object\",\"name\":\"LinearScale\",\"id\":\"p2748\"},\"title\":{\"type\":\"object\",\"name\":\"Title\",\"id\":\"p2739\",\"attributes\":{\"text\":\"32 runs\"}},\"renderers\":[{\"type\":\"object\",\"name\":\"GlyphRenderer\",\"id\":\"p2778\",\"attributes\":{\"data_source\":{\"type\":\"object\",\"name\":\"ColumnDataSource\",\"id\":\"p2772\",\"attributes\":{\"selected\":{\"type\":\"object\",\"name\":\"Selection\",\"id\":\"p2773\",\"attributes\":{\"indices\":[],\"line_indices\":[]}},\"selection_policy\":{\"type\":\"object\",\"name\":\"UnionRenderers\",\"id\":\"p2774\"},\"data\":{\"type\":\"map\",\"entries\":[[\"left\",{\"type\":\"ndarray\",\"array\":{\"type\":\"bytes\",\"data\":\"shYQSbvIFsDgK2CN20oUwA1BsNH7zBHAdqwALDieDsDR1qC0eKIJwCwBQT25pgTAEFfCi/NV/7/EqwKddF71v/gAhlzrzea/QFM1+Gv3tr8=\"},\"shape\":[10],\"dtype\":\"float64\",\"order\":\"little\"}],[\"right\",{\"type\":\"ndarray\",\"array\":{\"type\":\"bytes\",\"data\":\"4CtgjdtKFMANQbDR+8wRwHasACw4ng7A0dagtHiiCcAsAUE9uaYEwBBXwovzVf+/xKsCnXRe9b/4AIZc683mv0BTNfhr97a/MKx4XhAQ4T8=\"},\"shape\":[10],\"dtype\":\"float64\",\"order\":\"little\"}],[\"top\",{\"type\":\"ndarray\",\"array\":{\"type\":\"bytes\",\"data\":\"AQAAAAIAAAAAAAAAAQAAAAAAAAAOAAAAAAAAABoAAAAyAAAAAgAAAA==\"},\"shape\":[10],\"dtype\":\"int32\",\"order\":\"little\"}]]}}},\"view\":{\"type\":\"object\",\"name\":\"CDSView\",\"id\":\"p2779\",\"attributes\":{\"filter\":{\"type\":\"object\",\"name\":\"AllIndices\",\"id\":\"p2780\"}}},\"glyph\":{\"type\":\"object\",\"name\":\"Quad\",\"id\":\"p2775\",\"attributes\":{\"left\":{\"type\":\"field\",\"field\":\"left\"},\"right\":{\"type\":\"field\",\"field\":\"right\"},\"bottom\":{\"type\":\"value\",\"value\":0},\"top\":{\"type\":\"field\",\"field\":\"top\"},\"line_color\":{\"type\":\"value\",\"value\":null},\"fill_color\":{\"type\":\"value\",\"value\":\"purple\"},\"hatch_color\":{\"type\":\"value\",\"value\":\"purple\"}}},\"nonselection_glyph\":{\"type\":\"object\",\"name\":\"Quad\",\"id\":\"p2776\",\"attributes\":{\"left\":{\"type\":\"field\",\"field\":\"left\"},\"right\":{\"type\":\"field\",\"field\":\"right\"},\"bottom\":{\"type\":\"value\",\"value\":0},\"top\":{\"type\":\"field\",\"field\":\"top\"},\"line_color\":{\"type\":\"value\",\"value\":null},\"line_alpha\":{\"type\":\"value\",\"value\":0.1},\"fill_color\":{\"type\":\"value\",\"value\":\"purple\"},\"fill_alpha\":{\"type\":\"value\",\"value\":0.1},\"hatch_color\":{\"type\":\"value\",\"value\":\"purple\"},\"hatch_alpha\":{\"type\":\"value\",\"value\":0.1}}},\"muted_glyph\":{\"type\":\"object\",\"name\":\"Quad\",\"id\":\"p2777\",\"attributes\":{\"left\":{\"type\":\"field\",\"field\":\"left\"},\"right\":{\"type\":\"field\",\"field\":\"right\"},\"bottom\":{\"type\":\"value\",\"value\":0},\"top\":{\"type\":\"field\",\"field\":\"top\"},\"line_color\":{\"type\":\"value\",\"value\":null},\"line_alpha\":{\"type\":\"value\",\"value\":0.2},\"fill_color\":{\"type\":\"value\",\"value\":\"purple\"},\"fill_alpha\":{\"type\":\"value\",\"value\":0.2},\"hatch_color\":{\"type\":\"value\",\"value\":\"purple\"},\"hatch_alpha\":{\"type\":\"value\",\"value\":0.2}}}}},{\"type\":\"object\",\"name\":\"GlyphRenderer\",\"id\":\"p2787\",\"attributes\":{\"data_source\":{\"type\":\"object\",\"name\":\"ColumnDataSource\",\"id\":\"p2781\",\"attributes\":{\"selected\":{\"type\":\"object\",\"name\":\"Selection\",\"id\":\"p2782\",\"attributes\":{\"indices\":[],\"line_indices\":[]}},\"selection_policy\":{\"type\":\"object\",\"name\":\"UnionRenderers\",\"id\":\"p2783\"},\"data\":{\"type\":\"map\",\"entries\":[[\"left\",{\"type\":\"ndarray\",\"array\":{\"type\":\"bytes\",\"data\":\"MKx4XhAQ4T9gAfwdh3/yP6isuwwGd/w/+Ku9fUI3A0CggR31ATMIQERXfWzBLg1AdJbucUAVEUBGgZ4tIJMTQBhsTun/EBZA7Fb+pN+OGEC+Qa5gvwwbQJAsXhyfih1AsQsHbD8EIEAaAd9JL0MhQIP2ticfgiJA7euOBQ/BI0BV4Wbj/v8kQL/WPsHuPiZAKcwWn959J0CRwe58zrwoQA==\"},\"shape\":[20],\"dtype\":\"float64\",\"order\":\"little\"}],[\"right\",{\"type\":\"ndarray\",\"array\":{\"type\":\"bytes\",\"data\":\"YAH8HYd/8j+orLsMBnf8P/irvX1CNwNAoIEd9QEzCEBEV31swS4NQHSW7nFAFRFARoGeLSCTE0AYbE7p/xAWQOxW/qTfjhhAvkGuYL8MG0CQLF4cn4odQLELB2w/BCBAGgHfSS9DIUCD9rYnH4IiQO3rjgUPwSNAVeFm4/7/JEC/1j7B7j4mQCnMFp/efSdAkcHufM68KED6tsZavvspQA==\"},\"shape\":[20],\"dtype\":\"float64\",\"order\":\"little\"}],[\"top\",{\"type\":\"ndarray\",\"array\":{\"type\":\"bytes\",\"data\":\"QgAAAAAAAABzAAAAAAAAAHkAAACWAAAAAAAAAKIAAAAAAAAAfQAAAAQAAABSAAAAKAAAAAEAAAAdAAAAAAAAAAgAAAAAAAAAAAAAAAEAAAA=\"},\"shape\":[20],\"dtype\":\"int32\",\"order\":\"little\"}]]}}},\"view\":{\"type\":\"object\",\"name\":\"CDSView\",\"id\":\"p2788\",\"attributes\":{\"filter\":{\"type\":\"object\",\"name\":\"AllIndices\",\"id\":\"p2789\"}}},\"glyph\":{\"type\":\"object\",\"name\":\"Quad\",\"id\":\"p2784\",\"attributes\":{\"left\":{\"type\":\"field\",\"field\":\"left\"},\"right\":{\"type\":\"field\",\"field\":\"right\"},\"bottom\":{\"type\":\"value\",\"value\":0},\"top\":{\"type\":\"field\",\"field\":\"top\"},\"line_color\":{\"type\":\"value\",\"value\":null},\"fill_color\":{\"type\":\"value\",\"value\":\"limegreen\"},\"hatch_color\":{\"type\":\"value\",\"value\":\"limegreen\"}}},\"nonselection_glyph\":{\"type\":\"object\",\"name\":\"Quad\",\"id\":\"p2785\",\"attributes\":{\"left\":{\"type\":\"field\",\"field\":\"left\"},\"right\":{\"type\":\"field\",\"field\":\"right\"},\"bottom\":{\"type\":\"value\",\"value\":0},\"top\":{\"type\":\"field\",\"field\":\"top\"},\"line_color\":{\"type\":\"value\",\"value\":null},\"line_alpha\":{\"type\":\"value\",\"value\":0.1},\"fill_color\":{\"type\":\"value\",\"value\":\"limegreen\"},\"fill_alpha\":{\"type\":\"value\",\"value\":0.1},\"hatch_color\":{\"type\":\"value\",\"value\":\"limegreen\"},\"hatch_alpha\":{\"type\":\"value\",\"value\":0.1}}},\"muted_glyph\":{\"type\":\"object\",\"name\":\"Quad\",\"id\":\"p2786\",\"attributes\":{\"left\":{\"type\":\"field\",\"field\":\"left\"},\"right\":{\"type\":\"field\",\"field\":\"right\"},\"bottom\":{\"type\":\"value\",\"value\":0},\"top\":{\"type\":\"field\",\"field\":\"top\"},\"line_color\":{\"type\":\"value\",\"value\":null},\"line_alpha\":{\"type\":\"value\",\"value\":0.2},\"fill_color\":{\"type\":\"value\",\"value\":\"limegreen\"},\"fill_alpha\":{\"type\":\"value\",\"value\":0.2},\"hatch_color\":{\"type\":\"value\",\"value\":\"limegreen\"},\"hatch_alpha\":{\"type\":\"value\",\"value\":0.2}}}}}],\"toolbar\":{\"type\":\"object\",\"name\":\"Toolbar\",\"id\":\"p2745\",\"attributes\":{\"tools\":[{\"type\":\"object\",\"name\":\"PanTool\",\"id\":\"p2759\"},{\"type\":\"object\",\"name\":\"WheelZoomTool\",\"id\":\"p2760\",\"attributes\":{\"renderers\":\"auto\"}},{\"type\":\"object\",\"name\":\"BoxZoomTool\",\"id\":\"p2761\",\"attributes\":{\"overlay\":{\"type\":\"object\",\"name\":\"BoxAnnotation\",\"id\":\"p2762\",\"attributes\":{\"syncable\":false,\"line_color\":\"black\",\"line_alpha\":1.0,\"line_width\":2,\"line_dash\":[4,4],\"fill_color\":\"lightgrey\",\"fill_alpha\":0.5,\"level\":\"overlay\",\"visible\":false,\"left\":{\"type\":\"number\",\"value\":\"nan\"},\"right\":{\"type\":\"number\",\"value\":\"nan\"},\"top\":{\"type\":\"number\",\"value\":\"nan\"},\"bottom\":{\"type\":\"number\",\"value\":\"nan\"},\"left_units\":\"canvas\",\"right_units\":\"canvas\",\"top_units\":\"canvas\",\"bottom_units\":\"canvas\",\"handles\":{\"type\":\"object\",\"name\":\"BoxInteractionHandles\",\"id\":\"p2768\",\"attributes\":{\"all\":{\"type\":\"object\",\"name\":\"AreaVisuals\",\"id\":\"p2767\",\"attributes\":{\"fill_color\":\"white\",\"hover_fill_color\":\"lightgray\"}}}}}}}},{\"type\":\"object\",\"name\":\"SaveTool\",\"id\":\"p2769\"},{\"type\":\"object\",\"name\":\"ResetTool\",\"id\":\"p2770\"},{\"type\":\"object\",\"name\":\"HelpTool\",\"id\":\"p2771\"}]}},\"left\":[{\"type\":\"object\",\"name\":\"LinearAxis\",\"id\":\"p2754\",\"attributes\":{\"ticker\":{\"type\":\"object\",\"name\":\"BasicTicker\",\"id\":\"p2755\",\"attributes\":{\"mantissas\":[1,2,5]}},\"formatter\":{\"type\":\"object\",\"name\":\"BasicTickFormatter\",\"id\":\"p2756\"},\"major_label_policy\":{\"type\":\"object\",\"name\":\"AllLabels\",\"id\":\"p2757\"}}}],\"below\":[{\"type\":\"object\",\"name\":\"LinearAxis\",\"id\":\"p2749\",\"attributes\":{\"ticker\":{\"type\":\"object\",\"name\":\"BasicTicker\",\"id\":\"p2750\",\"attributes\":{\"mantissas\":[1,2,5]}},\"formatter\":{\"type\":\"object\",\"name\":\"BasicTickFormatter\",\"id\":\"p2751\"},\"major_label_policy\":{\"type\":\"object\",\"name\":\"AllLabels\",\"id\":\"p2752\"}}}],\"center\":[{\"type\":\"object\",\"name\":\"Grid\",\"id\":\"p2753\",\"attributes\":{\"axis\":{\"id\":\"p2749\"}}},{\"type\":\"object\",\"name\":\"Grid\",\"id\":\"p2758\",\"attributes\":{\"dimension\":1,\"axis\":{\"id\":\"p2754\"}}}]}},{\"type\":\"object\",\"name\":\"Figure\",\"id\":\"p2790\",\"attributes\":{\"width\":380,\"height\":360,\"x_range\":{\"type\":\"object\",\"name\":\"Range1d\",\"id\":\"p2800\",\"attributes\":{\"start\":-8.347774042961175,\"end\":34.13513322261159}},\"y_range\":{\"type\":\"object\",\"name\":\"DataRange1d\",\"id\":\"p2792\"},\"x_scale\":{\"type\":\"object\",\"name\":\"LinearScale\",\"id\":\"p2801\"},\"y_scale\":{\"type\":\"object\",\"name\":\"LinearScale\",\"id\":\"p2802\"},\"title\":{\"type\":\"object\",\"name\":\"Title\",\"id\":\"p2793\",\"attributes\":{\"text\":\"64 runs\"}},\"renderers\":[{\"type\":\"object\",\"name\":\"GlyphRenderer\",\"id\":\"p2832\",\"attributes\":{\"data_source\":{\"type\":\"object\",\"name\":\"ColumnDataSource\",\"id\":\"p2826\",\"attributes\":{\"selected\":{\"type\":\"object\",\"name\":\"Selection\",\"id\":\"p2827\",\"attributes\":{\"indices\":[],\"line_indices\":[]}},\"selection_policy\":{\"type\":\"object\",\"name\":\"UnionRenderers\",\"id\":\"p2828\"},\"data\":{\"type\":\"map\",\"entries\":[[\"left\",{\"type\":\"ndarray\",\"array\":{\"type\":\"bytes\",\"data\":\"Jupglzc2E8B/IHTXoCQPwLJsJoDS3AfA5rjYKASVAMAyChaja5ryv2CK6tE7K9C/\"},\"shape\":[6],\"dtype\":\"float64\",\"order\":\"little\"}],[\"right\",{\"type\":\"ndarray\",\"array\":{\"type\":\"bytes\",\"data\":\"fyB016AkD8CybCaA0twHwOa42CgElQDAMgoWo2ua8r9giurROyvQvwCKQXSbCeU/\"},\"shape\":[6],\"dtype\":\"float64\",\"order\":\"little\"}],[\"top\",{\"type\":\"ndarray\",\"array\":{\"type\":\"bytes\",\"data\":\"AQAAAAAAAAAGAAAABgAAAAoAAAABAAAA\"},\"shape\":[6],\"dtype\":\"int32\",\"order\":\"little\"}]]}}},\"view\":{\"type\":\"object\",\"name\":\"CDSView\",\"id\":\"p2833\",\"attributes\":{\"filter\":{\"type\":\"object\",\"name\":\"AllIndices\",\"id\":\"p2834\"}}},\"glyph\":{\"type\":\"object\",\"name\":\"Quad\",\"id\":\"p2829\",\"attributes\":{\"left\":{\"type\":\"field\",\"field\":\"left\"},\"right\":{\"type\":\"field\",\"field\":\"right\"},\"bottom\":{\"type\":\"value\",\"value\":0},\"top\":{\"type\":\"field\",\"field\":\"top\"},\"line_color\":{\"type\":\"value\",\"value\":null},\"fill_color\":{\"type\":\"value\",\"value\":\"purple\"},\"hatch_color\":{\"type\":\"value\",\"value\":\"purple\"}}},\"nonselection_glyph\":{\"type\":\"object\",\"name\":\"Quad\",\"id\":\"p2830\",\"attributes\":{\"left\":{\"type\":\"field\",\"field\":\"left\"},\"right\":{\"type\":\"field\",\"field\":\"right\"},\"bottom\":{\"type\":\"value\",\"value\":0},\"top\":{\"type\":\"field\",\"field\":\"top\"},\"line_color\":{\"type\":\"value\",\"value\":null},\"line_alpha\":{\"type\":\"value\",\"value\":0.1},\"fill_color\":{\"type\":\"value\",\"value\":\"purple\"},\"fill_alpha\":{\"type\":\"value\",\"value\":0.1},\"hatch_color\":{\"type\":\"value\",\"value\":\"purple\"},\"hatch_alpha\":{\"type\":\"value\",\"value\":0.1}}},\"muted_glyph\":{\"type\":\"object\",\"name\":\"Quad\",\"id\":\"p2831\",\"attributes\":{\"left\":{\"type\":\"field\",\"field\":\"left\"},\"right\":{\"type\":\"field\",\"field\":\"right\"},\"bottom\":{\"type\":\"value\",\"value\":0},\"top\":{\"type\":\"field\",\"field\":\"top\"},\"line_color\":{\"type\":\"value\",\"value\":null},\"line_alpha\":{\"type\":\"value\",\"value\":0.2},\"fill_color\":{\"type\":\"value\",\"value\":\"purple\"},\"fill_alpha\":{\"type\":\"value\",\"value\":0.2},\"hatch_color\":{\"type\":\"value\",\"value\":\"purple\"},\"hatch_alpha\":{\"type\":\"value\",\"value\":0.2}}}}},{\"type\":\"object\",\"name\":\"GlyphRenderer\",\"id\":\"p2841\",\"attributes\":{\"data_source\":{\"type\":\"object\",\"name\":\"ColumnDataSource\",\"id\":\"p2835\",\"attributes\":{\"selected\":{\"type\":\"object\",\"name\":\"Selection\",\"id\":\"p2836\",\"attributes\":{\"indices\":[],\"line_indices\":[]}},\"selection_policy\":{\"type\":\"object\",\"name\":\"UnionRenderers\",\"id\":\"p2837\"},\"data\":{\"type\":\"map\",\"entries\":[[\"left\",{\"type\":\"ndarray\",\"array\":{\"type\":\"bytes\",\"data\":\"AIpBdJsJ5T+cLLxoahT5PxrKq4sD0gNA6H354tEZC0DamCMd0DARQMByyki31BRApkxxdJ54GECMJhighRwcQHQAv8tswB9ALe2y+ymyIUAgWoaRHYQjQBPHWScRViVABzQtvQQoJ0D5oABT+PkoQO0N1OjryypA33qnft+dLEDT53oU028uQGQqJ1XjIDBA3OAQIN0JMUBWl/rq1vIxQNBN5LXQ2zJASgTOgMrEM0DEurdLxK00QDxxoRa+ljVA\"},\"shape\":[24],\"dtype\":\"float64\",\"order\":\"little\"}],[\"right\",{\"type\":\"ndarray\",\"array\":{\"type\":\"bytes\",\"data\":\"nCy8aGoU+T8ayquLA9IDQOh9+eLRGQtA2pgjHdAwEUDAcspIt9QUQKZMcXSeeBhAjCYYoIUcHEB0AL/LbMAfQC3tsvspsiFAIFqGkR2EI0ATx1knEVYlQAc0Lb0EKCdA+aAAU/j5KEDtDdTo68sqQN96p37fnSxA0+d6FNNvLkBkKidV4yAwQNzgECDdCTFAVpf66tbyMUDQTeS10NsyQEoEzoDKxDNAxLq3S8StNEA8caEWvpY1QLYni+G3fzZA\"},\"shape\":[24],\"dtype\":\"float64\",\"order\":\"little\"}],[\"top\",{\"type\":\"ndarray\",\"array\":{\"type\":\"bytes\",\"data\":\"GQAAABsAAAAfAAAANQAAAE0AAAAAAAAAYQAAAGgAAABuAAAAYAAAAGQAAAAIAAAAWgAAAEIAAAAoAAAAHAAAAA4AAAABAAAABQAAAAIAAAABAAAAAAAAAAAAAAABAAAA\"},\"shape\":[24],\"dtype\":\"int32\",\"order\":\"little\"}]]}}},\"view\":{\"type\":\"object\",\"name\":\"CDSView\",\"id\":\"p2842\",\"attributes\":{\"filter\":{\"type\":\"object\",\"name\":\"AllIndices\",\"id\":\"p2843\"}}},\"glyph\":{\"type\":\"object\",\"name\":\"Quad\",\"id\":\"p2838\",\"attributes\":{\"left\":{\"type\":\"field\",\"field\":\"left\"},\"right\":{\"type\":\"field\",\"field\":\"right\"},\"bottom\":{\"type\":\"value\",\"value\":0},\"top\":{\"type\":\"field\",\"field\":\"top\"},\"line_color\":{\"type\":\"value\",\"value\":null},\"fill_color\":{\"type\":\"value\",\"value\":\"limegreen\"},\"hatch_color\":{\"type\":\"value\",\"value\":\"limegreen\"}}},\"nonselection_glyph\":{\"type\":\"object\",\"name\":\"Quad\",\"id\":\"p2839\",\"attributes\":{\"left\":{\"type\":\"field\",\"field\":\"left\"},\"right\":{\"type\":\"field\",\"field\":\"right\"},\"bottom\":{\"type\":\"value\",\"value\":0},\"top\":{\"type\":\"field\",\"field\":\"top\"},\"line_color\":{\"type\":\"value\",\"value\":null},\"line_alpha\":{\"type\":\"value\",\"value\":0.1},\"fill_color\":{\"type\":\"value\",\"value\":\"limegreen\"},\"fill_alpha\":{\"type\":\"value\",\"value\":0.1},\"hatch_color\":{\"type\":\"value\",\"value\":\"limegreen\"},\"hatch_alpha\":{\"type\":\"value\",\"value\":0.1}}},\"muted_glyph\":{\"type\":\"object\",\"name\":\"Quad\",\"id\":\"p2840\",\"attributes\":{\"left\":{\"type\":\"field\",\"field\":\"left\"},\"right\":{\"type\":\"field\",\"field\":\"right\"},\"bottom\":{\"type\":\"value\",\"value\":0},\"top\":{\"type\":\"field\",\"field\":\"top\"},\"line_color\":{\"type\":\"value\",\"value\":null},\"line_alpha\":{\"type\":\"value\",\"value\":0.2},\"fill_color\":{\"type\":\"value\",\"value\":\"limegreen\"},\"fill_alpha\":{\"type\":\"value\",\"value\":0.2},\"hatch_color\":{\"type\":\"value\",\"value\":\"limegreen\"},\"hatch_alpha\":{\"type\":\"value\",\"value\":0.2}}}}}],\"toolbar\":{\"type\":\"object\",\"name\":\"Toolbar\",\"id\":\"p2799\",\"attributes\":{\"tools\":[{\"type\":\"object\",\"name\":\"PanTool\",\"id\":\"p2813\"},{\"type\":\"object\",\"name\":\"WheelZoomTool\",\"id\":\"p2814\",\"attributes\":{\"renderers\":\"auto\"}},{\"type\":\"object\",\"name\":\"BoxZoomTool\",\"id\":\"p2815\",\"attributes\":{\"overlay\":{\"type\":\"object\",\"name\":\"BoxAnnotation\",\"id\":\"p2816\",\"attributes\":{\"syncable\":false,\"line_color\":\"black\",\"line_alpha\":1.0,\"line_width\":2,\"line_dash\":[4,4],\"fill_color\":\"lightgrey\",\"fill_alpha\":0.5,\"level\":\"overlay\",\"visible\":false,\"left\":{\"type\":\"number\",\"value\":\"nan\"},\"right\":{\"type\":\"number\",\"value\":\"nan\"},\"top\":{\"type\":\"number\",\"value\":\"nan\"},\"bottom\":{\"type\":\"number\",\"value\":\"nan\"},\"left_units\":\"canvas\",\"right_units\":\"canvas\",\"top_units\":\"canvas\",\"bottom_units\":\"canvas\",\"handles\":{\"type\":\"object\",\"name\":\"BoxInteractionHandles\",\"id\":\"p2822\",\"attributes\":{\"all\":{\"type\":\"object\",\"name\":\"AreaVisuals\",\"id\":\"p2821\",\"attributes\":{\"fill_color\":\"white\",\"hover_fill_color\":\"lightgray\"}}}}}}}},{\"type\":\"object\",\"name\":\"SaveTool\",\"id\":\"p2823\"},{\"type\":\"object\",\"name\":\"ResetTool\",\"id\":\"p2824\"},{\"type\":\"object\",\"name\":\"HelpTool\",\"id\":\"p2825\"}]}},\"left\":[{\"type\":\"object\",\"name\":\"LinearAxis\",\"id\":\"p2808\",\"attributes\":{\"ticker\":{\"type\":\"object\",\"name\":\"BasicTicker\",\"id\":\"p2809\",\"attributes\":{\"mantissas\":[1,2,5]}},\"formatter\":{\"type\":\"object\",\"name\":\"BasicTickFormatter\",\"id\":\"p2810\"},\"major_label_policy\":{\"type\":\"object\",\"name\":\"AllLabels\",\"id\":\"p2811\"}}}],\"below\":[{\"type\":\"object\",\"name\":\"LinearAxis\",\"id\":\"p2803\",\"attributes\":{\"ticker\":{\"type\":\"object\",\"name\":\"BasicTicker\",\"id\":\"p2804\",\"attributes\":{\"mantissas\":[1,2,5]}},\"formatter\":{\"type\":\"object\",\"name\":\"BasicTickFormatter\",\"id\":\"p2805\"},\"major_label_policy\":{\"type\":\"object\",\"name\":\"AllLabels\",\"id\":\"p2806\"}}}],\"center\":[{\"type\":\"object\",\"name\":\"Grid\",\"id\":\"p2807\",\"attributes\":{\"axis\":{\"id\":\"p2803\"}}},{\"type\":\"object\",\"name\":\"Grid\",\"id\":\"p2812\",\"attributes\":{\"dimension\":1,\"axis\":{\"id\":\"p2808\"}}}]}}]}},{\"type\":\"object\",\"name\":\"Row\",\"id\":\"p2900\",\"attributes\":{\"children\":[{\"type\":\"object\",\"name\":\"Figure\",\"id\":\"p2844\",\"attributes\":{\"width\":380,\"height\":360,\"x_range\":{\"type\":\"object\",\"name\":\"Range1d\",\"id\":\"p2854\",\"attributes\":{\"start\":-8.347774042961175,\"end\":34.13513322261159}},\"y_range\":{\"type\":\"object\",\"name\":\"DataRange1d\",\"id\":\"p2846\"},\"x_scale\":{\"type\":\"object\",\"name\":\"LinearScale\",\"id\":\"p2855\"},\"y_scale\":{\"type\":\"object\",\"name\":\"LinearScale\",\"id\":\"p2856\"},\"title\":{\"type\":\"object\",\"name\":\"Title\",\"id\":\"p2847\",\"attributes\":{\"text\":\"128 runs\"}},\"renderers\":[{\"type\":\"object\",\"name\":\"GlyphRenderer\",\"id\":\"p2886\",\"attributes\":{\"data_source\":{\"type\":\"object\",\"name\":\"ColumnDataSource\",\"id\":\"p2880\",\"attributes\":{\"selected\":{\"type\":\"object\",\"name\":\"Selection\",\"id\":\"p2881\",\"attributes\":{\"indices\":[],\"line_indices\":[]}},\"selection_policy\":{\"type\":\"object\",\"name\":\"UnionRenderers\",\"id\":\"p2882\"},\"data\":{\"type\":\"map\",\"entries\":[[\"left\",{\"type\":\"ndarray\",\"array\":{\"type\":\"bytes\",\"data\":\"x+Eq5wXt+r9kaCY7sErfvw==\"},\"shape\":[2],\"dtype\":\"float64\",\"order\":\"little\"}],[\"right\",{\"type\":\"ndarray\",\"array\":{\"type\":\"bytes\",\"data\":\"ZGgmO7BK378qWy+TW4/mPw==\"},\"shape\":[2],\"dtype\":\"float64\",\"order\":\"little\"}],[\"top\",{\"type\":\"ndarray\",\"array\":{\"type\":\"bytes\",\"data\":\"AQAAAAEAAAA=\"},\"shape\":[2],\"dtype\":\"int32\",\"order\":\"little\"}]]}}},\"view\":{\"type\":\"object\",\"name\":\"CDSView\",\"id\":\"p2887\",\"attributes\":{\"filter\":{\"type\":\"object\",\"name\":\"AllIndices\",\"id\":\"p2888\"}}},\"glyph\":{\"type\":\"object\",\"name\":\"Quad\",\"id\":\"p2883\",\"attributes\":{\"left\":{\"type\":\"field\",\"field\":\"left\"},\"right\":{\"type\":\"field\",\"field\":\"right\"},\"bottom\":{\"type\":\"value\",\"value\":0},\"top\":{\"type\":\"field\",\"field\":\"top\"},\"line_color\":{\"type\":\"value\",\"value\":null},\"fill_color\":{\"type\":\"value\",\"value\":\"purple\"},\"hatch_color\":{\"type\":\"value\",\"value\":\"purple\"}}},\"nonselection_glyph\":{\"type\":\"object\",\"name\":\"Quad\",\"id\":\"p2884\",\"attributes\":{\"left\":{\"type\":\"field\",\"field\":\"left\"},\"right\":{\"type\":\"field\",\"field\":\"right\"},\"bottom\":{\"type\":\"value\",\"value\":0},\"top\":{\"type\":\"field\",\"field\":\"top\"},\"line_color\":{\"type\":\"value\",\"value\":null},\"line_alpha\":{\"type\":\"value\",\"value\":0.1},\"fill_color\":{\"type\":\"value\",\"value\":\"purple\"},\"fill_alpha\":{\"type\":\"value\",\"value\":0.1},\"hatch_color\":{\"type\":\"value\",\"value\":\"purple\"},\"hatch_alpha\":{\"type\":\"value\",\"value\":0.1}}},\"muted_glyph\":{\"type\":\"object\",\"name\":\"Quad\",\"id\":\"p2885\",\"attributes\":{\"left\":{\"type\":\"field\",\"field\":\"left\"},\"right\":{\"type\":\"field\",\"field\":\"right\"},\"bottom\":{\"type\":\"value\",\"value\":0},\"top\":{\"type\":\"field\",\"field\":\"top\"},\"line_color\":{\"type\":\"value\",\"value\":null},\"line_alpha\":{\"type\":\"value\",\"value\":0.2},\"fill_color\":{\"type\":\"value\",\"value\":\"purple\"},\"fill_alpha\":{\"type\":\"value\",\"value\":0.2},\"hatch_color\":{\"type\":\"value\",\"value\":\"purple\"},\"hatch_alpha\":{\"type\":\"value\",\"value\":0.2}}}}},{\"type\":\"object\",\"name\":\"GlyphRenderer\",\"id\":\"p2895\",\"attributes\":{\"data_source\":{\"type\":\"object\",\"name\":\"ColumnDataSource\",\"id\":\"p2889\",\"attributes\":{\"selected\":{\"type\":\"object\",\"name\":\"Selection\",\"id\":\"p2890\",\"attributes\":{\"indices\":[],\"line_indices\":[]}},\"selection_policy\":{\"type\":\"object\",\"name\":\"UnionRenderers\",\"id\":\"p2891\"},\"data\":{\"type\":\"map\",\"entries\":[[\"left\",{\"type\":\"ndarray\",\"array\":{\"type\":\"bytes\",\"data\":\"Klsvk1uP5j9D9fihB2L+P3geLb0wvghAKOGu1K4lEUATM8dKRewVQP6E38DbshpA6tb3NnJ5H0BrFIhWBCAiQGE9lJFPgyRAVmagzJrmJkBMj6wH5kkpQEK4uEIxrStAN+HEfXwQLkAXhWjc4zkwQJKZ7nmJazFADa50Fy+dMkCIwvq01M4zQAPXgFJ6ADVAfusG8B8yNkD4/4yNxWM3QHMUEytrlThA7iiZyBDHOUBpPR9mtvg6QORRpQNcKjxAX2YroQFcPUDaerE+p40+QFSPN9xMvz9A6NHePHl4QEA=\"},\"shape\":[28],\"dtype\":\"float64\",\"order\":\"little\"}],[\"right\",{\"type\":\"ndarray\",\"array\":{\"type\":\"bytes\",\"data\":\"Q/X4oQdi/j94Hi29ML4IQCjhrtSuJRFAEzPHSkXsFUD+hN/A27IaQOrW9zZyeR9AaxSIVgQgIkBhPZSRT4MkQFZmoMya5iZATI+sB+ZJKUBCuLhCMa0rQDfhxH18EC5AF4Vo3OM5MECSme55iWsxQA2udBcvnTJAiML6tNTOM0AD14BSegA1QH7rBvAfMjZA+P+MjcVjN0BzFBMra5U4QO4omcgQxzlAaT0fZrb4OkDkUaUDXCo8QF9mK6EBXD1A2nqxPqeNPkBUjzfcTL8/QOjR3jx5eEBAJdyhC0wRQUA=\"},\"shape\":[28],\"dtype\":\"float64\",\"order\":\"little\"}],[\"top\",{\"type\":\"ndarray\",\"array\":{\"type\":\"bytes\",\"data\":\"AAAAAAEAAAADAAAABgAAABQAAAAMAAAAKQAAAEoAAAAoAAAAMwAAAD8AAAA+AAAATwAAAFAAAABVAAAARAAAAEIAAABXAAAAQgAAABwAAAAfAAAADwAAAAYAAAADAAAABwAAAAIAAAABAAAAAQAAAA==\"},\"shape\":[28],\"dtype\":\"int32\",\"order\":\"little\"}]]}}},\"view\":{\"type\":\"object\",\"name\":\"CDSView\",\"id\":\"p2896\",\"attributes\":{\"filter\":{\"type\":\"object\",\"name\":\"AllIndices\",\"id\":\"p2897\"}}},\"glyph\":{\"type\":\"object\",\"name\":\"Quad\",\"id\":\"p2892\",\"attributes\":{\"left\":{\"type\":\"field\",\"field\":\"left\"},\"right\":{\"type\":\"field\",\"field\":\"right\"},\"bottom\":{\"type\":\"value\",\"value\":0},\"top\":{\"type\":\"field\",\"field\":\"top\"},\"line_color\":{\"type\":\"value\",\"value\":null},\"fill_color\":{\"type\":\"value\",\"value\":\"limegreen\"},\"hatch_color\":{\"type\":\"value\",\"value\":\"limegreen\"}}},\"nonselection_glyph\":{\"type\":\"object\",\"name\":\"Quad\",\"id\":\"p2893\",\"attributes\":{\"left\":{\"type\":\"field\",\"field\":\"left\"},\"right\":{\"type\":\"field\",\"field\":\"right\"},\"bottom\":{\"type\":\"value\",\"value\":0},\"top\":{\"type\":\"field\",\"field\":\"top\"},\"line_color\":{\"type\":\"value\",\"value\":null},\"line_alpha\":{\"type\":\"value\",\"value\":0.1},\"fill_color\":{\"type\":\"value\",\"value\":\"limegreen\"},\"fill_alpha\":{\"type\":\"value\",\"value\":0.1},\"hatch_color\":{\"type\":\"value\",\"value\":\"limegreen\"},\"hatch_alpha\":{\"type\":\"value\",\"value\":0.1}}},\"muted_glyph\":{\"type\":\"object\",\"name\":\"Quad\",\"id\":\"p2894\",\"attributes\":{\"left\":{\"type\":\"field\",\"field\":\"left\"},\"right\":{\"type\":\"field\",\"field\":\"right\"},\"bottom\":{\"type\":\"value\",\"value\":0},\"top\":{\"type\":\"field\",\"field\":\"top\"},\"line_color\":{\"type\":\"value\",\"value\":null},\"line_alpha\":{\"type\":\"value\",\"value\":0.2},\"fill_color\":{\"type\":\"value\",\"value\":\"limegreen\"},\"fill_alpha\":{\"type\":\"value\",\"value\":0.2},\"hatch_color\":{\"type\":\"value\",\"value\":\"limegreen\"},\"hatch_alpha\":{\"type\":\"value\",\"value\":0.2}}}}}],\"toolbar\":{\"type\":\"object\",\"name\":\"Toolbar\",\"id\":\"p2853\",\"attributes\":{\"tools\":[{\"type\":\"object\",\"name\":\"PanTool\",\"id\":\"p2867\"},{\"type\":\"object\",\"name\":\"WheelZoomTool\",\"id\":\"p2868\",\"attributes\":{\"renderers\":\"auto\"}},{\"type\":\"object\",\"name\":\"BoxZoomTool\",\"id\":\"p2869\",\"attributes\":{\"overlay\":{\"type\":\"object\",\"name\":\"BoxAnnotation\",\"id\":\"p2870\",\"attributes\":{\"syncable\":false,\"line_color\":\"black\",\"line_alpha\":1.0,\"line_width\":2,\"line_dash\":[4,4],\"fill_color\":\"lightgrey\",\"fill_alpha\":0.5,\"level\":\"overlay\",\"visible\":false,\"left\":{\"type\":\"number\",\"value\":\"nan\"},\"right\":{\"type\":\"number\",\"value\":\"nan\"},\"top\":{\"type\":\"number\",\"value\":\"nan\"},\"bottom\":{\"type\":\"number\",\"value\":\"nan\"},\"left_units\":\"canvas\",\"right_units\":\"canvas\",\"top_units\":\"canvas\",\"bottom_units\":\"canvas\",\"handles\":{\"type\":\"object\",\"name\":\"BoxInteractionHandles\",\"id\":\"p2876\",\"attributes\":{\"all\":{\"type\":\"object\",\"name\":\"AreaVisuals\",\"id\":\"p2875\",\"attributes\":{\"fill_color\":\"white\",\"hover_fill_color\":\"lightgray\"}}}}}}}},{\"type\":\"object\",\"name\":\"SaveTool\",\"id\":\"p2877\"},{\"type\":\"object\",\"name\":\"ResetTool\",\"id\":\"p2878\"},{\"type\":\"object\",\"name\":\"HelpTool\",\"id\":\"p2879\"}]}},\"left\":[{\"type\":\"object\",\"name\":\"LinearAxis\",\"id\":\"p2862\",\"attributes\":{\"ticker\":{\"type\":\"object\",\"name\":\"BasicTicker\",\"id\":\"p2863\",\"attributes\":{\"mantissas\":[1,2,5]}},\"formatter\":{\"type\":\"object\",\"name\":\"BasicTickFormatter\",\"id\":\"p2864\"},\"major_label_policy\":{\"type\":\"object\",\"name\":\"AllLabels\",\"id\":\"p2865\"}}}],\"below\":[{\"type\":\"object\",\"name\":\"LinearAxis\",\"id\":\"p2857\",\"attributes\":{\"ticker\":{\"type\":\"object\",\"name\":\"BasicTicker\",\"id\":\"p2858\",\"attributes\":{\"mantissas\":[1,2,5]}},\"formatter\":{\"type\":\"object\",\"name\":\"BasicTickFormatter\",\"id\":\"p2859\"},\"major_label_policy\":{\"type\":\"object\",\"name\":\"AllLabels\",\"id\":\"p2860\"}}}],\"center\":[{\"type\":\"object\",\"name\":\"Grid\",\"id\":\"p2861\",\"attributes\":{\"axis\":{\"id\":\"p2857\"}}},{\"type\":\"object\",\"name\":\"Grid\",\"id\":\"p2866\",\"attributes\":{\"dimension\":1,\"axis\":{\"id\":\"p2862\"}}}]}}]}},{\"type\":\"object\",\"name\":\"Row\",\"id\":\"p2901\"},{\"type\":\"object\",\"name\":\"Row\",\"id\":\"p2902\"},{\"type\":\"object\",\"name\":\"Row\",\"id\":\"p2903\"}]}}]}};\n  const render_items = [{\"docid\":\"8859a93a-19ab-4808-b59a-55b31899c1ec\",\"roots\":{\"p2904\":\"b84ffb05-cde5-4184-8d99-9d24c9362114\"},\"root_ids\":[\"p2904\"]}];\n  void root.Bokeh.embed.embed_items_notebook(docs_json, render_items);\n  }\n  if (root.Bokeh !== undefined) {\n    embed_document(root);\n  } else {\n    let attempts = 0;\n    const timer = setInterval(function(root) {\n      if (root.Bokeh !== undefined) {\n        clearInterval(timer);\n        embed_document(root);\n      } else {\n        attempts++;\n        if (attempts > 100) {\n          clearInterval(timer);\n          console.log(\"Bokeh: ERROR: Unable to run BokehJS code because BokehJS library is missing\");\n        }\n      }\n    }, 10, root)\n  }\n})(window);",
      "application/vnd.bokehjs_exec.v0+json": ""
     },
     "metadata": {
      "application/vnd.bokehjs_exec.v0+json": {
       "id": "p2904"
      }
     },
     "output_type": "display_data"
    }
   ],
   "source": [
    "figures = []\n",
    "xmin, xmax = simulated_trajectories.min(), simulated_trajectories.max()\n",
    "for octave in OCTAVES:\n",
    "    figures.append(bokeh_hist(simulated_trajectories[octave-1,:], x_range=(xmin, xmax), title= f'{octave} runs'))\n",
    "show(column(row(*figures[:2]), \n",
    "            row(*figures[2:4]),\n",
    "            row(*figures[4:6]),\n",
    "            row(*figures[6:8]),\n",
    "            row(*figures[8:10]),\n",
    "            row(*figures[10:])))"
   ]
  },
  {
   "cell_type": "code",
   "execution_count": 49,
   "metadata": {},
   "outputs": [],
   "source": [
    "\n",
    "if not Path(PKL_FILENAME).exists():\n",
    "    pickle.dump(simulated_trajectories, open(PKL_FILENAME, 'wb'))\n",
    "else:\n",
    "    results = pickle.load(open(PKL_FILENAME, 'rb'))"
   ]
  }
 ],
 "metadata": {
  "kernelspec": {
   "display_name": "nlp",
   "language": "python",
   "name": "python3"
  },
  "language_info": {
   "codemirror_mode": {
    "name": "ipython",
    "version": 3
   },
   "file_extension": ".py",
   "mimetype": "text/x-python",
   "name": "python",
   "nbconvert_exporter": "python",
   "pygments_lexer": "ipython3",
   "version": "3.12.4"
  }
 },
 "nbformat": 4,
 "nbformat_minor": 2
}
